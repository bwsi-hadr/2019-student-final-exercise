{
  "nbformat": 4,
  "nbformat_minor": 0,
  "metadata": {
    "colab": {
      "name": "Planning_Response_Phase_Facility_Flooding_and_Set_Cover_Optimization",
      "version": "0.3.2",
      "provenance": [],
      "collapsed_sections": [],
      "toc_visible": true,
      "include_colab_link": true
    },
    "kernelspec": {
      "name": "python3",
      "display_name": "Python 3"
    }
  },
  "cells": [
    {
      "cell_type": "markdown",
      "metadata": {
        "id": "view-in-github",
        "colab_type": "text"
      },
      "source": [
        "<a href=\"https://colab.research.google.com/github/bwsi-hadr/2019-student-final-exercise/blob/master/Planning_Response_Phase_Facility_Flooding_and_Set_Cover_Optimization.ipynb\" target=\"_parent\"><img src=\"https://colab.research.google.com/assets/colab-badge.svg\" alt=\"Open In Colab\"/></a>"
      ]
    },
    {
      "cell_type": "code",
      "metadata": {
        "id": "9bmz5lfibhG0",
        "colab_type": "code",
        "outputId": "ea427280-d3b2-4d66-bf94-278071c126a8",
        "colab": {
          "base_uri": "https://localhost:8080/",
          "height": 70
        }
      },
      "source": [
        "# need to specify location of some certificates for rasterio\n",
        "!export CURL_CA_BUNDLE=/etc/ssl/certs/ca-certificates.crt\n",
        "!sudo mkdir -p /etc/pki/tls/certs\n",
        "!sudo cp /etc/ssl/certs/ca-certificates.crt /etc/pki/tls/certs/ca-bundle.crt\n",
        "try:\n",
        "  import rasterio\n",
        "  import rasterio.plot\n",
        "  import rasterio.merge \n",
        "  import rasterio.mask\n",
        "except:\n",
        "  !pip install rasterio\n",
        "  import rasterio\n",
        "  import rasterio.plot\n",
        "  import rasterio.merge\n",
        "  import rasterio.mask\n",
        "  \n",
        "try:\n",
        "  import rasterstats as rs\n",
        "except:\n",
        "  !pip install rasterstats  \n",
        "  import rasterstats as rs\n",
        "  \n",
        "try:\n",
        "  import pyproj\n",
        "except:\n",
        "  !pip install pyproj\n",
        "  import pyproj\n",
        "  \n",
        "import networkx as nx\n",
        "try:\n",
        "  import osmnx as ox\n",
        "except:\n",
        "  # osmnx depends on the system package libspatialindex\n",
        "  !apt install libspatialindex-dev\n",
        "  !pip install osmnx\n",
        "  import osmnx as ox\n",
        "\n",
        "try: \n",
        "  import geopandas as gpd\n",
        "except: \n",
        "  !pip install geopandas \n",
        "  import geopandas as gpd\n",
        "  \n",
        "try:\n",
        "  import contextily as ctx \n",
        "except:\n",
        "  # install dependencies for contextily\n",
        "  !apt install libproj-dev proj-data proj-bin\n",
        "  !apt install libgeos-dev\n",
        "  !pip install cython\n",
        "  !pip install cartopy\n",
        "  # install contextily\n",
        "  !pip install contextily==1.0rc1 --no-use-pep517 --no-cache-dir\n",
        "  import contextily as ctx\n",
        "  \n",
        "import fiona\n",
        "from shapely.geometry import Point, LineString, Polygon\n",
        "  \n",
        "import gdal\n",
        "import pandas as pd\n",
        "import numpy as np\n",
        "import matplotlib.pyplot as plt\n",
        "import pathlib\n",
        "from google.colab import drive\n",
        "drive.mount('/content/drive')\n",
        "%cd /content/drive/'My Drive'/BWSI-Remote-Sensing/'Final_exercise'"
      ],
      "execution_count": 2,
      "outputs": [
        {
          "output_type": "stream",
          "text": [
            "Drive already mounted at /content/drive; to attempt to forcibly remount, call drive.mount(\"/content/drive\", force_remount=True).\n",
            "/content/drive/My Drive/BWSI-Remote-Sensing/Final_exercise\n"
          ],
          "name": "stdout"
        }
      ]
    },
    {
      "cell_type": "code",
      "metadata": {
        "id": "G5APaCHIbojw",
        "colab_type": "code",
        "outputId": "25d24384-05de-4f2e-f9a1-d323bba73f73",
        "colab": {
          "base_uri": "https://localhost:8080/",
          "height": 118
        }
      },
      "source": [
        "!ls game_grid_export"
      ],
      "execution_count": 3,
      "outputs": [
        {
          "output_type": "stream",
          "text": [
            "facilities\t      flooding.shx\t       track.cpg\n",
            "facilities_stats.csv  game_grid_all_stats.cpg  track.dbf\n",
            "flooding.cpg\t      game_grid_all_stats.dbf  track.prj\n",
            "flooding.dbf\t      game_grid_all_stats.prj  track.qpj\n",
            "flooding.prj\t      game_grid_all_stats.shp  track.shp\n",
            "flooding.shp\t      game_grid_all_stats.shx  track.shx\n"
          ],
          "name": "stdout"
        }
      ]
    },
    {
      "cell_type": "code",
      "metadata": {
        "id": "Nv4vusci5bV4",
        "colab_type": "code",
        "colab": {}
      },
      "source": [
        "flooding = gpd.read_file('game_grid_export/flooding.shp')"
      ],
      "execution_count": 0,
      "outputs": []
    },
    {
      "cell_type": "code",
      "metadata": {
        "id": "g1V4pacmb6op",
        "colab_type": "code",
        "colab": {}
      },
      "source": [
        "grid = gpd.read_file('game_grid_export/game_grid_all_stats.shp').to_crs(epsg = 3857)\n",
        "grid['centroid'] = grid['geometry'].centroid"
      ],
      "execution_count": 0,
      "outputs": []
    },
    {
      "cell_type": "code",
      "metadata": {
        "id": "yeGgnGXju24h",
        "colab_type": "code",
        "colab": {}
      },
      "source": [
        "to_m = lambda km: km * 1000"
      ],
      "execution_count": 0,
      "outputs": []
    },
    {
      "cell_type": "code",
      "metadata": {
        "id": "Rb7An9RmIVmE",
        "colab_type": "code",
        "colab": {}
      },
      "source": [
        "from shapely.geometry import MultiPolygon\n",
        "import shapely.ops as shap\n",
        "#Creates a MultiPolygon using the flood shapely file and the buffer size in meters\n",
        "def flcreate(fl, i): \n",
        "  flooding = fl.copy().to_crs(grid.crs)\n",
        "  if i == 0:\n",
        "    flood = flooding['geometry'].unary_union\n",
        "  else:\n",
        "    l = [MultiPolygon([flooding.loc[i, 'geometry'], \\\n",
        "                       flooding.loc[i + 1, 'geometry']]).convex_hull \\\n",
        "         for i in range(len(flooding) - 1)]\n",
        "    flood = shap.cascaded_union(MultiPolygon(l))\n",
        "    \n",
        "  return flood"
      ],
      "execution_count": 0,
      "outputs": []
    },
    {
      "cell_type": "code",
      "metadata": {
        "id": "t9-uSpIMiEAq",
        "colab_type": "code",
        "colab": {}
      },
      "source": [
        "#Outputs a list of facilities in the specified distance from the flood\n",
        "def uprox(mindist, maxdist, flood):\n",
        "  l = []\n",
        "  for i in range(len(fdf_idx)):\n",
        "    dist = fdf_idx.loc[i, 'geometry'].distance(flood)\n",
        "    if dist <= maxdist and dist >= mindist: #TODO: mindist <= dist <= maxdist check\n",
        "      if fdf_idx.loc[i, 'NAME'] not in l:\n",
        "        l.append(fdf_idx.loc[i, 'NAME'])\n",
        "  return l"
      ],
      "execution_count": 0,
      "outputs": []
    },
    {
      "cell_type": "code",
      "metadata": {
        "id": "dKYYPli621ve",
        "colab_type": "code",
        "colab": {}
      },
      "source": [
        "def wcalc_weight(subset, t, cost_ref, threshold):\n",
        "  s = 0\n",
        "  for cell in subset:\n",
        "    if grid.loc[cell, 'Health'] <= threshold:\n",
        "      s += grid.loc[cell, 'population']\n",
        "  w = s / cost_ref[t]\n",
        "  return w"
      ],
      "execution_count": 0,
      "outputs": []
    },
    {
      "cell_type": "code",
      "metadata": {
        "id": "1nLqj-Vx0rtQ",
        "colab_type": "code",
        "colab": {}
      },
      "source": [
        "#freq_chart = [0 for _ in range(game_grid.shape[0])]\n",
        "covered = set()\n",
        "\n",
        "def wset_cover(budget, facdict, cost_ref, threshold): #facdict = hosp_to_cells, EMS_to_cells, shelt_to_cells, fire_to_cells\n",
        "  to_ret = set()\n",
        "  while budget > 0 and len(facdict.items()) != 0:\n",
        "    max_fac, max_subset = max(facdict.items(), key = lambda tup: \\\n",
        "                               wcalc_weight(tup[1], tup[0][1], cost_ref, threshold))\n",
        "#     if wcalc_weight(max_subset, max_fac[1], cost_ref, threshold) == 0:\n",
        "#       max_fac, max_subset = max(facdict.items(), key = lambda tup: \\\n",
        "#                                calc_weight(tup[1], tup[0][1], cost_ref))\n",
        "    \n",
        "#Set cover could be wrong because of overlapping areas\n",
        "#    for cell in max_subset:\n",
        "#      freq_chart[cell] += 1\n",
        "#       if freq_chart[cell] == 2:\n",
        "#         done.add(cell)\n",
        "    \n",
        "    budget -= cost_ref[max_fac[1]]\n",
        "    to_ret.add(max_fac)\n",
        "    \n",
        "    for key in facdict:\n",
        "      facdict[key] -= max_subset\n",
        "    del facdict[max_fac]\n",
        "    \n",
        "  return to_ret"
      ],
      "execution_count": 0,
      "outputs": []
    },
    {
      "cell_type": "code",
      "metadata": {
        "id": "k0Mm1sux1Y4c",
        "colab_type": "code",
        "colab": {}
      },
      "source": [
        "#costs is a list of costs in the order of large hospitals, small hospitals\n",
        "#large EMS, small EMS, shelters, and fire stations\n",
        "def wuoptfac (costs, budget, fac_info, threshold = 6):\n",
        "  large_hos_cost = costs[0]\n",
        "  small_hos_cost = costs[1]\n",
        "  large_ems_cost = costs[2]\n",
        "  small_ems_cost = costs[3]\n",
        "  shelter_cost = costs[4]\n",
        "  fstation_cost = costs[5]\n",
        "\n",
        "  cost_ref = {'smallhosp': small_hos_cost, 'largehosp': large_hos_cost, \\\n",
        "              'smallEMS': small_ems_cost, 'largeEMS': large_ems_cost, \\\n",
        "              'shelter': shelter_cost, 'fstation': fstation_cost}\n",
        "  fac_to_cells = {}\n",
        "  for i, row in fac_info.iterrows():\n",
        "    fac_name = row[\"NAME\"]\n",
        "    f = ''\n",
        "    if row['type'] == \"small hospital\":\n",
        "      f = 'smallhosp'\n",
        "    elif row['type'] == \"large hospital\":\n",
        "      f = 'largehosp'\n",
        "    elif row['type'] == \"small EMS\":\n",
        "      f = 'smallEMS'\n",
        "    elif row['type'] == \"large EMS\":\n",
        "      f = 'largeEMS'\n",
        "    elif row['type'] == \"shelter\":\n",
        "      f = 'shelter'\n",
        "    elif row['type'] == \"fire station\":\n",
        "      f = 'fstation'\n",
        "    else:\n",
        "      return 'no'\n",
        "    if (fac_name, f) not in fac_to_cells:\n",
        "      fac_to_cells[(fac_name, f)] = {i}\n",
        "    else:\n",
        "      fac_to_cells[(fac_name, f)].add(i)\n",
        "  \n",
        "  return wset_cover(budget, fac_to_cells, cost_ref, threshold)\n",
        "    "
      ],
      "execution_count": 0,
      "outputs": []
    },
    {
      "cell_type": "code",
      "metadata": {
        "id": "uR_pqXL47kY_",
        "colab_type": "code",
        "colab": {}
      },
      "source": [
        "def wuabracadabra(costs, budget, mindist, maxdist, fl = flooding, graph_type = 0, threshold = 6):\n",
        "  l = uprox(mindist, maxdist, flcreate(fl, graph_type))\n",
        "\n",
        "  x = wuoptfac(costs, budget, fdf_info.loc[fdf_info['NAME'].isin(l)], threshold)\n",
        "  l = [i[0] for i in x]\n",
        "  \n",
        "  return alpha_fdf.loc[l]"
      ],
      "execution_count": 0,
      "outputs": []
    },
    {
      "cell_type": "code",
      "metadata": {
        "id": "8VWWvL3fE3oY",
        "colab_type": "code",
        "colab": {}
      },
      "source": [
        "#Input the current grid\n",
        "def main(grid, flooding, costs, budget, mindist, maxdist, graph_type, threshold):\n",
        "  #Hospitals\n",
        "  hospital_grid = gpd.read_file('game_grid_export/facilities/hospitals.shp').to_crs(grid.crs)\n",
        "  hospital_grid.loc[hospital_grid.loc[:, 'BEDS'] >= 200, 'radius'] = 25\n",
        "  hospital_grid.loc[hospital_grid.loc[:, 'BEDS'] < 200, 'radius'] = 15\n",
        "  hospital_grid.loc[hospital_grid.loc[:, 'BEDS'] >= 200, 'type'] = \"large hospital\"\n",
        "  hospital_grid.loc[hospital_grid.loc[:, 'BEDS'] < 200, 'type'] = \"small hospital\"\n",
        "  hospital_grid['health'] = 2\n",
        "\n",
        "  big_hospitals=hospital_grid[hospital_grid['BEDS']>=200].to_crs(grid.crs)\n",
        "  small_hospitals=hospital_grid[hospital_grid['BEDS']<200].to_crs(grid.crs)\n",
        "  hospitals_buffered = hospital_grid.copy().to_crs(grid.crs)\n",
        "  hospitals_buffered.loc[big_hospitals.index, 'geometry'] = hospitals_buffered.loc[big_hospitals.index,'geometry'].buffer(to_m(25))\n",
        "  hospitals_buffered.loc[small_hospitals.index, 'geometry'] = hospitals_buffered.loc[small_hospitals.index,'geometry'].buffer(to_m(15))\n",
        "  hospitals_buffered['centroid'] = hospitals_buffered['geometry'].centroid\n",
        "\n",
        "  hosp_info = gpd.sjoin(grid, hospitals_buffered, how = 'inner', op = 'intersects')\n",
        "  hosp_infopop = hosp_info.groupby('NAME').sum()\n",
        "\n",
        "  alpha_hosp = hospitals_buffered.sort_values('NAME').set_index('NAME')\n",
        "  alpha_hosp['population'] = hosp_infopop['population'].values\n",
        "  hosp_idx = alpha_hosp.reset_index()\n",
        "\n",
        "  #EMS\n",
        "  EMS_grid = gpd.read_file('game_grid_export/facilities/EMS.shp').to_crs(grid.crs)\n",
        "  EMS_grid.loc[EMS_grid.loc[:, 'TOTAL_VEHI'] >= 5, 'radius'] = 15\n",
        "  EMS_grid.loc[EMS_grid.loc[:, 'TOTAL_VEHI'] < 5, 'radius'] = 10\n",
        "  EMS_grid.loc[EMS_grid.loc[:, 'TOTAL_VEHI'] >= 5, 'type'] = \"large EMS\"\n",
        "  EMS_grid.loc[EMS_grid.loc[:, 'TOTAL_VEHI'] < 5, 'type'] = \"small EMS\"\n",
        "  EMS_grid['health'] = 1\n",
        "\n",
        "  big_EMS=EMS_grid[EMS_grid['TOTAL_VEHI']>=5].to_crs(grid.crs)\n",
        "  small_EMS=EMS_grid[EMS_grid['TOTAL_VEHI']<5].to_crs(grid.crs)\n",
        "  EMS_buffered = EMS_grid.copy().to_crs(grid.crs)\n",
        "  EMS_buffered.loc[big_EMS.index, 'geometry'] = EMS_buffered.loc[big_EMS.index,'geometry'].buffer(to_m(15))\n",
        "  EMS_buffered.loc[small_EMS.index, 'geometry'] = EMS_buffered.loc[small_EMS.index,'geometry'].buffer(to_m(10))\n",
        "  EMS_buffered['centroid'] = EMS_buffered['geometry'].centroid\n",
        "\n",
        "  EMS_info = gpd.sjoin(grid, EMS_buffered, how = 'inner', op = 'intersects')\n",
        "  EMS_infopop = EMS_info.groupby('NAME').sum()\n",
        "\n",
        "  alpha_EMS = EMS_buffered.sort_values('NAME').set_index('NAME')\n",
        "  alpha_EMS = alpha_EMS.loc[~alpha_EMS.index.duplicated(keep='first')]\n",
        "  alpha_EMS.loc[EMS_infopop.index,'population'] = EMS_infopop['population'].values\n",
        "  alpha_EMS = alpha_EMS.dropna(subset=['population'])\n",
        "  EMS_idx = alpha_EMS.reset_index()\n",
        "\n",
        "  #Shelters\n",
        "  shelt_grid = gpd.read_file('game_grid_export/facilities/shelters.shp').to_crs(grid.crs)\n",
        "  shelt_grid['radius'] = 3\n",
        "  shelt_grid['type'] = \"shelter\"\n",
        "  shelt_grid['health'] = 1\n",
        "  shelt_buffered = shelt_grid.copy().to_crs(grid.crs)\n",
        "  shelt_buffered['geometry'] = shelt_buffered['geometry'].buffer(to_m(3))\n",
        "  shelt_buffered['centroid'] = shelt_buffered['geometry'].centroid\n",
        "\n",
        "  shelt_info = gpd.sjoin(grid, shelt_buffered, how = 'inner', op = 'intersects')\n",
        "  shelt_infopop = shelt_info.groupby('NAME').sum()\n",
        "\n",
        "  alpha_shelt = shelt_buffered.sort_values('NAME').set_index('NAME')\n",
        "  alpha_shelt = alpha_shelt.loc[~alpha_shelt.index.duplicated(keep='first')]\n",
        "  alpha_shelt.loc[shelt_infopop.index,'population'] = shelt_infopop['population'].values\n",
        "  alpha_shelt = alpha_shelt.dropna(subset=['population'])\n",
        "  shelt_idx = alpha_shelt.reset_index()\n",
        "\n",
        "  #Fire Stations\n",
        "  fire_grid = gpd.read_file('game_grid_export/facilities/fire_stations.shp').to_crs(grid.crs)\n",
        "  fire_grid['radius'] = 15\n",
        "  fire_grid['type'] = \"fire station\"\n",
        "  fire_grid['health'] = 1\n",
        "  fire_buffered = fire_grid.copy().to_crs(grid.crs)\n",
        "  fire_buffered['geometry'] = fire_buffered['geometry'].buffer(to_m(15))\n",
        "  fire_buffered['centroid'] = fire_buffered['geometry'].centroid\n",
        "\n",
        "  fire_info = gpd.sjoin(grid, fire_buffered, how = 'inner', op = 'intersects')\n",
        "  fire_infopop = fire_info.groupby('NAME').sum()\n",
        "\n",
        "  alpha_fire = fire_buffered.sort_values('NAME').set_index('NAME')\n",
        "  alpha_fire = alpha_fire.loc[~alpha_fire.index.duplicated(keep='first')]\n",
        "  alpha_fire.loc[fire_infopop.index,'population'] = fire_infopop['population'].values\n",
        "  alpha_fire = alpha_fire.dropna(subset=['population'])\n",
        "  fire_idx = alpha_fire.reset_index()\n",
        "\n",
        "  #Congregation\n",
        "  col = ['NAME', 'ID', 'geometry', 'radius', 'population', 'centroid', 'type', 'health']\n",
        "  hospfac = gpd.GeoDataFrame(columns = col)\n",
        "  EMSfac = gpd.GeoDataFrame(columns = col)\n",
        "  sheltfac = gpd.GeoDataFrame(columns = col)\n",
        "  firefac = gpd.GeoDataFrame(columns = col)\n",
        "\n",
        "\n",
        "  for i in col:\n",
        "    hospfac[i] = hosp_idx[i]\n",
        "    EMSfac[i] = EMS_idx[i]\n",
        "    sheltfac[i] = shelt_idx[i]\n",
        "    firefac[i] = fire_idx[i]\n",
        "\n",
        "  facdf = gpd.GeoDataFrame(columns = col)\n",
        "  fdf = facdf.append([hospfac, EMSfac, sheltfac, firefac])\n",
        "  alpha_fdf = fdf.sort_values('NAME').set_index('NAME')\n",
        "  fdf_idx = alpha_fdf.reset_index()\n",
        "  \n",
        "  fdf_info = gpd.sjoin(grid, fdf, how = 'inner', op = 'intersects')\n",
        "  \n",
        "  #wuabracadabra\n",
        "  return wuabracadabra(costs, budget, mindist, maxdist, flooding, graph_type, threshold)\n",
        "\n",
        "  "
      ],
      "execution_count": 0,
      "outputs": []
    },
    {
      "cell_type": "code",
      "metadata": {
        "id": "080v8dHKIExg",
        "colab_type": "code",
        "colab": {
          "base_uri": "https://localhost:8080/",
          "height": 374
        },
        "outputId": "6c49630f-7696-4b95-e731-0b4e16baf47d"
      },
      "source": [
        "main(grid, flooding, [100, 50, 50, 25, 10, 15], 2000, 0, 1000, 0, 6)"
      ],
      "execution_count": 16,
      "outputs": [
        {
          "output_type": "stream",
          "text": [
            "/usr/local/lib/python3.6/dist-packages/geopandas/tools/sjoin.py:56: UserWarning: CRS of frames being joined does not match!({'init': 'epsg:3857', 'no_defs': True} != None)\n",
            "  '(%s != %s)' % (left_df.crs, right_df.crs))\n",
            "TopologyException: Input geom 0 is invalid: Ring Self-intersection at or near point -7792293.4000208694 5061944.7765096286 at -7792293.4000208694 5061944.7765096286\n"
          ],
          "name": "stderr"
        },
        {
          "output_type": "error",
          "ename": "ValueError",
          "evalue": "ignored",
          "traceback": [
            "\u001b[0;31m---------------------------------------------------------------------------\u001b[0m",
            "\u001b[0;31mValueError\u001b[0m                                Traceback (most recent call last)",
            "\u001b[0;32m<ipython-input-16-df6f4cd51fbc>\u001b[0m in \u001b[0;36m<module>\u001b[0;34m()\u001b[0m\n\u001b[0;32m----> 1\u001b[0;31m \u001b[0mmain\u001b[0m\u001b[0;34m(\u001b[0m\u001b[0mgrid\u001b[0m\u001b[0;34m,\u001b[0m \u001b[0mflooding\u001b[0m\u001b[0;34m,\u001b[0m \u001b[0;34m[\u001b[0m\u001b[0;36m100\u001b[0m\u001b[0;34m,\u001b[0m \u001b[0;36m50\u001b[0m\u001b[0;34m,\u001b[0m \u001b[0;36m50\u001b[0m\u001b[0;34m,\u001b[0m \u001b[0;36m25\u001b[0m\u001b[0;34m,\u001b[0m \u001b[0;36m10\u001b[0m\u001b[0;34m,\u001b[0m \u001b[0;36m15\u001b[0m\u001b[0;34m]\u001b[0m\u001b[0;34m,\u001b[0m \u001b[0;36m2000\u001b[0m\u001b[0;34m,\u001b[0m \u001b[0;36m0\u001b[0m\u001b[0;34m,\u001b[0m \u001b[0;36m1000\u001b[0m\u001b[0;34m,\u001b[0m \u001b[0;36m0\u001b[0m\u001b[0;34m,\u001b[0m \u001b[0;36m6\u001b[0m\u001b[0;34m)\u001b[0m\u001b[0;34m\u001b[0m\u001b[0;34m\u001b[0m\u001b[0m\n\u001b[0m",
            "\u001b[0;32m<ipython-input-15-647cbdafd021>\u001b[0m in \u001b[0;36mmain\u001b[0;34m(grid, flooding, costs, budget, mindist, maxdist, graph_type, threshold)\u001b[0m\n\u001b[1;32m    104\u001b[0m \u001b[0;34m\u001b[0m\u001b[0m\n\u001b[1;32m    105\u001b[0m   \u001b[0;31m#wuabracadabra\u001b[0m\u001b[0;34m\u001b[0m\u001b[0;34m\u001b[0m\u001b[0;34m\u001b[0m\u001b[0m\n\u001b[0;32m--> 106\u001b[0;31m   \u001b[0;32mreturn\u001b[0m \u001b[0mwuabracadabra\u001b[0m\u001b[0;34m(\u001b[0m\u001b[0mcosts\u001b[0m\u001b[0;34m,\u001b[0m \u001b[0mbudget\u001b[0m\u001b[0;34m,\u001b[0m \u001b[0mmindist\u001b[0m\u001b[0;34m,\u001b[0m \u001b[0mmaxdist\u001b[0m\u001b[0;34m,\u001b[0m \u001b[0mflooding\u001b[0m\u001b[0;34m,\u001b[0m \u001b[0mgraph_type\u001b[0m\u001b[0;34m,\u001b[0m \u001b[0mthreshold\u001b[0m\u001b[0;34m)\u001b[0m\u001b[0;34m\u001b[0m\u001b[0;34m\u001b[0m\u001b[0m\n\u001b[0m\u001b[1;32m    107\u001b[0m \u001b[0;34m\u001b[0m\u001b[0m\n\u001b[1;32m    108\u001b[0m \u001b[0;34m\u001b[0m\u001b[0m\n",
            "\u001b[0;32m<ipython-input-14-9dd0ad188278>\u001b[0m in \u001b[0;36mwuabracadabra\u001b[0;34m(costs, budget, mindist, maxdist, fl, graph_type, threshold)\u001b[0m\n\u001b[1;32m      1\u001b[0m \u001b[0;32mdef\u001b[0m \u001b[0mwuabracadabra\u001b[0m\u001b[0;34m(\u001b[0m\u001b[0mcosts\u001b[0m\u001b[0;34m,\u001b[0m \u001b[0mbudget\u001b[0m\u001b[0;34m,\u001b[0m \u001b[0mmindist\u001b[0m\u001b[0;34m,\u001b[0m \u001b[0mmaxdist\u001b[0m\u001b[0;34m,\u001b[0m \u001b[0mfl\u001b[0m \u001b[0;34m=\u001b[0m \u001b[0mflooding\u001b[0m\u001b[0;34m,\u001b[0m \u001b[0mgraph_type\u001b[0m \u001b[0;34m=\u001b[0m \u001b[0;36m0\u001b[0m\u001b[0;34m,\u001b[0m \u001b[0mthreshold\u001b[0m \u001b[0;34m=\u001b[0m \u001b[0;36m6\u001b[0m\u001b[0;34m)\u001b[0m\u001b[0;34m:\u001b[0m\u001b[0;34m\u001b[0m\u001b[0;34m\u001b[0m\u001b[0m\n\u001b[0;32m----> 2\u001b[0;31m   \u001b[0ml\u001b[0m \u001b[0;34m=\u001b[0m \u001b[0muprox\u001b[0m\u001b[0;34m(\u001b[0m\u001b[0mmindist\u001b[0m\u001b[0;34m,\u001b[0m \u001b[0mmaxdist\u001b[0m\u001b[0;34m,\u001b[0m \u001b[0mflcreate\u001b[0m\u001b[0;34m(\u001b[0m\u001b[0mfl\u001b[0m\u001b[0;34m,\u001b[0m \u001b[0mgraph_type\u001b[0m\u001b[0;34m)\u001b[0m\u001b[0;34m)\u001b[0m\u001b[0;34m\u001b[0m\u001b[0;34m\u001b[0m\u001b[0m\n\u001b[0m\u001b[1;32m      3\u001b[0m \u001b[0;34m\u001b[0m\u001b[0m\n\u001b[1;32m      4\u001b[0m   \u001b[0mx\u001b[0m \u001b[0;34m=\u001b[0m \u001b[0mwuoptfac\u001b[0m\u001b[0;34m(\u001b[0m\u001b[0mcosts\u001b[0m\u001b[0;34m,\u001b[0m \u001b[0mbudget\u001b[0m\u001b[0;34m,\u001b[0m \u001b[0mfdf_info\u001b[0m\u001b[0;34m.\u001b[0m\u001b[0mloc\u001b[0m\u001b[0;34m[\u001b[0m\u001b[0mfdf_info\u001b[0m\u001b[0;34m[\u001b[0m\u001b[0;34m'NAME'\u001b[0m\u001b[0;34m]\u001b[0m\u001b[0;34m.\u001b[0m\u001b[0misin\u001b[0m\u001b[0;34m(\u001b[0m\u001b[0ml\u001b[0m\u001b[0;34m)\u001b[0m\u001b[0;34m]\u001b[0m\u001b[0;34m,\u001b[0m \u001b[0mthreshold\u001b[0m\u001b[0;34m)\u001b[0m\u001b[0;34m\u001b[0m\u001b[0;34m\u001b[0m\u001b[0m\n\u001b[1;32m      5\u001b[0m   \u001b[0ml\u001b[0m \u001b[0;34m=\u001b[0m \u001b[0;34m[\u001b[0m\u001b[0mi\u001b[0m\u001b[0;34m[\u001b[0m\u001b[0;36m0\u001b[0m\u001b[0;34m]\u001b[0m \u001b[0;32mfor\u001b[0m \u001b[0mi\u001b[0m \u001b[0;32min\u001b[0m \u001b[0mx\u001b[0m\u001b[0;34m]\u001b[0m\u001b[0;34m\u001b[0m\u001b[0;34m\u001b[0m\u001b[0m\n",
            "\u001b[0;32m<ipython-input-7-ec6badf8549a>\u001b[0m in \u001b[0;36mflcreate\u001b[0;34m(fl, i)\u001b[0m\n\u001b[1;32m      5\u001b[0m   \u001b[0mflooding\u001b[0m \u001b[0;34m=\u001b[0m \u001b[0mfl\u001b[0m\u001b[0;34m.\u001b[0m\u001b[0mcopy\u001b[0m\u001b[0;34m(\u001b[0m\u001b[0;34m)\u001b[0m\u001b[0;34m.\u001b[0m\u001b[0mto_crs\u001b[0m\u001b[0;34m(\u001b[0m\u001b[0mgrid\u001b[0m\u001b[0;34m.\u001b[0m\u001b[0mcrs\u001b[0m\u001b[0;34m)\u001b[0m\u001b[0;34m\u001b[0m\u001b[0;34m\u001b[0m\u001b[0m\n\u001b[1;32m      6\u001b[0m   \u001b[0;32mif\u001b[0m \u001b[0mi\u001b[0m \u001b[0;34m==\u001b[0m \u001b[0;36m0\u001b[0m\u001b[0;34m:\u001b[0m\u001b[0;34m\u001b[0m\u001b[0;34m\u001b[0m\u001b[0m\n\u001b[0;32m----> 7\u001b[0;31m     \u001b[0mflood\u001b[0m \u001b[0;34m=\u001b[0m \u001b[0mflooding\u001b[0m\u001b[0;34m[\u001b[0m\u001b[0;34m'geometry'\u001b[0m\u001b[0;34m]\u001b[0m\u001b[0;34m.\u001b[0m\u001b[0munary_union\u001b[0m\u001b[0;34m\u001b[0m\u001b[0;34m\u001b[0m\u001b[0m\n\u001b[0m\u001b[1;32m      8\u001b[0m   \u001b[0;32melse\u001b[0m\u001b[0;34m:\u001b[0m\u001b[0;34m\u001b[0m\u001b[0;34m\u001b[0m\u001b[0m\n\u001b[1;32m      9\u001b[0m     \u001b[0ml\u001b[0m \u001b[0;34m=\u001b[0m \u001b[0;34m[\u001b[0m\u001b[0mMultiPolygon\u001b[0m\u001b[0;34m(\u001b[0m\u001b[0;34m[\u001b[0m\u001b[0mflooding\u001b[0m\u001b[0;34m.\u001b[0m\u001b[0mloc\u001b[0m\u001b[0;34m[\u001b[0m\u001b[0mi\u001b[0m\u001b[0;34m,\u001b[0m \u001b[0;34m'geometry'\u001b[0m\u001b[0;34m]\u001b[0m\u001b[0;34m,\u001b[0m                        \u001b[0mflooding\u001b[0m\u001b[0;34m.\u001b[0m\u001b[0mloc\u001b[0m\u001b[0;34m[\u001b[0m\u001b[0mi\u001b[0m \u001b[0;34m+\u001b[0m \u001b[0;36m1\u001b[0m\u001b[0;34m,\u001b[0m \u001b[0;34m'geometry'\u001b[0m\u001b[0;34m]\u001b[0m\u001b[0;34m]\u001b[0m\u001b[0;34m)\u001b[0m\u001b[0;34m.\u001b[0m\u001b[0mconvex_hull\u001b[0m          \u001b[0;32mfor\u001b[0m \u001b[0mi\u001b[0m \u001b[0;32min\u001b[0m \u001b[0mrange\u001b[0m\u001b[0;34m(\u001b[0m\u001b[0mlen\u001b[0m\u001b[0;34m(\u001b[0m\u001b[0mflooding\u001b[0m\u001b[0;34m)\u001b[0m \u001b[0;34m-\u001b[0m \u001b[0;36m1\u001b[0m\u001b[0;34m)\u001b[0m\u001b[0;34m]\u001b[0m\u001b[0;34m\u001b[0m\u001b[0;34m\u001b[0m\u001b[0m\n",
            "\u001b[0;32m/usr/local/lib/python3.6/dist-packages/geopandas/base.py\u001b[0m in \u001b[0;36munary_union\u001b[0;34m(self)\u001b[0m\n\u001b[1;32m    296\u001b[0m         \"\"\"Returns a geometry containing the union of all geometries in the\n\u001b[1;32m    297\u001b[0m         ``GeoSeries``.\"\"\"\n\u001b[0;32m--> 298\u001b[0;31m         \u001b[0;32mreturn\u001b[0m \u001b[0munary_union\u001b[0m\u001b[0;34m(\u001b[0m\u001b[0mself\u001b[0m\u001b[0;34m.\u001b[0m\u001b[0mgeometry\u001b[0m\u001b[0;34m.\u001b[0m\u001b[0mvalues\u001b[0m\u001b[0;34m)\u001b[0m\u001b[0;34m\u001b[0m\u001b[0;34m\u001b[0m\u001b[0m\n\u001b[0m\u001b[1;32m    299\u001b[0m \u001b[0;34m\u001b[0m\u001b[0m\n\u001b[1;32m    300\u001b[0m     \u001b[0;31m#\u001b[0m\u001b[0;34m\u001b[0m\u001b[0;34m\u001b[0m\u001b[0;34m\u001b[0m\u001b[0m\n",
            "\u001b[0;32m/usr/local/lib/python3.6/dist-packages/shapely/ops.py\u001b[0m in \u001b[0;36munary_union\u001b[0;34m(self, geoms)\u001b[0m\n\u001b[1;32m    147\u001b[0m             \u001b[0msubs\u001b[0m\u001b[0;34m[\u001b[0m\u001b[0mi\u001b[0m\u001b[0;34m]\u001b[0m \u001b[0;34m=\u001b[0m \u001b[0mg\u001b[0m\u001b[0;34m.\u001b[0m\u001b[0m_geom\u001b[0m\u001b[0;34m\u001b[0m\u001b[0;34m\u001b[0m\u001b[0m\n\u001b[1;32m    148\u001b[0m         \u001b[0mcollection\u001b[0m \u001b[0;34m=\u001b[0m \u001b[0mlgeos\u001b[0m\u001b[0;34m.\u001b[0m\u001b[0mGEOSGeom_createCollection\u001b[0m\u001b[0;34m(\u001b[0m\u001b[0;36m6\u001b[0m\u001b[0;34m,\u001b[0m \u001b[0msubs\u001b[0m\u001b[0;34m,\u001b[0m \u001b[0mL\u001b[0m\u001b[0;34m)\u001b[0m\u001b[0;34m\u001b[0m\u001b[0;34m\u001b[0m\u001b[0m\n\u001b[0;32m--> 149\u001b[0;31m         \u001b[0;32mreturn\u001b[0m \u001b[0mgeom_factory\u001b[0m\u001b[0;34m(\u001b[0m\u001b[0mlgeos\u001b[0m\u001b[0;34m.\u001b[0m\u001b[0mmethods\u001b[0m\u001b[0;34m[\u001b[0m\u001b[0;34m'unary_union'\u001b[0m\u001b[0;34m]\u001b[0m\u001b[0;34m(\u001b[0m\u001b[0mcollection\u001b[0m\u001b[0;34m)\u001b[0m\u001b[0;34m)\u001b[0m\u001b[0;34m\u001b[0m\u001b[0;34m\u001b[0m\u001b[0m\n\u001b[0m\u001b[1;32m    150\u001b[0m \u001b[0;34m\u001b[0m\u001b[0m\n\u001b[1;32m    151\u001b[0m \u001b[0moperator\u001b[0m \u001b[0;34m=\u001b[0m \u001b[0mCollectionOperator\u001b[0m\u001b[0;34m(\u001b[0m\u001b[0;34m)\u001b[0m\u001b[0;34m\u001b[0m\u001b[0;34m\u001b[0m\u001b[0m\n",
            "\u001b[0;32m/usr/local/lib/python3.6/dist-packages/shapely/geometry/base.py\u001b[0m in \u001b[0;36mgeom_factory\u001b[0;34m(g, parent)\u001b[0m\n\u001b[1;32m     74\u001b[0m     \u001b[0;31m# Abstract geometry factory for use with topological methods below\u001b[0m\u001b[0;34m\u001b[0m\u001b[0;34m\u001b[0m\u001b[0;34m\u001b[0m\u001b[0m\n\u001b[1;32m     75\u001b[0m     \u001b[0;32mif\u001b[0m \u001b[0;32mnot\u001b[0m \u001b[0mg\u001b[0m\u001b[0;34m:\u001b[0m\u001b[0;34m\u001b[0m\u001b[0;34m\u001b[0m\u001b[0m\n\u001b[0;32m---> 76\u001b[0;31m         \u001b[0;32mraise\u001b[0m \u001b[0mValueError\u001b[0m\u001b[0;34m(\u001b[0m\u001b[0;34m\"No Shapely geometry can be created from null value\"\u001b[0m\u001b[0;34m)\u001b[0m\u001b[0;34m\u001b[0m\u001b[0;34m\u001b[0m\u001b[0m\n\u001b[0m\u001b[1;32m     77\u001b[0m     \u001b[0mob\u001b[0m \u001b[0;34m=\u001b[0m \u001b[0mBaseGeometry\u001b[0m\u001b[0;34m(\u001b[0m\u001b[0;34m)\u001b[0m\u001b[0;34m\u001b[0m\u001b[0;34m\u001b[0m\u001b[0m\n\u001b[1;32m     78\u001b[0m     \u001b[0mgeom_type\u001b[0m \u001b[0;34m=\u001b[0m \u001b[0mgeometry_type_name\u001b[0m\u001b[0;34m(\u001b[0m\u001b[0mg\u001b[0m\u001b[0;34m)\u001b[0m\u001b[0;34m\u001b[0m\u001b[0;34m\u001b[0m\u001b[0m\n",
            "\u001b[0;31mValueError\u001b[0m: No Shapely geometry can be created from null value"
          ]
        }
      ]
    },
    {
      "cell_type": "code",
      "metadata": {
        "id": "mzXToFKmKp1f",
        "colab_type": "code",
        "colab": {}
      },
      "source": [
        ""
      ],
      "execution_count": 0,
      "outputs": []
    }
  ]
}