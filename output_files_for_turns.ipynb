{
  "nbformat": 4,
  "nbformat_minor": 0,
  "metadata": {
    "colab": {
      "name": "output files for turns.ipynb",
      "version": "0.3.2",
      "provenance": [],
      "collapsed_sections": [],
      "include_colab_link": true
    },
    "kernelspec": {
      "name": "python3",
      "display_name": "Python 3"
    }
  },
  "cells": [
    {
      "cell_type": "markdown",
      "metadata": {
        "id": "view-in-github",
        "colab_type": "text"
      },
      "source": [
        "<a href=\"https://colab.research.google.com/github/bwsi-hadr/2019-student-final-exercise/blob/master/output_files_for_turns.ipynb\" target=\"_parent\"><img src=\"https://colab.research.google.com/assets/colab-badge.svg\" alt=\"Open In Colab\"/></a>"
      ]
    },
    {
      "cell_type": "code",
      "metadata": {
        "id": "94TcKJBXnHAC",
        "colab_type": "code",
        "outputId": "8136d5a1-6aa9-422a-e95f-851ba7fc8098",
        "colab": {
          "base_uri": "https://localhost:8080/",
          "height": 73
        }
      },
      "source": [
        "!export CURL_CA_BUNDLE=/etc/ssl/certs/ca-certificates.crt\n",
        "!sudo mkdir -p /etc/pki/tls/certs\n",
        "!sudo cp /etc/ssl/certs/ca-certificates.crt /etc/pki/tls/certs/ca-bundle.crt\n",
        "try:\n",
        "  import rasterio\n",
        "  import rasterio.plot\n",
        "  import rasterio.merge \n",
        "  import rasterio.mask\n",
        "except:\n",
        "  !pip install rasterio\n",
        "  import rasterio\n",
        "  import rasterio.plot\n",
        "  import rasterio.merge\n",
        "  import rasterio.mask\n",
        "  \n",
        "try:\n",
        "  import rasterstats as rs\n",
        "except:\n",
        "  !pip install rasterstats  \n",
        "  import rasterstats as rs\n",
        "  \n",
        "try:\n",
        "  import pyproj\n",
        "except:\n",
        "  !pip install pyproj\n",
        "  import pyproj\n",
        "  \n",
        "import networkx as nx\n",
        "try:\n",
        "  import osmnx as ox\n",
        "except:\n",
        "  # osmnx depends on the system package libspatialindex\n",
        "  !apt install libspatialindex-dev\n",
        "  !pip install osmnx\n",
        "  import osmnx as ox\n",
        "\n",
        "try: \n",
        "  import geopandas as gpd\n",
        "except: \n",
        "  !pip install geopandas \n",
        "  import geopandas as gpd\n",
        "  \n",
        "try:\n",
        "  import contextily as ctx \n",
        "except:\n",
        "  # install dependencies for contextily\n",
        "  !apt install libproj-dev proj-data proj-bin\n",
        "  !apt install libgeos-dev\n",
        "  !pip install cython\n",
        "  !pip install cartopy\n",
        "  # install contextily\n",
        "  !pip install contextily==1.0rc1 --no-use-pep517 --no-cache-dir\n",
        "  import contextily as ctx\n",
        "  \n",
        "import fiona\n",
        "from shapely.geometry import Point, LineString, Polygon\n",
        "  \n",
        "import gdal\n",
        "import pandas as pd\n",
        "import numpy as np\n",
        "import csv\n",
        "import matplotlib.pyplot as plt\n",
        "import pathlib\n",
        "from google.colab import drive\n",
        "drive.mount('/content/drive')\n",
        "%cd /content/drive/'My Drive'/BWSI-Remote-Sensing/'Final_exercise'/'game1'/prep_turn_0"
      ],
      "execution_count": 16,
      "outputs": [
        {
          "output_type": "stream",
          "text": [
            "Drive already mounted at /content/drive; to attempt to forcibly remount, call drive.mount(\"/content/drive\", force_remount=True).\n",
            "/content/drive/My Drive/BWSI-Remote-Sensing/Final_exercise/game1/prep_turn_0\n"
          ],
          "name": "stdout"
        }
      ]
    },
    {
      "cell_type": "code",
      "metadata": {
        "id": "sR54d2NPl1Ad",
        "colab_type": "code",
        "colab": {}
      },
      "source": [
        "global add_supply\n",
        "def reset_supply():\n",
        "  global add_supply\n",
        "  add_supply = pd.DataFrame(columns=['objectid','type','food_water','medicine','fuel'])\n",
        "def init_supply():\n",
        "  global add_supply\n",
        "  add_supply.loc[0,'objectid']=0\n",
        "  add_supply.fillna(0)\n",
        "def unpack_powerplants(locations):\n",
        "  global add_supply\n",
        "  #with open('resources.csv','w+') as f:\n",
        "    #filew = csv.writer(f,delimiter=',')\n",
        "    #filew.writerow(['objectid','type','food_water','medicine','fuel'])\n",
        "  for i,idx in enumerate(locations):\n",
        "        #filew.writerow([idx,'airfield',0,0,300])\n",
        "    add_supply.loc[idx, 'type']='power_plant'\n",
        "    add_supply.loc[idx, 'food_water']=0\n",
        "    add_supply.loc[idx, 'medicine']=0\n",
        "    add_supply.loc[idx, 'fuel']=300\n",
        "    add_supply.loc[idx, 'objectid']=idx\n",
        "      #existing.append(add_supply).to_csv(f)\n",
        "      #reset_supply()\n",
        "def unpack_airfields(locations):\n",
        "  global add_supply\n",
        "  #with open('resources.csv','w+') as f:\n",
        "    #filew = csv.writer(f,delimiter=',')\n",
        "    #filew.writerow(['objectid','type','food_water','medicine','fuel'])\n",
        "  for i,idx in enumerate(locations):\n",
        "    #filew.writerow([idx,'airfield',0,0,300])\n",
        "    add_supply.loc[idx, 'type']='airfield'\n",
        "    add_supply.loc[idx, 'food_water']=0\n",
        "    add_supply.loc[idx, 'medicine']=0\n",
        "    add_supply.loc[idx, 'fuel']=90\n",
        "    add_supply.loc[idx, 'objectid']=idx\n",
        "    #existing.append(add_supply).to_csv(f)\n",
        "    #reset_supply()\n",
        "def add_resources(destind, desttype, foodwater, medicine, fuel):\n",
        "  global add_supply\n",
        "  add_supply.loc[destind, 'type'] = desttype\n",
        "  add_supply = add_supply.fillna(0)\n",
        "  print(add_supply)\n",
        "  add_supply.loc[destind, 'food_water'] += foodwater\n",
        "  add_supply.loc[destind, 'medicine'] += medicine\n",
        "  add_supply.loc[destind, 'fuel'] += fuel\n",
        "  add_supply.loc[destind, 'objectid'] = destind\n",
        "    #existing.append(add_supply).to_csv(f)\n",
        "    #reset_supply()\n",
        "def finalize(exist):\n",
        "  global add_supply\n",
        "  if exist:\n",
        "    existing = pd.DataFrame.from_csv('resources.csv')\n",
        "    new = existing.append(add_supply).fillna(0)\n",
        "    new.to_csv('resources.csv')\n",
        "    print(new)\n",
        "    reset_supply()\n",
        "  else:\n",
        "    add_supply.copy().to_csv('resources.csv')\n",
        "    reset_supply()"
      ],
      "execution_count": 0,
      "outputs": []
    },
    {
      "cell_type": "code",
      "metadata": {
        "id": "LqMk4opp5bKg",
        "colab_type": "code",
        "colab": {}
      },
      "source": [
        "global deploy_asset\n",
        "def reset_deploy():\n",
        "  global deploy_asset\n",
        "  deploy_asset = gpd.GeoDataFrame(columns=['objectid','type','geometry'])\n",
        "  deploy_asset.crs={'init': 'epsg:3785', 'no_defs': True}\n",
        "def deploy(assetid,assettype,geometry):\n",
        "  global deploy_asset\n",
        "  deploy_asset.loc[assetid, 'objectid']=assetid\n",
        "  deploy_asset.loc[assetid, 'type']=assettype\n",
        "  deploy_asset.loc[assetid, 'geometry']=geometry\n",
        "def finalize_assets(exist):\n",
        "  global deploy_asset\n",
        "  if exist:\n",
        "    existing = gpd.GeoDataFrame.from_file('assetsTest.shp')\n",
        "    new = existing.append(deploy_asset).fillna(0)\n",
        "    print(new)\n",
        "    new.to_file('assetsTest.shp')\n",
        "    reset_deploy()\n",
        "  else:\n",
        "    deploy_asset.copy().to_file('assetsTest.shp')\n",
        "    reset_deploy()"
      ],
      "execution_count": 0,
      "outputs": []
    },
    {
      "cell_type": "code",
      "metadata": {
        "id": "nJ3OrxwhnsYH",
        "colab_type": "code",
        "outputId": "50b24177-4fc6-4c78-df1e-e5d5aac0709c",
        "colab": {
          "base_uri": "https://localhost:8080/",
          "height": 72
        }
      },
      "source": [
        "# deploy_asset = gpd.GeoDataFrame()\n",
        "p = Point(-7961984.714670815, 5131569.318735286)\n",
        "# deploy_asset['objectid']=0\n",
        "# deploy_asset['type']=''\n",
        "# deploy_asset['geometry']=None\n",
        "\n",
        "# deploy_asset.crs={'init': 'epsg:3785', 'no_defs': True}\n",
        "\n",
        "# deploy_asset.loc[0,'objectid']=1000000\n",
        "# deploy_asset.loc[0,'type']='generator_l'\n",
        "# deploy_asset.loc[0,'geometry']=p\n",
        "# deploy_asset.set_index('objectid')\n",
        "reset_deploy()\n",
        "deploy(1000000, 'generator_l',p)\n",
        "deploy_asset\n",
        "finalize_assets(True)"
      ],
      "execution_count": 28,
      "outputs": [
        {
          "output_type": "stream",
          "text": [
            "        objectid         type                                      geometry\n",
            "0        1000000  generator_l  POINT (-7961984.714670815 5131569.318735286)\n",
            "1000000  1000000  generator_l  POINT (-7961984.714670815 5131569.318735286)\n"
          ],
          "name": "stdout"
        }
      ]
    },
    {
      "cell_type": "markdown",
      "metadata": {
        "id": "eHu0b5061T_q",
        "colab_type": "text"
      },
      "source": [
        "Turn 0:"
      ]
    },
    {
      "cell_type": "code",
      "metadata": {
        "id": "LyGcMpez1Ea_",
        "colab_type": "code",
        "colab": {}
      },
      "source": [
        "unpack_powerplants([338.0, 564.0, 397.0, 233.0, 642.0, 466.0, 21.0, 481.0, 512.0, 546.0, 486.0, 658.0, 459.0, 460.0, 577.0, 180.0, 59.0, 39.0, 219.0, 526.0])"
      ],
      "execution_count": 0,
      "outputs": []
    },
    {
      "cell_type": "code",
      "metadata": {
        "id": "aPSFs2Bj2uyD",
        "colab_type": "code",
        "colab": {}
      },
      "source": [
        "unpack_airfields([7519, 7661, 7690, 7650, 7695])"
      ],
      "execution_count": 0,
      "outputs": []
    },
    {
      "cell_type": "code",
      "metadata": {
        "id": "8QgUWKGgPexR",
        "colab_type": "code",
        "colab": {
          "base_uri": "https://localhost:8080/",
          "height": 489
        },
        "outputId": "54404d88-ef9d-4e87-9599-60edbb7d9661"
      },
      "source": [
        "add_resources(7695,'airfield',150000,150000,37500)"
      ],
      "execution_count": 452,
      "outputs": [
        {
          "output_type": "stream",
          "text": [
            "        objectid         type  food_water  medicine  fuel\n",
            "338.0      338.0  power_plant           0         0   300\n",
            "564.0      564.0  power_plant           0         0   300\n",
            "397.0      397.0  power_plant           0         0   300\n",
            "233.0      233.0  power_plant           0         0   300\n",
            "642.0      642.0  power_plant           0         0   300\n",
            "466.0      466.0  power_plant           0         0   300\n",
            "21.0        21.0  power_plant           0         0   300\n",
            "481.0      481.0  power_plant           0         0   300\n",
            "512.0      512.0  power_plant           0         0   300\n",
            "546.0      546.0  power_plant           0         0   300\n",
            "486.0      486.0  power_plant           0         0   300\n",
            "658.0      658.0  power_plant           0         0   300\n",
            "459.0      459.0  power_plant           0         0   300\n",
            "460.0      460.0  power_plant           0         0   300\n",
            "577.0      577.0  power_plant           0         0   300\n",
            "180.0      180.0  power_plant           0         0   300\n",
            "59.0        59.0  power_plant           0         0   300\n",
            "39.0        39.0  power_plant           0         0   300\n",
            "219.0      219.0  power_plant           0         0   300\n",
            "526.0      526.0  power_plant           0         0   300\n",
            "7519.0    7519.0     airfield           0         0    90\n",
            "7661.0    7661.0     airfield           0         0    90\n",
            "7690.0    7690.0     airfield           0         0    90\n",
            "7650.0    7650.0     airfield           0         0    90\n",
            "7695.0    7695.0     airfield           0         0    90\n"
          ],
          "name": "stdout"
        }
      ]
    },
    {
      "cell_type": "code",
      "metadata": {
        "id": "xCXGoaG4uVip",
        "colab_type": "code",
        "colab": {
          "base_uri": "https://localhost:8080/",
          "height": 833
        },
        "outputId": "01a12df3-4e6a-4c78-c83d-737acb2f4a88"
      },
      "source": [
        "add_supply #check order"
      ],
      "execution_count": 453,
      "outputs": [
        {
          "output_type": "execute_result",
          "data": {
            "text/html": [
              "<div>\n",
              "<style scoped>\n",
              "    .dataframe tbody tr th:only-of-type {\n",
              "        vertical-align: middle;\n",
              "    }\n",
              "\n",
              "    .dataframe tbody tr th {\n",
              "        vertical-align: top;\n",
              "    }\n",
              "\n",
              "    .dataframe thead th {\n",
              "        text-align: right;\n",
              "    }\n",
              "</style>\n",
              "<table border=\"1\" class=\"dataframe\">\n",
              "  <thead>\n",
              "    <tr style=\"text-align: right;\">\n",
              "      <th></th>\n",
              "      <th>objectid</th>\n",
              "      <th>type</th>\n",
              "      <th>food_water</th>\n",
              "      <th>medicine</th>\n",
              "      <th>fuel</th>\n",
              "    </tr>\n",
              "  </thead>\n",
              "  <tbody>\n",
              "    <tr>\n",
              "      <th>338.0</th>\n",
              "      <td>338.0</td>\n",
              "      <td>power_plant</td>\n",
              "      <td>0</td>\n",
              "      <td>0</td>\n",
              "      <td>300</td>\n",
              "    </tr>\n",
              "    <tr>\n",
              "      <th>564.0</th>\n",
              "      <td>564.0</td>\n",
              "      <td>power_plant</td>\n",
              "      <td>0</td>\n",
              "      <td>0</td>\n",
              "      <td>300</td>\n",
              "    </tr>\n",
              "    <tr>\n",
              "      <th>397.0</th>\n",
              "      <td>397.0</td>\n",
              "      <td>power_plant</td>\n",
              "      <td>0</td>\n",
              "      <td>0</td>\n",
              "      <td>300</td>\n",
              "    </tr>\n",
              "    <tr>\n",
              "      <th>233.0</th>\n",
              "      <td>233.0</td>\n",
              "      <td>power_plant</td>\n",
              "      <td>0</td>\n",
              "      <td>0</td>\n",
              "      <td>300</td>\n",
              "    </tr>\n",
              "    <tr>\n",
              "      <th>642.0</th>\n",
              "      <td>642.0</td>\n",
              "      <td>power_plant</td>\n",
              "      <td>0</td>\n",
              "      <td>0</td>\n",
              "      <td>300</td>\n",
              "    </tr>\n",
              "    <tr>\n",
              "      <th>466.0</th>\n",
              "      <td>466.0</td>\n",
              "      <td>power_plant</td>\n",
              "      <td>0</td>\n",
              "      <td>0</td>\n",
              "      <td>300</td>\n",
              "    </tr>\n",
              "    <tr>\n",
              "      <th>21.0</th>\n",
              "      <td>21.0</td>\n",
              "      <td>power_plant</td>\n",
              "      <td>0</td>\n",
              "      <td>0</td>\n",
              "      <td>300</td>\n",
              "    </tr>\n",
              "    <tr>\n",
              "      <th>481.0</th>\n",
              "      <td>481.0</td>\n",
              "      <td>power_plant</td>\n",
              "      <td>0</td>\n",
              "      <td>0</td>\n",
              "      <td>300</td>\n",
              "    </tr>\n",
              "    <tr>\n",
              "      <th>512.0</th>\n",
              "      <td>512.0</td>\n",
              "      <td>power_plant</td>\n",
              "      <td>0</td>\n",
              "      <td>0</td>\n",
              "      <td>300</td>\n",
              "    </tr>\n",
              "    <tr>\n",
              "      <th>546.0</th>\n",
              "      <td>546.0</td>\n",
              "      <td>power_plant</td>\n",
              "      <td>0</td>\n",
              "      <td>0</td>\n",
              "      <td>300</td>\n",
              "    </tr>\n",
              "    <tr>\n",
              "      <th>486.0</th>\n",
              "      <td>486.0</td>\n",
              "      <td>power_plant</td>\n",
              "      <td>0</td>\n",
              "      <td>0</td>\n",
              "      <td>300</td>\n",
              "    </tr>\n",
              "    <tr>\n",
              "      <th>658.0</th>\n",
              "      <td>658.0</td>\n",
              "      <td>power_plant</td>\n",
              "      <td>0</td>\n",
              "      <td>0</td>\n",
              "      <td>300</td>\n",
              "    </tr>\n",
              "    <tr>\n",
              "      <th>459.0</th>\n",
              "      <td>459.0</td>\n",
              "      <td>power_plant</td>\n",
              "      <td>0</td>\n",
              "      <td>0</td>\n",
              "      <td>300</td>\n",
              "    </tr>\n",
              "    <tr>\n",
              "      <th>460.0</th>\n",
              "      <td>460.0</td>\n",
              "      <td>power_plant</td>\n",
              "      <td>0</td>\n",
              "      <td>0</td>\n",
              "      <td>300</td>\n",
              "    </tr>\n",
              "    <tr>\n",
              "      <th>577.0</th>\n",
              "      <td>577.0</td>\n",
              "      <td>power_plant</td>\n",
              "      <td>0</td>\n",
              "      <td>0</td>\n",
              "      <td>300</td>\n",
              "    </tr>\n",
              "    <tr>\n",
              "      <th>180.0</th>\n",
              "      <td>180.0</td>\n",
              "      <td>power_plant</td>\n",
              "      <td>0</td>\n",
              "      <td>0</td>\n",
              "      <td>300</td>\n",
              "    </tr>\n",
              "    <tr>\n",
              "      <th>59.0</th>\n",
              "      <td>59.0</td>\n",
              "      <td>power_plant</td>\n",
              "      <td>0</td>\n",
              "      <td>0</td>\n",
              "      <td>300</td>\n",
              "    </tr>\n",
              "    <tr>\n",
              "      <th>39.0</th>\n",
              "      <td>39.0</td>\n",
              "      <td>power_plant</td>\n",
              "      <td>0</td>\n",
              "      <td>0</td>\n",
              "      <td>300</td>\n",
              "    </tr>\n",
              "    <tr>\n",
              "      <th>219.0</th>\n",
              "      <td>219.0</td>\n",
              "      <td>power_plant</td>\n",
              "      <td>0</td>\n",
              "      <td>0</td>\n",
              "      <td>300</td>\n",
              "    </tr>\n",
              "    <tr>\n",
              "      <th>526.0</th>\n",
              "      <td>526.0</td>\n",
              "      <td>power_plant</td>\n",
              "      <td>0</td>\n",
              "      <td>0</td>\n",
              "      <td>300</td>\n",
              "    </tr>\n",
              "    <tr>\n",
              "      <th>7519.0</th>\n",
              "      <td>7519.0</td>\n",
              "      <td>airfield</td>\n",
              "      <td>0</td>\n",
              "      <td>0</td>\n",
              "      <td>90</td>\n",
              "    </tr>\n",
              "    <tr>\n",
              "      <th>7661.0</th>\n",
              "      <td>7661.0</td>\n",
              "      <td>airfield</td>\n",
              "      <td>0</td>\n",
              "      <td>0</td>\n",
              "      <td>90</td>\n",
              "    </tr>\n",
              "    <tr>\n",
              "      <th>7690.0</th>\n",
              "      <td>7690.0</td>\n",
              "      <td>airfield</td>\n",
              "      <td>0</td>\n",
              "      <td>0</td>\n",
              "      <td>90</td>\n",
              "    </tr>\n",
              "    <tr>\n",
              "      <th>7650.0</th>\n",
              "      <td>7650.0</td>\n",
              "      <td>airfield</td>\n",
              "      <td>0</td>\n",
              "      <td>0</td>\n",
              "      <td>90</td>\n",
              "    </tr>\n",
              "    <tr>\n",
              "      <th>7695.0</th>\n",
              "      <td>7695.0</td>\n",
              "      <td>airfield</td>\n",
              "      <td>150000</td>\n",
              "      <td>150000</td>\n",
              "      <td>37590</td>\n",
              "    </tr>\n",
              "  </tbody>\n",
              "</table>\n",
              "</div>"
            ],
            "text/plain": [
              "        objectid         type  food_water  medicine   fuel\n",
              "338.0      338.0  power_plant           0         0    300\n",
              "564.0      564.0  power_plant           0         0    300\n",
              "397.0      397.0  power_plant           0         0    300\n",
              "233.0      233.0  power_plant           0         0    300\n",
              "642.0      642.0  power_plant           0         0    300\n",
              "466.0      466.0  power_plant           0         0    300\n",
              "21.0        21.0  power_plant           0         0    300\n",
              "481.0      481.0  power_plant           0         0    300\n",
              "512.0      512.0  power_plant           0         0    300\n",
              "546.0      546.0  power_plant           0         0    300\n",
              "486.0      486.0  power_plant           0         0    300\n",
              "658.0      658.0  power_plant           0         0    300\n",
              "459.0      459.0  power_plant           0         0    300\n",
              "460.0      460.0  power_plant           0         0    300\n",
              "577.0      577.0  power_plant           0         0    300\n",
              "180.0      180.0  power_plant           0         0    300\n",
              "59.0        59.0  power_plant           0         0    300\n",
              "39.0        39.0  power_plant           0         0    300\n",
              "219.0      219.0  power_plant           0         0    300\n",
              "526.0      526.0  power_plant           0         0    300\n",
              "7519.0    7519.0     airfield           0         0     90\n",
              "7661.0    7661.0     airfield           0         0     90\n",
              "7690.0    7690.0     airfield           0         0     90\n",
              "7650.0    7650.0     airfield           0         0     90\n",
              "7695.0    7695.0     airfield      150000    150000  37590"
            ]
          },
          "metadata": {
            "tags": []
          },
          "execution_count": 453
        }
      ]
    },
    {
      "cell_type": "code",
      "metadata": {
        "id": "UbbZscO5oEba",
        "colab_type": "code",
        "colab": {}
      },
      "source": [
        "finalize(False) #False if file doesn't already exist"
      ],
      "execution_count": 0,
      "outputs": []
    },
    {
      "cell_type": "code",
      "metadata": {
        "id": "mb0GeouRpEuB",
        "colab_type": "code",
        "colab": {}
      },
      "source": [
        ""
      ],
      "execution_count": 0,
      "outputs": []
    },
    {
      "cell_type": "code",
      "metadata": {
        "id": "S5QuLOaOsshK",
        "colab_type": "code",
        "colab": {
          "base_uri": "https://localhost:8080/",
          "height": 53
        },
        "outputId": "ad612e38-4aef-4a4c-f2e6-ac0e63c6f825"
      },
      "source": [
        "reset_supply\n",
        "add_resources(7777,'airfield',1,1,1)\n"
      ],
      "execution_count": 459,
      "outputs": [
        {
          "output_type": "stream",
          "text": [
            "      objectid      type  food_water  medicine  fuel\n",
            "7777      7777  airfield           1         1     1\n"
          ],
          "name": "stdout"
        }
      ]
    },
    {
      "cell_type": "code",
      "metadata": {
        "id": "z0t6RIVc1siU",
        "colab_type": "code",
        "colab": {
          "base_uri": "https://localhost:8080/",
          "height": 81
        },
        "outputId": "0a2b87ec-107d-4ee8-d31e-508b07c861de"
      },
      "source": [
        "add_supply"
      ],
      "execution_count": 460,
      "outputs": [
        {
          "output_type": "execute_result",
          "data": {
            "text/html": [
              "<div>\n",
              "<style scoped>\n",
              "    .dataframe tbody tr th:only-of-type {\n",
              "        vertical-align: middle;\n",
              "    }\n",
              "\n",
              "    .dataframe tbody tr th {\n",
              "        vertical-align: top;\n",
              "    }\n",
              "\n",
              "    .dataframe thead th {\n",
              "        text-align: right;\n",
              "    }\n",
              "</style>\n",
              "<table border=\"1\" class=\"dataframe\">\n",
              "  <thead>\n",
              "    <tr style=\"text-align: right;\">\n",
              "      <th></th>\n",
              "      <th>objectid</th>\n",
              "      <th>type</th>\n",
              "      <th>food_water</th>\n",
              "      <th>medicine</th>\n",
              "      <th>fuel</th>\n",
              "    </tr>\n",
              "  </thead>\n",
              "  <tbody>\n",
              "    <tr>\n",
              "      <th>7777</th>\n",
              "      <td>7777</td>\n",
              "      <td>airfield</td>\n",
              "      <td>2</td>\n",
              "      <td>2</td>\n",
              "      <td>2</td>\n",
              "    </tr>\n",
              "  </tbody>\n",
              "</table>\n",
              "</div>"
            ],
            "text/plain": [
              "      objectid      type  food_water  medicine  fuel\n",
              "7777      7777  airfield           2         2     2"
            ]
          },
          "metadata": {
            "tags": []
          },
          "execution_count": 460
        }
      ]
    },
    {
      "cell_type": "code",
      "metadata": {
        "id": "-fgEq1xu1tD9",
        "colab_type": "code",
        "colab": {
          "base_uri": "https://localhost:8080/",
          "height": 546
        },
        "outputId": "3faaa193-1f3f-4e8a-c147-21a597631a4f"
      },
      "source": [
        "finalize(True)"
      ],
      "execution_count": 465,
      "outputs": [
        {
          "output_type": "stream",
          "text": [
            "        objectid         type  food_water  medicine   fuel\n",
            "338.0      338.0  power_plant           0         0    300\n",
            "564.0      564.0  power_plant           0         0    300\n",
            "397.0      397.0  power_plant           0         0    300\n",
            "233.0      233.0  power_plant           0         0    300\n",
            "642.0      642.0  power_plant           0         0    300\n",
            "466.0      466.0  power_plant           0         0    300\n",
            "21.0        21.0  power_plant           0         0    300\n",
            "481.0      481.0  power_plant           0         0    300\n",
            "512.0      512.0  power_plant           0         0    300\n",
            "546.0      546.0  power_plant           0         0    300\n",
            "486.0      486.0  power_plant           0         0    300\n",
            "658.0      658.0  power_plant           0         0    300\n",
            "459.0      459.0  power_plant           0         0    300\n",
            "460.0      460.0  power_plant           0         0    300\n",
            "577.0      577.0  power_plant           0         0    300\n",
            "180.0      180.0  power_plant           0         0    300\n",
            "59.0        59.0  power_plant           0         0    300\n",
            "39.0        39.0  power_plant           0         0    300\n",
            "219.0      219.0  power_plant           0         0    300\n",
            "526.0      526.0  power_plant           0         0    300\n",
            "7519.0    7519.0     airfield           0         0     90\n",
            "7661.0    7661.0     airfield           0         0     90\n",
            "7690.0    7690.0     airfield           0         0     90\n",
            "7650.0    7650.0     airfield           0         0     90\n",
            "7695.0    7695.0     airfield      150000    150000  37590\n",
            "7777.0    7777.0     airfield           2         2      2\n"
          ],
          "name": "stdout"
        },
        {
          "output_type": "stream",
          "text": [
            "/usr/local/lib/python3.6/dist-packages/ipykernel_launcher.py:51: FutureWarning: from_csv is deprecated. Please use read_csv(...) instead. Note that some of the default arguments are different, so please refer to the documentation for from_csv when changing your function calls\n"
          ],
          "name": "stderr"
        }
      ]
    },
    {
      "cell_type": "code",
      "metadata": {
        "id": "P-wr3DGX2syX",
        "colab_type": "code",
        "colab": {}
      },
      "source": [
        ""
      ],
      "execution_count": 0,
      "outputs": []
    },
    {
      "cell_type": "markdown",
      "metadata": {
        "id": "A835BQUz3olW",
        "colab_type": "text"
      },
      "source": [
        ""
      ]
    }
  ]
}