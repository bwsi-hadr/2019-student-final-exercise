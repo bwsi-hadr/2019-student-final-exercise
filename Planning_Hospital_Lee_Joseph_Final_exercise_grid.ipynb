{
  "nbformat": 4,
  "nbformat_minor": 0,
  "metadata": {
    "colab": {
      "name": "Planning-Hospital_Lee_Joseph_Final_exercise_grid.ipynb",
      "version": "0.3.2",
      "provenance": [],
      "collapsed_sections": [],
      "toc_visible": true,
      "include_colab_link": true
    },
    "kernelspec": {
      "name": "python3",
      "display_name": "Python 3"
    },
    "accelerator": "GPU"
  },
  "cells": [
    {
      "cell_type": "markdown",
      "metadata": {
        "id": "view-in-github",
        "colab_type": "text"
      },
      "source": [
        "<a href=\"https://colab.research.google.com/github/bwsi-hadr/2019-student-final-exercise/blob/master/Planning_Hospital_Lee_Joseph_Final_exercise_grid.ipynb\" target=\"_parent\"><img src=\"https://colab.research.google.com/assets/colab-badge.svg\" alt=\"Open In Colab\"/></a>"
      ]
    },
    {
      "cell_type": "markdown",
      "metadata": {
        "id": "MX9RdrJ3In9c",
        "colab_type": "text"
      },
      "source": [
        "#Importing Libraries"
      ]
    },
    {
      "cell_type": "code",
      "metadata": {
        "colab_type": "code",
        "id": "UWMxVo6DIS9I",
        "colab": {}
      },
      "source": [
        "# need to specify location of some certificates for rasterio\n",
        "!export CURL_CA_BUNDLE=/etc/ssl/certs/ca-certificates.crt\n",
        "!sudo mkdir -p /etc/pki/tls/certs\n",
        "!sudo cp /etc/ssl/certs/ca-certificates.crt /etc/pki/tls/certs/ca-bundle.crt\n",
        "try:\n",
        "  import rasterio\n",
        "  import rasterio.plot\n",
        "  import rasterio.merge \n",
        "  import rasterio.mask\n",
        "except:\n",
        "  !pip install rasterio\n",
        "  import rasterio\n",
        "  import rasterio.plot\n",
        "  import rasterio.merge\n",
        "  import rasterio.mask\n",
        "  \n",
        "try:\n",
        "  import rasterstats as rs\n",
        "except:\n",
        "  !pip install rasterstats  \n",
        "  import rasterstats as rs\n",
        "  \n",
        "try:\n",
        "  import pyproj\n",
        "except:\n",
        "  !pip install pyproj\n",
        "  import pyproj\n",
        "  \n",
        "import networkx as nx\n",
        "try:\n",
        "  import osmnx as ox\n",
        "except:\n",
        "  # osmnx depends on the system package libspatialindex\n",
        "  !apt install libspatialindex-dev\n",
        "  !pip install osmnx\n",
        "  import osmnx as ox\n",
        "\n",
        "try: \n",
        "  import geopandas as gpd\n",
        "except: \n",
        "  !pip install geopandas \n",
        "  import geopandas as gpd\n",
        "  \n",
        "try:\n",
        "  import contextily as ctx \n",
        "except:\n",
        "  # install dependencies for contextily\n",
        "  !apt install libproj-dev proj-data proj-bin\n",
        "  !apt install libgeos-dev\n",
        "  !pip install cython\n",
        "  !pip install cartopy\n",
        "  # install contextily\n",
        "  !pip install contextily==1.0rc1 --no-use-pep517 --no-cache-dir\n",
        "  import contextily as ctx\n",
        "  \n",
        "import fiona\n",
        "from shapely.geometry import Point, LineString, Polygon\n",
        "  \n",
        "import gdal\n",
        "import pandas as pd\n",
        "import numpy as np\n",
        "import matplotlib.pyplot as plt\n",
        "import pathlib\n",
        "from google.colab import drive\n",
        "drive.mount('/content/drive')\n",
        "%cd /content/drive/'My Drive'/BWSI-Remote-Sensing/'Final_exercise'"
      ],
      "execution_count": 0,
      "outputs": []
    },
    {
      "cell_type": "code",
      "metadata": {
        "id": "88OyA92EOTKb",
        "colab_type": "code",
        "colab": {}
      },
      "source": [
        "import os"
      ],
      "execution_count": 0,
      "outputs": []
    },
    {
      "cell_type": "markdown",
      "metadata": {
        "id": "i9Zunz6xuQfb",
        "colab_type": "text"
      },
      "source": [
        "#Base Grid"
      ]
    },
    {
      "cell_type": "code",
      "metadata": {
        "id": "krhqfhINqs6k",
        "colab_type": "code",
        "colab": {}
      },
      "source": [
        "base_grid = gpd.read_file('game_grid_export/game_grid_all_stats.shp')"
      ],
      "execution_count": 0,
      "outputs": []
    },
    {
      "cell_type": "code",
      "metadata": {
        "id": "Lx_i_lwPxPoL",
        "colab_type": "code",
        "outputId": "194f3afa-9618-4cc2-f552-830e98537f02",
        "colab": {
          "base_uri": "https://localhost:8080/",
          "height": 394
        }
      },
      "source": [
        "base_grid.head()\n",
        "# -71.79092278136125 42.58943590354409"
      ],
      "execution_count": 111,
      "outputs": [
        {
          "output_type": "execute_result",
          "data": {
            "text/html": [
              "<div>\n",
              "<style scoped>\n",
              "    .dataframe tbody tr th:only-of-type {\n",
              "        vertical-align: middle;\n",
              "    }\n",
              "\n",
              "    .dataframe tbody tr th {\n",
              "        vertical-align: top;\n",
              "    }\n",
              "\n",
              "    .dataframe thead th {\n",
              "        text-align: right;\n",
              "    }\n",
              "</style>\n",
              "<table border=\"1\" class=\"dataframe\">\n",
              "  <thead>\n",
              "    <tr style=\"text-align: right;\">\n",
              "      <th></th>\n",
              "      <th>MGRS</th>\n",
              "      <th>kmSQ_ID</th>\n",
              "      <th>GZD</th>\n",
              "      <th>EASTING</th>\n",
              "      <th>NORTHING</th>\n",
              "      <th>MGRS_10km</th>\n",
              "      <th>Shape_Leng</th>\n",
              "      <th>Shape_Le_1</th>\n",
              "      <th>Shape_Area</th>\n",
              "      <th>x_centroid</th>\n",
              "      <th>y_centroid</th>\n",
              "      <th>elevation</th>\n",
              "      <th>population</th>\n",
              "      <th>Health</th>\n",
              "      <th>Utility</th>\n",
              "      <th>Transporta</th>\n",
              "      <th>geometry</th>\n",
              "    </tr>\n",
              "  </thead>\n",
              "  <tbody>\n",
              "    <tr>\n",
              "      <th>0</th>\n",
              "      <td>19TBH7019</td>\n",
              "      <td>BH</td>\n",
              "      <td>19T</td>\n",
              "      <td>270000mE</td>\n",
              "      <td>4719000mN</td>\n",
              "      <td>19TBH71</td>\n",
              "      <td>0.042364</td>\n",
              "      <td>0.042364</td>\n",
              "      <td>0.00011</td>\n",
              "      <td>-71.797211</td>\n",
              "      <td>42.593785</td>\n",
              "      <td>196.344985</td>\n",
              "      <td>443</td>\n",
              "      <td>10</td>\n",
              "      <td>7</td>\n",
              "      <td>8</td>\n",
              "      <td>POLYGON ((-71.79092278136125 42.58943590354409...</td>\n",
              "    </tr>\n",
              "    <tr>\n",
              "      <th>1</th>\n",
              "      <td>19TBH7119</td>\n",
              "      <td>BH</td>\n",
              "      <td>19T</td>\n",
              "      <td>271000mE</td>\n",
              "      <td>4719000mN</td>\n",
              "      <td>19TBH71</td>\n",
              "      <td>0.042364</td>\n",
              "      <td>0.042364</td>\n",
              "      <td>0.00011</td>\n",
              "      <td>-71.785036</td>\n",
              "      <td>42.594082</td>\n",
              "      <td>139.760744</td>\n",
              "      <td>381</td>\n",
              "      <td>10</td>\n",
              "      <td>7</td>\n",
              "      <td>8</td>\n",
              "      <td>POLYGON ((-71.77874932612048 42.58973201162303...</td>\n",
              "    </tr>\n",
              "    <tr>\n",
              "      <th>2</th>\n",
              "      <td>19TBH7219</td>\n",
              "      <td>BH</td>\n",
              "      <td>19T</td>\n",
              "      <td>272000mE</td>\n",
              "      <td>4719000mN</td>\n",
              "      <td>19TBH71</td>\n",
              "      <td>0.042364</td>\n",
              "      <td>0.042364</td>\n",
              "      <td>0.00011</td>\n",
              "      <td>-71.772862</td>\n",
              "      <td>42.594377</td>\n",
              "      <td>144.429830</td>\n",
              "      <td>318</td>\n",
              "      <td>10</td>\n",
              "      <td>7</td>\n",
              "      <td>8</td>\n",
              "      <td>POLYGON ((-71.76657568741803 42.59002682737616...</td>\n",
              "    </tr>\n",
              "    <tr>\n",
              "      <th>3</th>\n",
              "      <td>19TBH7319</td>\n",
              "      <td>BH</td>\n",
              "      <td>19T</td>\n",
              "      <td>273000mE</td>\n",
              "      <td>4719000mN</td>\n",
              "      <td>19TBH71</td>\n",
              "      <td>0.042365</td>\n",
              "      <td>0.042365</td>\n",
              "      <td>0.00011</td>\n",
              "      <td>-71.760687</td>\n",
              "      <td>42.594671</td>\n",
              "      <td>154.567869</td>\n",
              "      <td>182</td>\n",
              "      <td>10</td>\n",
              "      <td>7</td>\n",
              "      <td>3</td>\n",
              "      <td>POLYGON ((-71.75440186615322 42.59032035170287...</td>\n",
              "    </tr>\n",
              "    <tr>\n",
              "      <th>4</th>\n",
              "      <td>19TBH7419</td>\n",
              "      <td>BH</td>\n",
              "      <td>19T</td>\n",
              "      <td>274000mE</td>\n",
              "      <td>4719000mN</td>\n",
              "      <td>19TBH71</td>\n",
              "      <td>0.042365</td>\n",
              "      <td>0.042365</td>\n",
              "      <td>0.00011</td>\n",
              "      <td>-71.748513</td>\n",
              "      <td>42.594964</td>\n",
              "      <td>176.765537</td>\n",
              "      <td>115</td>\n",
              "      <td>10</td>\n",
              "      <td>7</td>\n",
              "      <td>3</td>\n",
              "      <td>POLYGON ((-71.74222786322531 42.59061258370377...</td>\n",
              "    </tr>\n",
              "  </tbody>\n",
              "</table>\n",
              "</div>"
            ],
            "text/plain": [
              "        MGRS  ...                                           geometry\n",
              "0  19TBH7019  ...  POLYGON ((-71.79092278136125 42.58943590354409...\n",
              "1  19TBH7119  ...  POLYGON ((-71.77874932612048 42.58973201162303...\n",
              "2  19TBH7219  ...  POLYGON ((-71.76657568741803 42.59002682737616...\n",
              "3  19TBH7319  ...  POLYGON ((-71.75440186615322 42.59032035170287...\n",
              "4  19TBH7419  ...  POLYGON ((-71.74222786322531 42.59061258370377...\n",
              "\n",
              "[5 rows x 17 columns]"
            ]
          },
          "metadata": {
            "tags": []
          },
          "execution_count": 111
        }
      ]
    },
    {
      "cell_type": "markdown",
      "metadata": {
        "id": "K8_rXiiLI3Tv",
        "colab_type": "text"
      },
      "source": [
        "#Directory Determiner"
      ]
    },
    {
      "cell_type": "code",
      "metadata": {
        "id": "4mU0QcqzOVwO",
        "colab_type": "code",
        "colab": {
          "base_uri": "https://localhost:8080/",
          "height": 153
        },
        "outputId": "b474c9cd-2ebd-4c37-ad21-b0c23a24e47a"
      },
      "source": [
        "os.listdir('game2')"
      ],
      "execution_count": 112,
      "outputs": [
        {
          "output_type": "execute_result",
          "data": {
            "text/plain": [
              "['prep_turn_0',\n",
              " 'prep_turn_1',\n",
              " 'prep_turn_2',\n",
              " 'response_turn_0',\n",
              " 'response_turn_1',\n",
              " 'response_turn_2',\n",
              " 'response_turn_3',\n",
              " 'prep_turn_3']"
            ]
          },
          "metadata": {
            "tags": []
          },
          "execution_count": 112
        }
      ]
    },
    {
      "cell_type": "code",
      "metadata": {
        "id": "g1V4pacmb6op",
        "colab_type": "code",
        "colab": {
          "base_uri": "https://localhost:8080/",
          "height": 34
        },
        "outputId": "62f00ef9-b423-4054-86be-22412f059ffc"
      },
      "source": [
        "file_path = 'game2/prep_turn_{}/{}.shp' if 'prep_turn' in \\\n",
        "os.listdir('game2') else'game2/response_turn_{}/{}.shp'\n",
        "print(file_path)\n",
        "game_grid = gpd.read_file(file_path.format(2, 'curr_grid'))\n",
        "# What do transporta(tion) values mean again?"
      ],
      "execution_count": 113,
      "outputs": [
        {
          "output_type": "stream",
          "text": [
            "game2/response_turn_{}/{}.shp\n"
          ],
          "name": "stdout"
        }
      ]
    },
    {
      "cell_type": "markdown",
      "metadata": {
        "id": "DJggBBP_N4PL",
        "colab_type": "text"
      },
      "source": [
        "#Safecasing prev_grid"
      ]
    },
    {
      "cell_type": "code",
      "metadata": {
        "id": "458_MDIPKjUY",
        "colab_type": "code",
        "colab": {}
      },
      "source": [
        "try:\n",
        "  if prev_grid.empty:\n",
        "    prev_grid = None\n",
        "except:\n",
        "  prev_grid = None"
      ],
      "execution_count": 0,
      "outputs": []
    },
    {
      "cell_type": "code",
      "metadata": {
        "id": "47urx8smNLjM",
        "colab_type": "code",
        "colab": {
          "base_uri": "https://localhost:8080/",
          "height": 34
        },
        "outputId": "93d35794-e57f-44d4-ee5d-aaee6344fac1"
      },
      "source": [
        "type(prev_grid)"
      ],
      "execution_count": 115,
      "outputs": [
        {
          "output_type": "execute_result",
          "data": {
            "text/plain": [
              "geopandas.geodataframe.GeoDataFrame"
            ]
          },
          "metadata": {
            "tags": []
          },
          "execution_count": 115
        }
      ]
    },
    {
      "cell_type": "markdown",
      "metadata": {
        "id": "5y9LIJmLI882",
        "colab_type": "text"
      },
      "source": [
        "#From Base Grid -> Game Grid"
      ]
    },
    {
      "cell_type": "code",
      "metadata": {
        "id": "WhipYN8SyGAs",
        "colab_type": "code",
        "colab": {}
      },
      "source": [
        "\n",
        "game_grid['MGRS'] = base_grid['MGRS']\n",
        "try:\n",
        "  game_grid['population'] = prev_grid['population']\n",
        "except:  \n",
        "  game_grid['population'] = base_grid['population']\n",
        "\n",
        "game_grid['elevation'] = base_grid['elevation'] \n",
        "game_grid['Utility'] = base_grid['Utility']\n",
        "game_grid.set_index('MGRS', inplace = True)\n"
      ],
      "execution_count": 0,
      "outputs": []
    },
    {
      "cell_type": "code",
      "metadata": {
        "id": "g0khD760B5GP",
        "colab_type": "code",
        "colab": {
          "base_uri": "https://localhost:8080/",
          "height": 320
        },
        "outputId": "67850d5c-078b-48d0-bd6d-d3da40c0d604"
      },
      "source": [
        "game_grid.head()"
      ],
      "execution_count": 118,
      "outputs": [
        {
          "output_type": "execute_result",
          "data": {
            "text/html": [
              "<div>\n",
              "<style scoped>\n",
              "    .dataframe tbody tr th:only-of-type {\n",
              "        vertical-align: middle;\n",
              "    }\n",
              "\n",
              "    .dataframe tbody tr th {\n",
              "        vertical-align: top;\n",
              "    }\n",
              "\n",
              "    .dataframe thead th {\n",
              "        text-align: right;\n",
              "    }\n",
              "</style>\n",
              "<table border=\"1\" class=\"dataframe\">\n",
              "  <thead>\n",
              "    <tr style=\"text-align: right;\">\n",
              "      <th></th>\n",
              "      <th>Health</th>\n",
              "      <th>Utility</th>\n",
              "      <th>Transporta</th>\n",
              "      <th>geometry</th>\n",
              "      <th>population</th>\n",
              "      <th>elevation</th>\n",
              "    </tr>\n",
              "    <tr>\n",
              "      <th>MGRS</th>\n",
              "      <th></th>\n",
              "      <th></th>\n",
              "      <th></th>\n",
              "      <th></th>\n",
              "      <th></th>\n",
              "      <th></th>\n",
              "    </tr>\n",
              "  </thead>\n",
              "  <tbody>\n",
              "    <tr>\n",
              "      <th>19TBH7019</th>\n",
              "      <td>5</td>\n",
              "      <td>7</td>\n",
              "      <td>5</td>\n",
              "      <td>POLYGON ((-71.79092278136125 42.58943590354409...</td>\n",
              "      <td>443</td>\n",
              "      <td>196.344985</td>\n",
              "    </tr>\n",
              "    <tr>\n",
              "      <th>19TBH7119</th>\n",
              "      <td>1</td>\n",
              "      <td>7</td>\n",
              "      <td>4</td>\n",
              "      <td>POLYGON ((-71.77874932612048 42.58973201162303...</td>\n",
              "      <td>381</td>\n",
              "      <td>139.760744</td>\n",
              "    </tr>\n",
              "    <tr>\n",
              "      <th>19TBH7219</th>\n",
              "      <td>1</td>\n",
              "      <td>7</td>\n",
              "      <td>1</td>\n",
              "      <td>POLYGON ((-71.76657568741803 42.59002682737616...</td>\n",
              "      <td>318</td>\n",
              "      <td>144.429830</td>\n",
              "    </tr>\n",
              "    <tr>\n",
              "      <th>19TBH7319</th>\n",
              "      <td>5</td>\n",
              "      <td>7</td>\n",
              "      <td>1</td>\n",
              "      <td>POLYGON ((-71.75440186615322 42.59032035170287...</td>\n",
              "      <td>182</td>\n",
              "      <td>154.567869</td>\n",
              "    </tr>\n",
              "    <tr>\n",
              "      <th>19TBH7419</th>\n",
              "      <td>4</td>\n",
              "      <td>7</td>\n",
              "      <td>1</td>\n",
              "      <td>POLYGON ((-71.74222786322531 42.59061258370377...</td>\n",
              "      <td>115</td>\n",
              "      <td>176.765537</td>\n",
              "    </tr>\n",
              "  </tbody>\n",
              "</table>\n",
              "</div>"
            ],
            "text/plain": [
              "           Health  Utility  ...  population   elevation\n",
              "MGRS                        ...                        \n",
              "19TBH7019       5        7  ...         443  196.344985\n",
              "19TBH7119       1        7  ...         381  139.760744\n",
              "19TBH7219       1        7  ...         318  144.429830\n",
              "19TBH7319       5        7  ...         182  154.567869\n",
              "19TBH7419       4        7  ...         115  176.765537\n",
              "\n",
              "[5 rows x 6 columns]"
            ]
          },
          "metadata": {
            "tags": []
          },
          "execution_count": 118
        }
      ]
    },
    {
      "cell_type": "markdown",
      "metadata": {
        "id": "rgvVXPF5Jejo",
        "colab_type": "text"
      },
      "source": [
        "#Normalization (Population & Elevation)"
      ]
    },
    {
      "cell_type": "code",
      "metadata": {
        "id": "V48BCTpUJdv4",
        "colab_type": "code",
        "colab": {
          "base_uri": "https://localhost:8080/",
          "height": 442
        },
        "outputId": "907905a0-e58b-4e2b-b3db-363935fab7db"
      },
      "source": [
        "maxi_pop = game_grid['population'].max() # CAN change\n",
        "maxi_ele = base_grid['elevation'].max() # can NOT change\n",
        "print(maxi_ele)\n",
        "\n",
        "# game_grid = game_grid.loc[game_grid['population'] != 0]\n",
        "game_grid['normalized_pop'] = game_grid['population'] / maxi_pop * 10\n",
        "game_grid['normalized_ele'] = game_grid['elevation'] / maxi_ele * 10\n",
        "\n",
        "game_grid.head()"
      ],
      "execution_count": 119,
      "outputs": [
        {
          "output_type": "stream",
          "text": [
            "259.2527327221439\n"
          ],
          "name": "stdout"
        },
        {
          "output_type": "execute_result",
          "data": {
            "text/html": [
              "<div>\n",
              "<style scoped>\n",
              "    .dataframe tbody tr th:only-of-type {\n",
              "        vertical-align: middle;\n",
              "    }\n",
              "\n",
              "    .dataframe tbody tr th {\n",
              "        vertical-align: top;\n",
              "    }\n",
              "\n",
              "    .dataframe thead th {\n",
              "        text-align: right;\n",
              "    }\n",
              "</style>\n",
              "<table border=\"1\" class=\"dataframe\">\n",
              "  <thead>\n",
              "    <tr style=\"text-align: right;\">\n",
              "      <th></th>\n",
              "      <th>Health</th>\n",
              "      <th>Utility</th>\n",
              "      <th>Transporta</th>\n",
              "      <th>geometry</th>\n",
              "      <th>population</th>\n",
              "      <th>elevation</th>\n",
              "      <th>normalized_pop</th>\n",
              "      <th>normalized_ele</th>\n",
              "    </tr>\n",
              "    <tr>\n",
              "      <th>MGRS</th>\n",
              "      <th></th>\n",
              "      <th></th>\n",
              "      <th></th>\n",
              "      <th></th>\n",
              "      <th></th>\n",
              "      <th></th>\n",
              "      <th></th>\n",
              "      <th></th>\n",
              "    </tr>\n",
              "  </thead>\n",
              "  <tbody>\n",
              "    <tr>\n",
              "      <th>19TBH7019</th>\n",
              "      <td>5</td>\n",
              "      <td>7</td>\n",
              "      <td>5</td>\n",
              "      <td>POLYGON ((-71.79092278136125 42.58943590354409...</td>\n",
              "      <td>443</td>\n",
              "      <td>196.344985</td>\n",
              "      <td>0.419388</td>\n",
              "      <td>7.573497</td>\n",
              "    </tr>\n",
              "    <tr>\n",
              "      <th>19TBH7119</th>\n",
              "      <td>1</td>\n",
              "      <td>7</td>\n",
              "      <td>4</td>\n",
              "      <td>POLYGON ((-71.77874932612048 42.58973201162303...</td>\n",
              "      <td>381</td>\n",
              "      <td>139.760744</td>\n",
              "      <td>0.360693</td>\n",
              "      <td>5.390907</td>\n",
              "    </tr>\n",
              "    <tr>\n",
              "      <th>19TBH7219</th>\n",
              "      <td>1</td>\n",
              "      <td>7</td>\n",
              "      <td>1</td>\n",
              "      <td>POLYGON ((-71.76657568741803 42.59002682737616...</td>\n",
              "      <td>318</td>\n",
              "      <td>144.429830</td>\n",
              "      <td>0.301051</td>\n",
              "      <td>5.571005</td>\n",
              "    </tr>\n",
              "    <tr>\n",
              "      <th>19TBH7319</th>\n",
              "      <td>5</td>\n",
              "      <td>7</td>\n",
              "      <td>1</td>\n",
              "      <td>POLYGON ((-71.75440186615322 42.59032035170287...</td>\n",
              "      <td>182</td>\n",
              "      <td>154.567869</td>\n",
              "      <td>0.172300</td>\n",
              "      <td>5.962054</td>\n",
              "    </tr>\n",
              "    <tr>\n",
              "      <th>19TBH7419</th>\n",
              "      <td>4</td>\n",
              "      <td>7</td>\n",
              "      <td>1</td>\n",
              "      <td>POLYGON ((-71.74222786322531 42.59061258370377...</td>\n",
              "      <td>115</td>\n",
              "      <td>176.765537</td>\n",
              "      <td>0.108871</td>\n",
              "      <td>6.818271</td>\n",
              "    </tr>\n",
              "  </tbody>\n",
              "</table>\n",
              "</div>"
            ],
            "text/plain": [
              "           Health  Utility  ...  normalized_pop normalized_ele\n",
              "MGRS                        ...                               \n",
              "19TBH7019       5        7  ...        0.419388       7.573497\n",
              "19TBH7119       1        7  ...        0.360693       5.390907\n",
              "19TBH7219       1        7  ...        0.301051       5.571005\n",
              "19TBH7319       5        7  ...        0.172300       5.962054\n",
              "19TBH7419       4        7  ...        0.108871       6.818271\n",
              "\n",
              "[5 rows x 8 columns]"
            ]
          },
          "metadata": {
            "tags": []
          },
          "execution_count": 119
        }
      ]
    },
    {
      "cell_type": "markdown",
      "metadata": {
        "id": "OhwSg5j_uK0r",
        "colab_type": "text"
      },
      "source": [
        "#Evacuation Grid"
      ]
    },
    {
      "cell_type": "code",
      "metadata": {
        "id": "0mwXbmR2puaK",
        "colab_type": "code",
        "colab": {
          "base_uri": "https://localhost:8080/",
          "height": 156
        },
        "outputId": "176e20b8-da29-4263-c96a-5c9c3b16e2ad"
      },
      "source": [
        "try:\n",
        "  evac_grid = gpd.read_file('game2/prep_turn_0/evacuation.shp')\n",
        "  evac_grid.set_index('MGRS', inplace = True)\n",
        "  print(evac_grid.head().to_string())\n",
        "except:\n",
        "  evac_grid = None\n",
        "  "
      ],
      "execution_count": 120,
      "outputs": [
        {
          "output_type": "stream",
          "text": [
            "          kmSQ_ID  GZD   EASTING   NORTHING MGRS_10km  Shape_Leng  Shape_Le_1  Shape_Area  x_centroid  y_centroid  elevation  population  Health  Utility  Transporta     score  index_righ     STATE_NAME                                           geometry\n",
            "MGRS                                                                                                                                                                                                                                                         \n",
            "19TDF1599      DF  19T  415000mE  4599000mN   19TDF19    0.041990    0.041990    0.000108  -70.013087   41.542698   0.200436           0      10        5           3  1.689431           4  Massachusetts  POLYGON ((-70.00702313710809 41.53824772675114...\n",
            "19TCF2994      CF  19T  329000mE  4594000mN   19TCF29    0.041958    0.041958    0.000108  -71.042270   41.483989   0.200880           3      10        7           3  1.419392           3  Massachusetts  POLYGON ((-71.03614388353338 41.47959420730677...\n",
            "19TCF2994      CF  19T  329000mE  4594000mN   19TCF29    0.041958    0.041958    0.000108  -71.042270   41.483989   0.200880           3      10        7           3  1.419392           9   Rhode Island  POLYGON ((-71.03614388353338 41.47959420730677...\n",
            "19TCF2994      CF  19T  329000mE  4594000mN   19TCF29    0.041958    0.041958    0.000108  -71.042270   41.483989   0.200880           3      10        7           3  1.419392          15   Rhode Island  POLYGON ((-71.03614388353338 41.47959420730677...\n",
            "19TCF2994      CF  19T  329000mE  4594000mN   19TCF29    0.041958    0.041958    0.000108  -71.042270   41.483989   0.200880           3      10        7           3  1.419392          10  Massachusetts  POLYGON ((-71.03614388353338 41.47959420730677...\n"
          ],
          "name": "stdout"
        }
      ]
    },
    {
      "cell_type": "code",
      "metadata": {
        "id": "O3OMaRLcSkDR",
        "colab_type": "code",
        "colab": {}
      },
      "source": [
        "game_grid.loc['19TDF1599']"
      ],
      "execution_count": 0,
      "outputs": []
    },
    {
      "cell_type": "code",
      "metadata": {
        "id": "_LE2-UsOLXR8",
        "colab_type": "code",
        "colab": {}
      },
      "source": [
        "pop_col = game_grid.loc[evac_grid.index, 'population']\n",
        "pop_col *= 0.85\n",
        "pop_col = round(pop_col)\n",
        "game_grid.loc[evac_grid.index, 'population'] = pop_col"
      ],
      "execution_count": 0,
      "outputs": []
    },
    {
      "cell_type": "code",
      "metadata": {
        "id": "4_s729UDCjxR",
        "colab_type": "code",
        "colab": {
          "base_uri": "https://localhost:8080/",
          "height": 425
        },
        "outputId": "603168f2-81a8-42c9-f508-ce786f110696"
      },
      "source": [
        "game_grid.head()"
      ],
      "execution_count": 123,
      "outputs": [
        {
          "output_type": "execute_result",
          "data": {
            "text/html": [
              "<div>\n",
              "<style scoped>\n",
              "    .dataframe tbody tr th:only-of-type {\n",
              "        vertical-align: middle;\n",
              "    }\n",
              "\n",
              "    .dataframe tbody tr th {\n",
              "        vertical-align: top;\n",
              "    }\n",
              "\n",
              "    .dataframe thead th {\n",
              "        text-align: right;\n",
              "    }\n",
              "</style>\n",
              "<table border=\"1\" class=\"dataframe\">\n",
              "  <thead>\n",
              "    <tr style=\"text-align: right;\">\n",
              "      <th></th>\n",
              "      <th>Health</th>\n",
              "      <th>Utility</th>\n",
              "      <th>Transporta</th>\n",
              "      <th>geometry</th>\n",
              "      <th>population</th>\n",
              "      <th>elevation</th>\n",
              "      <th>normalized_pop</th>\n",
              "      <th>normalized_ele</th>\n",
              "    </tr>\n",
              "    <tr>\n",
              "      <th>MGRS</th>\n",
              "      <th></th>\n",
              "      <th></th>\n",
              "      <th></th>\n",
              "      <th></th>\n",
              "      <th></th>\n",
              "      <th></th>\n",
              "      <th></th>\n",
              "      <th></th>\n",
              "    </tr>\n",
              "  </thead>\n",
              "  <tbody>\n",
              "    <tr>\n",
              "      <th>19TBH7019</th>\n",
              "      <td>5</td>\n",
              "      <td>7</td>\n",
              "      <td>5</td>\n",
              "      <td>POLYGON ((-71.79092278136125 42.58943590354409...</td>\n",
              "      <td>443.0</td>\n",
              "      <td>196.344985</td>\n",
              "      <td>0.419388</td>\n",
              "      <td>7.573497</td>\n",
              "    </tr>\n",
              "    <tr>\n",
              "      <th>19TBH7119</th>\n",
              "      <td>1</td>\n",
              "      <td>7</td>\n",
              "      <td>4</td>\n",
              "      <td>POLYGON ((-71.77874932612048 42.58973201162303...</td>\n",
              "      <td>381.0</td>\n",
              "      <td>139.760744</td>\n",
              "      <td>0.360693</td>\n",
              "      <td>5.390907</td>\n",
              "    </tr>\n",
              "    <tr>\n",
              "      <th>19TBH7219</th>\n",
              "      <td>1</td>\n",
              "      <td>7</td>\n",
              "      <td>1</td>\n",
              "      <td>POLYGON ((-71.76657568741803 42.59002682737616...</td>\n",
              "      <td>318.0</td>\n",
              "      <td>144.429830</td>\n",
              "      <td>0.301051</td>\n",
              "      <td>5.571005</td>\n",
              "    </tr>\n",
              "    <tr>\n",
              "      <th>19TBH7319</th>\n",
              "      <td>5</td>\n",
              "      <td>7</td>\n",
              "      <td>1</td>\n",
              "      <td>POLYGON ((-71.75440186615322 42.59032035170287...</td>\n",
              "      <td>182.0</td>\n",
              "      <td>154.567869</td>\n",
              "      <td>0.172300</td>\n",
              "      <td>5.962054</td>\n",
              "    </tr>\n",
              "    <tr>\n",
              "      <th>19TBH7419</th>\n",
              "      <td>4</td>\n",
              "      <td>7</td>\n",
              "      <td>1</td>\n",
              "      <td>POLYGON ((-71.74222786322531 42.59061258370377...</td>\n",
              "      <td>115.0</td>\n",
              "      <td>176.765537</td>\n",
              "      <td>0.108871</td>\n",
              "      <td>6.818271</td>\n",
              "    </tr>\n",
              "  </tbody>\n",
              "</table>\n",
              "</div>"
            ],
            "text/plain": [
              "           Health  Utility  ...  normalized_pop normalized_ele\n",
              "MGRS                        ...                               \n",
              "19TBH7019       5        7  ...        0.419388       7.573497\n",
              "19TBH7119       1        7  ...        0.360693       5.390907\n",
              "19TBH7219       1        7  ...        0.301051       5.571005\n",
              "19TBH7319       5        7  ...        0.172300       5.962054\n",
              "19TBH7419       4        7  ...        0.108871       6.818271\n",
              "\n",
              "[5 rows x 8 columns]"
            ]
          },
          "metadata": {
            "tags": []
          },
          "execution_count": 123
        }
      ]
    },
    {
      "cell_type": "code",
      "metadata": {
        "id": "X9Sw5bmWFQdj",
        "colab_type": "code",
        "colab": {}
      },
      "source": [
        "game_grid['Vulnerability'] = 0.5 * game_grid['Health'] + 0.1 * game_grid['normalized_ele'] +  \\\n",
        "0.10 * (10 - game_grid['Transporta']) + 0.10 * game_grid['Utility'] + 0.2 * (10 - game_grid['normalized_pop'])"
      ],
      "execution_count": 0,
      "outputs": []
    },
    {
      "cell_type": "code",
      "metadata": {
        "id": "87bs5QAoEXDi",
        "colab_type": "code",
        "colab": {
          "base_uri": "https://localhost:8080/",
          "height": 425
        },
        "outputId": "81f77e4d-f2d0-4500-aca4-0889f22d491a"
      },
      "source": [
        "game_grid.head()"
      ],
      "execution_count": 125,
      "outputs": [
        {
          "output_type": "execute_result",
          "data": {
            "text/html": [
              "<div>\n",
              "<style scoped>\n",
              "    .dataframe tbody tr th:only-of-type {\n",
              "        vertical-align: middle;\n",
              "    }\n",
              "\n",
              "    .dataframe tbody tr th {\n",
              "        vertical-align: top;\n",
              "    }\n",
              "\n",
              "    .dataframe thead th {\n",
              "        text-align: right;\n",
              "    }\n",
              "</style>\n",
              "<table border=\"1\" class=\"dataframe\">\n",
              "  <thead>\n",
              "    <tr style=\"text-align: right;\">\n",
              "      <th></th>\n",
              "      <th>Health</th>\n",
              "      <th>Utility</th>\n",
              "      <th>Transporta</th>\n",
              "      <th>geometry</th>\n",
              "      <th>population</th>\n",
              "      <th>elevation</th>\n",
              "      <th>normalized_pop</th>\n",
              "      <th>normalized_ele</th>\n",
              "      <th>Vulnerability</th>\n",
              "    </tr>\n",
              "    <tr>\n",
              "      <th>MGRS</th>\n",
              "      <th></th>\n",
              "      <th></th>\n",
              "      <th></th>\n",
              "      <th></th>\n",
              "      <th></th>\n",
              "      <th></th>\n",
              "      <th></th>\n",
              "      <th></th>\n",
              "      <th></th>\n",
              "    </tr>\n",
              "  </thead>\n",
              "  <tbody>\n",
              "    <tr>\n",
              "      <th>19TBH7019</th>\n",
              "      <td>5</td>\n",
              "      <td>7</td>\n",
              "      <td>5</td>\n",
              "      <td>POLYGON ((-71.79092278136125 42.58943590354409...</td>\n",
              "      <td>443.0</td>\n",
              "      <td>196.344985</td>\n",
              "      <td>0.419388</td>\n",
              "      <td>7.573497</td>\n",
              "      <td>6.373472</td>\n",
              "    </tr>\n",
              "    <tr>\n",
              "      <th>19TBH7119</th>\n",
              "      <td>1</td>\n",
              "      <td>7</td>\n",
              "      <td>4</td>\n",
              "      <td>POLYGON ((-71.77874932612048 42.58973201162303...</td>\n",
              "      <td>381.0</td>\n",
              "      <td>139.760744</td>\n",
              "      <td>0.360693</td>\n",
              "      <td>5.390907</td>\n",
              "      <td>4.266952</td>\n",
              "    </tr>\n",
              "    <tr>\n",
              "      <th>19TBH7219</th>\n",
              "      <td>1</td>\n",
              "      <td>7</td>\n",
              "      <td>1</td>\n",
              "      <td>POLYGON ((-71.76657568741803 42.59002682737616...</td>\n",
              "      <td>318.0</td>\n",
              "      <td>144.429830</td>\n",
              "      <td>0.301051</td>\n",
              "      <td>5.571005</td>\n",
              "      <td>4.596890</td>\n",
              "    </tr>\n",
              "    <tr>\n",
              "      <th>19TBH7319</th>\n",
              "      <td>5</td>\n",
              "      <td>7</td>\n",
              "      <td>1</td>\n",
              "      <td>POLYGON ((-71.75440186615322 42.59032035170287...</td>\n",
              "      <td>182.0</td>\n",
              "      <td>154.567869</td>\n",
              "      <td>0.172300</td>\n",
              "      <td>5.962054</td>\n",
              "      <td>6.661745</td>\n",
              "    </tr>\n",
              "    <tr>\n",
              "      <th>19TBH7419</th>\n",
              "      <td>4</td>\n",
              "      <td>7</td>\n",
              "      <td>1</td>\n",
              "      <td>POLYGON ((-71.74222786322531 42.59061258370377...</td>\n",
              "      <td>115.0</td>\n",
              "      <td>176.765537</td>\n",
              "      <td>0.108871</td>\n",
              "      <td>6.818271</td>\n",
              "      <td>6.260053</td>\n",
              "    </tr>\n",
              "  </tbody>\n",
              "</table>\n",
              "</div>"
            ],
            "text/plain": [
              "           Health  Utility  ...  normalized_ele Vulnerability\n",
              "MGRS                        ...                              \n",
              "19TBH7019       5        7  ...        7.573497      6.373472\n",
              "19TBH7119       1        7  ...        5.390907      4.266952\n",
              "19TBH7219       1        7  ...        5.571005      4.596890\n",
              "19TBH7319       5        7  ...        5.962054      6.661745\n",
              "19TBH7419       4        7  ...        6.818271      6.260053\n",
              "\n",
              "[5 rows x 9 columns]"
            ]
          },
          "metadata": {
            "tags": []
          },
          "execution_count": 125
        }
      ]
    },
    {
      "cell_type": "code",
      "metadata": {
        "id": "CcHK-BwMemnU",
        "colab_type": "code",
        "outputId": "6274324f-34c4-4bab-a601-5efacae61f98",
        "colab": {
          "base_uri": "https://localhost:8080/",
          "height": 442
        }
      },
      "source": [
        "game_grid.sort_values(by = 'Vulnerability', inplace = True)\n",
        "game_grid.head()"
      ],
      "execution_count": 126,
      "outputs": [
        {
          "output_type": "execute_result",
          "data": {
            "text/html": [
              "<div>\n",
              "<style scoped>\n",
              "    .dataframe tbody tr th:only-of-type {\n",
              "        vertical-align: middle;\n",
              "    }\n",
              "\n",
              "    .dataframe tbody tr th {\n",
              "        vertical-align: top;\n",
              "    }\n",
              "\n",
              "    .dataframe thead th {\n",
              "        text-align: right;\n",
              "    }\n",
              "</style>\n",
              "<table border=\"1\" class=\"dataframe\">\n",
              "  <thead>\n",
              "    <tr style=\"text-align: right;\">\n",
              "      <th></th>\n",
              "      <th>Health</th>\n",
              "      <th>Utility</th>\n",
              "      <th>Transporta</th>\n",
              "      <th>geometry</th>\n",
              "      <th>population</th>\n",
              "      <th>elevation</th>\n",
              "      <th>normalized_pop</th>\n",
              "      <th>normalized_ele</th>\n",
              "      <th>Vulnerability</th>\n",
              "    </tr>\n",
              "    <tr>\n",
              "      <th>MGRS</th>\n",
              "      <th></th>\n",
              "      <th></th>\n",
              "      <th></th>\n",
              "      <th></th>\n",
              "      <th></th>\n",
              "      <th></th>\n",
              "      <th></th>\n",
              "      <th></th>\n",
              "      <th></th>\n",
              "    </tr>\n",
              "  </thead>\n",
              "  <tbody>\n",
              "    <tr>\n",
              "      <th>19TCF5391</th>\n",
              "      <td>1</td>\n",
              "      <td>5</td>\n",
              "      <td>5</td>\n",
              "      <td>POLYGON ((-70.74810150028401 41.45731318075866...</td>\n",
              "      <td>0.0</td>\n",
              "      <td>0.421219</td>\n",
              "      <td>0.000000</td>\n",
              "      <td>0.016247</td>\n",
              "      <td>3.501625</td>\n",
              "    </tr>\n",
              "    <tr>\n",
              "      <th>19TCH0417</th>\n",
              "      <td>1</td>\n",
              "      <td>7</td>\n",
              "      <td>8</td>\n",
              "      <td>POLYGON ((-71.376243194268 42.5807826241188, -...</td>\n",
              "      <td>358.0</td>\n",
              "      <td>60.529538</td>\n",
              "      <td>0.338919</td>\n",
              "      <td>2.334770</td>\n",
              "      <td>3.565693</td>\n",
              "    </tr>\n",
              "    <tr>\n",
              "      <th>19TCH0116</th>\n",
              "      <td>1</td>\n",
              "      <td>7</td>\n",
              "      <td>9</td>\n",
              "      <td>POLYGON ((-71.41242244264163 42.57102110294153...</td>\n",
              "      <td>156.0</td>\n",
              "      <td>81.680423</td>\n",
              "      <td>0.147685</td>\n",
              "      <td>3.150610</td>\n",
              "      <td>3.585524</td>\n",
              "    </tr>\n",
              "    <tr>\n",
              "      <th>19TBH9718</th>\n",
              "      <td>1</td>\n",
              "      <td>7</td>\n",
              "      <td>8</td>\n",
              "      <td>POLYGON ((-71.46182313792747 42.58797984629285...</td>\n",
              "      <td>257.0</td>\n",
              "      <td>66.730963</td>\n",
              "      <td>0.243302</td>\n",
              "      <td>2.573973</td>\n",
              "      <td>3.608737</td>\n",
              "    </tr>\n",
              "    <tr>\n",
              "      <th>19TCF7378</th>\n",
              "      <td>1</td>\n",
              "      <td>5</td>\n",
              "      <td>3</td>\n",
              "      <td>POLYGON ((-70.50601594937655 41.34364435999919...</td>\n",
              "      <td>0.0</td>\n",
              "      <td>0.512572</td>\n",
              "      <td>0.000000</td>\n",
              "      <td>0.019771</td>\n",
              "      <td>3.701977</td>\n",
              "    </tr>\n",
              "  </tbody>\n",
              "</table>\n",
              "</div>"
            ],
            "text/plain": [
              "           Health  Utility  ...  normalized_ele Vulnerability\n",
              "MGRS                        ...                              \n",
              "19TCF5391       1        5  ...        0.016247      3.501625\n",
              "19TCH0417       1        7  ...        2.334770      3.565693\n",
              "19TCH0116       1        7  ...        3.150610      3.585524\n",
              "19TBH9718       1        7  ...        2.573973      3.608737\n",
              "19TCF7378       1        5  ...        0.019771      3.701977\n",
              "\n",
              "[5 rows x 9 columns]"
            ]
          },
          "metadata": {
            "tags": []
          },
          "execution_count": 126
        }
      ]
    },
    {
      "cell_type": "code",
      "metadata": {
        "id": "Cep3_ixxTSO6",
        "colab_type": "code",
        "colab": {}
      },
      "source": [
        "# for i in game_grid.index:\n",
        "#   print(i)"
      ],
      "execution_count": 0,
      "outputs": []
    },
    {
      "cell_type": "code",
      "metadata": {
        "id": "QwT9lPss8WWi",
        "colab_type": "code",
        "outputId": "37a14e6e-fefd-4e94-9894-4580b24059c9",
        "colab": {
          "base_uri": "https://localhost:8080/",
          "height": 599
        }
      },
      "source": [
        "fig=plt.figure(figsize=[10,10])\n",
        "ax=fig.add_subplot(1,1,1)\n",
        "ax.set_xlabel('Longitude')\n",
        "ax.set_ylabel('Latitude')\n",
        "ax.set_title('Inverse Vulnerability Heat Map')\n",
        "game_grid.plot(ax = ax, column = 'Vulnerability', legend = True, cmap = 'RdYlGn')"
      ],
      "execution_count": 131,
      "outputs": [
        {
          "output_type": "execute_result",
          "data": {
            "text/plain": [
              "<matplotlib.axes._subplots.AxesSubplot at 0x7fd9a5854c50>"
            ]
          },
          "metadata": {
            "tags": []
          },
          "execution_count": 131
        },
        {
          "output_type": "display_data",
          "data": {
            "image/png": "[encoded data removed]",
            "text/plain": [
              "<Figure size 720x720 with 2 Axes>"
            ]
          },
          "metadata": {
            "tags": []
          }
        }
      ]
    },
    {
      "cell_type": "markdown",
      "metadata": {
        "id": "eu3deYVRLV6t",
        "colab_type": "text"
      },
      "source": [
        "#Setting up prev_grid"
      ]
    },
    {
      "cell_type": "code",
      "metadata": {
        "id": "6YUZSQ4a8OrG",
        "colab_type": "code",
        "colab": {
          "base_uri": "https://localhost:8080/",
          "height": 204
        },
        "outputId": "309b4172-9684-42fa-ef9d-35439ff9483b"
      },
      "source": [
        "prev_grid = game_grid.copy()\n",
        "prev_grid.head()"
      ],
      "execution_count": 52,
      "outputs": [
        {
          "output_type": "execute_result",
          "data": {
            "text/html": [
              "<div>\n",
              "<style scoped>\n",
              "    .dataframe tbody tr th:only-of-type {\n",
              "        vertical-align: middle;\n",
              "    }\n",
              "\n",
              "    .dataframe tbody tr th {\n",
              "        vertical-align: top;\n",
              "    }\n",
              "\n",
              "    .dataframe thead th {\n",
              "        text-align: right;\n",
              "    }\n",
              "</style>\n",
              "<table border=\"1\" class=\"dataframe\">\n",
              "  <thead>\n",
              "    <tr style=\"text-align: right;\">\n",
              "      <th></th>\n",
              "      <th>Health</th>\n",
              "      <th>Utility</th>\n",
              "      <th>Transporta</th>\n",
              "      <th>geometry</th>\n",
              "    </tr>\n",
              "  </thead>\n",
              "  <tbody>\n",
              "    <tr>\n",
              "      <th>0</th>\n",
              "      <td>5</td>\n",
              "      <td>10</td>\n",
              "      <td>5</td>\n",
              "      <td>POLYGON ((-71.79092278136125 42.58943590354409...</td>\n",
              "    </tr>\n",
              "    <tr>\n",
              "      <th>1</th>\n",
              "      <td>1</td>\n",
              "      <td>10</td>\n",
              "      <td>4</td>\n",
              "      <td>POLYGON ((-71.77874932612048 42.58973201162303...</td>\n",
              "    </tr>\n",
              "    <tr>\n",
              "      <th>2</th>\n",
              "      <td>1</td>\n",
              "      <td>10</td>\n",
              "      <td>1</td>\n",
              "      <td>POLYGON ((-71.76657568741803 42.59002682737616...</td>\n",
              "    </tr>\n",
              "    <tr>\n",
              "      <th>3</th>\n",
              "      <td>5</td>\n",
              "      <td>10</td>\n",
              "      <td>1</td>\n",
              "      <td>POLYGON ((-71.75440186615322 42.59032035170287...</td>\n",
              "    </tr>\n",
              "    <tr>\n",
              "      <th>4</th>\n",
              "      <td>4</td>\n",
              "      <td>10</td>\n",
              "      <td>1</td>\n",
              "      <td>POLYGON ((-71.74222786322531 42.59061258370377...</td>\n",
              "    </tr>\n",
              "  </tbody>\n",
              "</table>\n",
              "</div>"
            ],
            "text/plain": [
              "   Health  ...                                           geometry\n",
              "0       5  ...  POLYGON ((-71.79092278136125 42.58943590354409...\n",
              "1       1  ...  POLYGON ((-71.77874932612048 42.58973201162303...\n",
              "2       1  ...  POLYGON ((-71.76657568741803 42.59002682737616...\n",
              "3       5  ...  POLYGON ((-71.75440186615322 42.59032035170287...\n",
              "4       4  ...  POLYGON ((-71.74222786322531 42.59061258370377...\n",
              "\n",
              "[5 rows x 4 columns]"
            ]
          },
          "metadata": {
            "tags": []
          },
          "execution_count": 52
        }
      ]
    },
    {
      "cell_type": "markdown",
      "metadata": {
        "id": "I-4XIPwjLCjo",
        "colab_type": "text"
      },
      "source": [
        "#End of Vulnerability Analysis"
      ]
    },
    {
      "cell_type": "code",
      "metadata": {
        "id": "hNkRPicONb4j",
        "colab_type": "code",
        "colab": {}
      },
      "source": [
        "if prev_grid.empty:\n",
        "  print('no!!!')"
      ],
      "execution_count": 0,
      "outputs": []
    },
    {
      "cell_type": "markdown",
      "metadata": {
        "id": "GSOlStJsabKC",
        "colab_type": "text"
      },
      "source": [
        "#Hospitals"
      ]
    },
    {
      "cell_type": "code",
      "metadata": {
        "id": "zdRjx9lQiXp4",
        "colab_type": "code",
        "colab": {}
      },
      "source": [
        "hospital_grid = gpd.read_file('game_grid_export/facilities/hospitals.shp')\n",
        "hospital_grid['hos_radius (km)'] = 0\n",
        "hospital_grid.loc[hospital_grid.loc[:, 'BEDS'] >= 200, 'hos_radius (km)'] = 25\n",
        "hospital_grid.loc[hospital_grid.loc[:, 'BEDS'] < 200, 'hos_radius (km)'] = 15"
      ],
      "execution_count": 0,
      "outputs": []
    },
    {
      "cell_type": "code",
      "metadata": {
        "id": "eXCrfvkLegGC",
        "colab_type": "code",
        "colab": {}
      },
      "source": [
        "hospital_grid"
      ],
      "execution_count": 0,
      "outputs": []
    },
    {
      "cell_type": "code",
      "metadata": {
        "id": "bj1vxaYQyl8y",
        "colab_type": "code",
        "colab": {}
      },
      "source": [
        "game_grid['centroid'] = game_grid['geometry'].centroid"
      ],
      "execution_count": 0,
      "outputs": []
    },
    {
      "cell_type": "code",
      "metadata": {
        "id": "QblnFWSpuCWF",
        "colab_type": "code",
        "colab": {}
      },
      "source": [
        "grid = game_grid.to_crs(epsg=3857)"
      ],
      "execution_count": 0,
      "outputs": []
    },
    {
      "cell_type": "code",
      "metadata": {
        "id": "yeGgnGXju24h",
        "colab_type": "code",
        "colab": {}
      },
      "source": [
        "to_m = lambda km: km * 1000"
      ],
      "execution_count": 0,
      "outputs": []
    },
    {
      "cell_type": "code",
      "metadata": {
        "id": "Adg1QuNemFhR",
        "colab_type": "code",
        "colab": {}
      },
      "source": [
        "grid = game_grid.to_crs(epsg = 3857)\n",
        "big_hospitals=hospital_grid[hospital_grid['BEDS']>=200].to_crs(grid.crs)\n",
        "small_hospitals=hospital_grid[hospital_grid['BEDS']<200].to_crs(grid.crs)\n",
        "hospitals_buffered = hospital_grid.copy().to_crs(grid.crs)\n",
        "hospitals_buffered.loc[big_hospitals.index, 'geometry'] = hospitals_buffered.loc[big_hospitals.index,'geometry'].buffer(to_m(25))\n",
        "hospitals_buffered.loc[small_hospitals.index, 'geometry'] = hospitals_buffered.loc[small_hospitals.index,'geometry'].buffer(to_m(15))"
      ],
      "execution_count": 0,
      "outputs": []
    },
    {
      "cell_type": "code",
      "metadata": {
        "id": "3Os_1tt6u5Em",
        "colab_type": "code",
        "colab": {}
      },
      "source": [
        "fig=plt.figure(figsize=[20,20])\n",
        "ax=fig.add_subplot(1,1,1)\n",
        "grid.plot(ax=ax, column='Utility', legend=True)\n",
        "big_hospitals.buffer(to_m(25)).plot(color='red', ax=ax, zorder=15)\n",
        "small_hospitals.buffer(to_m(15)).plot(color='orange', ax=ax, zorder=15)"
      ],
      "execution_count": 0,
      "outputs": []
    },
    {
      "cell_type": "code",
      "metadata": {
        "id": "QNzsnuDtEk47",
        "colab_type": "code",
        "colab": {}
      },
      "source": [
        "grid"
      ],
      "execution_count": 0,
      "outputs": []
    },
    {
      "cell_type": "code",
      "metadata": {
        "id": "Y6L1J0NvElma",
        "colab_type": "code",
        "colab": {}
      },
      "source": [
        "hospitals_buffered"
      ],
      "execution_count": 0,
      "outputs": []
    },
    {
      "cell_type": "code",
      "metadata": {
        "id": "RTR4bPpcgh7l",
        "colab_type": "code",
        "colab": {}
      },
      "source": [
        "hosp_info = gpd.sjoin(grid, hospitals_buffered, how = 'inner', op = 'intersects')\n",
        "hosp_info"
      ],
      "execution_count": 0,
      "outputs": []
    },
    {
      "cell_type": "code",
      "metadata": {
        "id": "XwrXyy2MyGBU",
        "colab_type": "code",
        "colab": {}
      },
      "source": [
        "hosp_infopop = hosp_info.groupby('NAME').sum()"
      ],
      "execution_count": 0,
      "outputs": []
    },
    {
      "cell_type": "code",
      "metadata": {
        "id": "FbuAfjp_TAcl",
        "colab_type": "code",
        "colab": {}
      },
      "source": [
        "alpha_hosp = hospitals_buffered.sort_values('NAME').set_index('NAME')\n",
        "alpha_hosp['population'] = hosp_infopop['population'].values\n",
        "alpha_hosp"
      ],
      "execution_count": 0,
      "outputs": []
    },
    {
      "cell_type": "code",
      "metadata": {
        "id": "YohcuS1AyUKS",
        "colab_type": "code",
        "colab": {}
      },
      "source": [
        "alpha_hosp['population']"
      ],
      "execution_count": 0,
      "outputs": []
    },
    {
      "cell_type": "markdown",
      "metadata": {
        "id": "Yj0gpf6TtqFt",
        "colab_type": "text"
      },
      "source": [
        "#Set Cover Application Algorithm"
      ]
    },
    {
      "cell_type": "code",
      "metadata": {
        "id": "UczTN_nUhC-A",
        "colab_type": "code",
        "colab": {}
      },
      "source": [
        "large_hos_cost = 200\n",
        "small_hos_cost = 100\n",
        "\n",
        "cost_ref = {'small': small_hos_cost, 'big': large_hos_cost}"
      ],
      "execution_count": 0,
      "outputs": []
    },
    {
      "cell_type": "code",
      "metadata": {
        "id": "iIBtKD8gLPL1",
        "colab_type": "code",
        "colab": {}
      },
      "source": [
        "hosp_to_cells = {}\n",
        "for i, row in hosp_info.iterrows():\n",
        "  hosp_name = row[\"NAME\"]\n",
        "  size = 'small' if row['BEDS'] < 200 else 'big'\n",
        "  if hosp_name not in hosp_to_cells:\n",
        "    hosp_to_cells[(hosp_name, size)] = {i}\n",
        "  else:\n",
        "    hosp_to_cells[(hosp_name, size)].add(i)"
      ],
      "execution_count": 0,
      "outputs": []
    },
    {
      "cell_type": "code",
      "metadata": {
        "id": "bCig88vatego",
        "colab_type": "code",
        "colab": {}
      },
      "source": [
        "hosp_to_cells"
      ],
      "execution_count": 0,
      "outputs": []
    },
    {
      "cell_type": "code",
      "metadata": {
        "id": "Hx2S8t-xs3Gg",
        "colab_type": "code",
        "colab": {}
      },
      "source": [
        "hosp_to_cells\n",
        "freq_chart = [0 for _ in range(game_grid.shape[0])]\n",
        "covered = set()\n",
        "\n",
        "def calc_weight(subset, size):\n",
        "  return sum(grid.loc[cell, 'population'] for cell in subset) / cost_ref[size]\n",
        "\n",
        "    \n",
        "    \n",
        "def set_cover(budget, hosp_squares):#TODO: add cost_ref\n",
        "  to_ret = set()\n",
        "  while budget > 0:\n",
        "    max_hosp, max_subset = max(hosp_squares.items(), key = lambda tup: \\\n",
        "                               calc_weight(tup[1], tup[0][1]))\n",
        "    for cell in max_subset:\n",
        "      freq_chart[cell] += 1\n",
        "      /if freq_chart[cell] == 2:\n",
        "      /  covered.add(cell)\n",
        "    \n",
        "    budget -= cost_ref[max_hosp[1]]\n",
        "    to_ret.add(max_hosp)\n",
        "    \n",
        "    for key in hosp_squares:\n",
        "      hosp_squares[key] -= max_subset\n",
        "    del hosp_squares[max_hosp]\n",
        "      \n",
        "  return to_ret"
      ],
      "execution_count": 0,
      "outputs": []
    },
    {
      "cell_type": "code",
      "metadata": {
        "id": "D8mIxnIgZF2x",
        "colab_type": "code",
        "colab": {}
      },
      "source": [
        "flood_range = 500\n",
        "flooding2 = flooding.copy().to_crs(grid.crs)\n",
        "flooding2['geometry'] = flooding2['geometry'].buffer(flood_range)"
      ],
      "execution_count": 0,
      "outputs": []
    },
    {
      "cell_type": "code",
      "metadata": {
        "id": "LeVDyBhWZu18",
        "colab_type": "code",
        "colab": {}
      },
      "source": [
        "flood_poly = flooding2.unary_union\n",
        "print(type(flood_poly))"
      ],
      "execution_count": 0,
      "outputs": []
    },
    {
      "cell_type": "code",
      "metadata": {
        "id": "rkLmbuSLs4MN",
        "colab_type": "code",
        "colab": {}
      },
      "source": [
        "'''\n",
        "parameters: would be one, like the closest you could be to a flood, and the second\n",
        "one would be how far, like how the farthest you can be from the flood. Basically,\n",
        "Deteremine the hospitals that the operations want to use, basically.\n",
        "\n",
        "Sort it by population, and he already made the population column which each hosptial can hit.\n",
        "Priotirize where the hospitals can help. This is kind of extra, but if I can,\n",
        "I will determine if it's possible to open the hospitals with utility score. \n",
        "You need a minimum utility score to actually open a hospital. \n",
        "'''\n",
        "def operator_hospitals(min_d, max_d, flood_poly):\n",
        "  # Loop through all hospitals, see if the hospital in loop is in range\n",
        "  hosp_list = []\n",
        "  for i in range(len(hospital_grid)):\n",
        "    dist = flood.exterior.distance(hopsital_grid.loc[i, 'geometry'])\n",
        "    if dist < maxdist and dist > mindist:\n",
        "      hosp_list.append(hospital_grid.loc[i, 'NAME'])\n",
        "  return hosp_list\n",
        "  \n",
        "  \n",
        "  "
      ],
      "execution_count": 0,
      "outputs": []
    },
    {
      "cell_type": "code",
      "metadata": {
        "id": "kqY4NQb7kxj8",
        "colab_type": "code",
        "colab": {}
      },
      "source": [
        "from shapely.geometry import MultiPolygon\n",
        "import shapely.ops as shap"
      ],
      "execution_count": 0,
      "outputs": []
    },
    {
      "cell_type": "code",
      "metadata": {
        "id": "umfrYCa5iNa_",
        "colab_type": "code",
        "colab": {}
      },
      "source": [
        "def fl_create(fl, b, i = 0):\n",
        "  flooding = fl.copy().to_crs(grid.crs)\n",
        "  flooding['geometry'] = flooding['geometry'].buffer(b)\n",
        "  if i == 0:\n",
        "    flood = flooding['geometry'].unary_union\n",
        "  else:\n",
        "    l = [MultiPolygon([flooding.loc[i, 'geometry'], \\\n",
        "                      flooding.loc[i + 1, 'geometry']]).convex_hull \\\n",
        "         for i in range(len(flooding) - 1)]\n",
        "    flood = shap.cascaded_union(MultiPolygon(l))\n",
        "  return flood"
      ],
      "execution_count": 0,
      "outputs": []
    },
    {
      "cell_type": "code",
      "metadata": {
        "id": "doJILuDSk0u6",
        "colab_type": "code",
        "colab": {}
      },
      "source": [
        "fl_create(flooding, 500, 1)"
      ],
      "execution_count": 0,
      "outputs": []
    },
    {
      "cell_type": "markdown",
      "metadata": {
        "id": "x9EJaebgkPAA",
        "colab_type": "text"
      },
      "source": [
        "# Evacuation"
      ]
    },
    {
      "cell_type": "code",
      "metadata": {
        "id": "iS9747fQkR2Y",
        "colab_type": "code",
        "colab": {}
      },
      "source": [
        "ls"
      ],
      "execution_count": 0,
      "outputs": []
    },
    {
      "cell_type": "code",
      "metadata": {
        "id": "n33yyClBkguH",
        "colab_type": "code",
        "colab": {}
      },
      "source": [
        ""
      ],
      "execution_count": 0,
      "outputs": []
    }
  ]
}