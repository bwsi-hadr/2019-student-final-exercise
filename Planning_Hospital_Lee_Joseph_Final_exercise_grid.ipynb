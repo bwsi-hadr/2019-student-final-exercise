{
  "nbformat": 4,
  "nbformat_minor": 0,
  "metadata": {
    "colab": {
      "name": "Planning-Hospital_Lee_Joseph_Final_exercise_grid.ipynb",
      "version": "0.3.2",
      "provenance": [],
      "collapsed_sections": [],
      "toc_visible": true,
      "include_colab_link": true
    },
    "kernelspec": {
      "name": "python3",
      "display_name": "Python 3"
    },
    "accelerator": "GPU"
  },
  "cells": [
    {
      "cell_type": "markdown",
      "metadata": {
        "id": "view-in-github",
        "colab_type": "text"
      },
      "source": [
        "<a href=\"https://colab.research.google.com/github/bwsi-hadr/2019-student-final-exercise/blob/master/Planning_Hospital_Lee_Joseph_Final_exercise_grid.ipynb\" target=\"_parent\"><img src=\"https://colab.research.google.com/assets/colab-badge.svg\" alt=\"Open In Colab\"/></a>"
      ]
    },
    {
      "cell_type": "code",
      "metadata": {
        "id": "9bmz5lfibhG0",
        "colab_type": "code",
        "colab": {}
      },
      "source": [
        "# need to specify location of some certificates for rasterio\n",
        "!export CURL_CA_BUNDLE=/etc/ssl/certs/ca-certificates.crt\n",
        "!sudo mkdir -p /etc/pki/tls/certs\n",
        "!sudo cp /etc/ssl/certs/ca-certificates.crt /etc/pki/tls/certs/ca-bundle.crt\n",
        "try:\n",
        "  import rasterio\n",
        "  import rasterio.plot\n",
        "  import rasterio.merge \n",
        "  import rasterio.mask\n",
        "except:\n",
        "  !pip install rasterio\n",
        "  import rasterio\n",
        "  import rasterio.plot\n",
        "  import rasterio.merge\n",
        "  import rasterio.mask\n",
        "  \n",
        "try:\n",
        "  import rasterstats as rs\n",
        "except:\n",
        "  !pip install rasterstats  \n",
        "  import rasterstats as rs\n",
        "  \n",
        "try:\n",
        "  import pyproj\n",
        "except:\n",
        "  !pip install pyproj\n",
        "  import pyproj\n",
        "  \n",
        "import networkx as nx\n",
        "try:\n",
        "  import osmnx as ox\n",
        "except:\n",
        "  # osmnx depends on the system package libspatialindex\n",
        "  !apt install libspatialindex-dev\n",
        "  !pip install osmnx\n",
        "  import osmnx as ox\n",
        "\n",
        "try: \n",
        "  import geopandas as gpd\n",
        "except: \n",
        "  !pip install geopandas \n",
        "  import geopandas as gpd\n",
        "  \n",
        "try:\n",
        "  import contextily as ctx \n",
        "except:\n",
        "  # install dependencies for contextily\n",
        "  !apt install libproj-dev proj-data proj-bin\n",
        "  !apt install libgeos-dev\n",
        "  !pip install cython\n",
        "  !pip install cartopy\n",
        "  # install contextily\n",
        "  !pip install contextily==1.0rc1 --no-use-pep517 --no-cache-dir\n",
        "  import contextily as ctx\n",
        "  \n",
        "import fiona\n",
        "from shapely.geometry import Point, LineString, Polygon\n",
        "  \n",
        "import gdal\n",
        "import pandas as pd\n",
        "import numpy as np\n",
        "import matplotlib.pyplot as plt\n",
        "import pathlib\n",
        "from google.colab import drive\n",
        "drive.mount('/content/drive')\n",
        "%cd /content/drive/'My Drive'/BWSI-Remote-Sensing/'Final_exercise'"
      ],
      "execution_count": 0,
      "outputs": []
    },
    {
      "cell_type": "markdown",
      "metadata": {
        "id": "i9Zunz6xuQfb",
        "colab_type": "text"
      },
      "source": [
        "#Base Grid and Directory"
      ]
    },
    {
      "cell_type": "code",
      "metadata": {
        "id": "krhqfhINqs6k",
        "colab_type": "code",
        "colab": {}
      },
      "source": [
        "base_grid = gpd.read_file('game_grid_export/game_grid_all_stats.shp')"
      ],
      "execution_count": 0,
      "outputs": []
    },
    {
      "cell_type": "code",
      "metadata": {
        "id": "Lx_i_lwPxPoL",
        "colab_type": "code",
        "outputId": "a30634ed-0b10-4cf6-80a8-ef25ea86e52f",
        "colab": {
          "base_uri": "https://localhost:8080/",
          "height": 394
        }
      },
      "source": [
        "base_grid.head()\n",
        "# -71.79092278136125 42.58943590354409"
      ],
      "execution_count": 29,
      "outputs": [
        {
          "output_type": "execute_result",
          "data": {
            "text/html": [
              "<div>\n",
              "<style scoped>\n",
              "    .dataframe tbody tr th:only-of-type {\n",
              "        vertical-align: middle;\n",
              "    }\n",
              "\n",
              "    .dataframe tbody tr th {\n",
              "        vertical-align: top;\n",
              "    }\n",
              "\n",
              "    .dataframe thead th {\n",
              "        text-align: right;\n",
              "    }\n",
              "</style>\n",
              "<table border=\"1\" class=\"dataframe\">\n",
              "  <thead>\n",
              "    <tr style=\"text-align: right;\">\n",
              "      <th></th>\n",
              "      <th>MGRS</th>\n",
              "      <th>kmSQ_ID</th>\n",
              "      <th>GZD</th>\n",
              "      <th>EASTING</th>\n",
              "      <th>NORTHING</th>\n",
              "      <th>MGRS_10km</th>\n",
              "      <th>Shape_Leng</th>\n",
              "      <th>Shape_Le_1</th>\n",
              "      <th>Shape_Area</th>\n",
              "      <th>x_centroid</th>\n",
              "      <th>y_centroid</th>\n",
              "      <th>elevation</th>\n",
              "      <th>population</th>\n",
              "      <th>Health</th>\n",
              "      <th>Utility</th>\n",
              "      <th>Transporta</th>\n",
              "      <th>geometry</th>\n",
              "    </tr>\n",
              "  </thead>\n",
              "  <tbody>\n",
              "    <tr>\n",
              "      <th>0</th>\n",
              "      <td>19TBH7019</td>\n",
              "      <td>BH</td>\n",
              "      <td>19T</td>\n",
              "      <td>270000mE</td>\n",
              "      <td>4719000mN</td>\n",
              "      <td>19TBH71</td>\n",
              "      <td>0.042364</td>\n",
              "      <td>0.042364</td>\n",
              "      <td>0.00011</td>\n",
              "      <td>-71.797211</td>\n",
              "      <td>42.593785</td>\n",
              "      <td>196.344985</td>\n",
              "      <td>443</td>\n",
              "      <td>10</td>\n",
              "      <td>7</td>\n",
              "      <td>8</td>\n",
              "      <td>POLYGON ((-71.79092278136125 42.58943590354409...</td>\n",
              "    </tr>\n",
              "    <tr>\n",
              "      <th>1</th>\n",
              "      <td>19TBH7119</td>\n",
              "      <td>BH</td>\n",
              "      <td>19T</td>\n",
              "      <td>271000mE</td>\n",
              "      <td>4719000mN</td>\n",
              "      <td>19TBH71</td>\n",
              "      <td>0.042364</td>\n",
              "      <td>0.042364</td>\n",
              "      <td>0.00011</td>\n",
              "      <td>-71.785036</td>\n",
              "      <td>42.594082</td>\n",
              "      <td>139.760744</td>\n",
              "      <td>381</td>\n",
              "      <td>10</td>\n",
              "      <td>7</td>\n",
              "      <td>8</td>\n",
              "      <td>POLYGON ((-71.77874932612048 42.58973201162303...</td>\n",
              "    </tr>\n",
              "    <tr>\n",
              "      <th>2</th>\n",
              "      <td>19TBH7219</td>\n",
              "      <td>BH</td>\n",
              "      <td>19T</td>\n",
              "      <td>272000mE</td>\n",
              "      <td>4719000mN</td>\n",
              "      <td>19TBH71</td>\n",
              "      <td>0.042364</td>\n",
              "      <td>0.042364</td>\n",
              "      <td>0.00011</td>\n",
              "      <td>-71.772862</td>\n",
              "      <td>42.594377</td>\n",
              "      <td>144.429830</td>\n",
              "      <td>318</td>\n",
              "      <td>10</td>\n",
              "      <td>7</td>\n",
              "      <td>8</td>\n",
              "      <td>POLYGON ((-71.76657568741803 42.59002682737616...</td>\n",
              "    </tr>\n",
              "    <tr>\n",
              "      <th>3</th>\n",
              "      <td>19TBH7319</td>\n",
              "      <td>BH</td>\n",
              "      <td>19T</td>\n",
              "      <td>273000mE</td>\n",
              "      <td>4719000mN</td>\n",
              "      <td>19TBH71</td>\n",
              "      <td>0.042365</td>\n",
              "      <td>0.042365</td>\n",
              "      <td>0.00011</td>\n",
              "      <td>-71.760687</td>\n",
              "      <td>42.594671</td>\n",
              "      <td>154.567869</td>\n",
              "      <td>182</td>\n",
              "      <td>10</td>\n",
              "      <td>7</td>\n",
              "      <td>3</td>\n",
              "      <td>POLYGON ((-71.75440186615322 42.59032035170287...</td>\n",
              "    </tr>\n",
              "    <tr>\n",
              "      <th>4</th>\n",
              "      <td>19TBH7419</td>\n",
              "      <td>BH</td>\n",
              "      <td>19T</td>\n",
              "      <td>274000mE</td>\n",
              "      <td>4719000mN</td>\n",
              "      <td>19TBH71</td>\n",
              "      <td>0.042365</td>\n",
              "      <td>0.042365</td>\n",
              "      <td>0.00011</td>\n",
              "      <td>-71.748513</td>\n",
              "      <td>42.594964</td>\n",
              "      <td>176.765537</td>\n",
              "      <td>115</td>\n",
              "      <td>10</td>\n",
              "      <td>7</td>\n",
              "      <td>3</td>\n",
              "      <td>POLYGON ((-71.74222786322531 42.59061258370377...</td>\n",
              "    </tr>\n",
              "  </tbody>\n",
              "</table>\n",
              "</div>"
            ],
            "text/plain": [
              "        MGRS  ...                                           geometry\n",
              "0  19TBH7019  ...  POLYGON ((-71.79092278136125 42.58943590354409...\n",
              "1  19TBH7119  ...  POLYGON ((-71.77874932612048 42.58973201162303...\n",
              "2  19TBH7219  ...  POLYGON ((-71.76657568741803 42.59002682737616...\n",
              "3  19TBH7319  ...  POLYGON ((-71.75440186615322 42.59032035170287...\n",
              "4  19TBH7419  ...  POLYGON ((-71.74222786322531 42.59061258370377...\n",
              "\n",
              "[5 rows x 17 columns]"
            ]
          },
          "metadata": {
            "tags": []
          },
          "execution_count": 29
        }
      ]
    },
    {
      "cell_type": "code",
      "metadata": {
        "id": "g1V4pacmb6op",
        "colab_type": "code",
        "colab": {}
      },
      "source": [
        "game_grid = gpd.read_file('game2/response_turn_2/curr_grid.shp')\n",
        "# Transporta(tation) tells you "
      ],
      "execution_count": 0,
      "outputs": []
    },
    {
      "cell_type": "code",
      "metadata": {
        "id": "WhipYN8SyGAs",
        "colab_type": "code",
        "colab": {}
      },
      "source": [
        "game_grid['MGRS'] = base_grid['MGRS']\n",
        "game_grid['population'] = base_grid['population']\n",
        "game_grid['elevation'] = base_grid['elevation'] \n",
        "game_grid['Utility'] = base_grid['Utility']\n",
        "game_grid.set_index('MGRS', inplace = True)\n"
      ],
      "execution_count": 0,
      "outputs": []
    },
    {
      "cell_type": "code",
      "metadata": {
        "id": "g0khD760B5GP",
        "colab_type": "code",
        "colab": {
          "base_uri": "https://localhost:8080/",
          "height": 320
        },
        "outputId": "2164df3a-f39d-4a80-8643-f1710455951c"
      },
      "source": [
        "game_grid.head()"
      ],
      "execution_count": 18,
      "outputs": [
        {
          "output_type": "execute_result",
          "data": {
            "text/html": [
              "<div>\n",
              "<style scoped>\n",
              "    .dataframe tbody tr th:only-of-type {\n",
              "        vertical-align: middle;\n",
              "    }\n",
              "\n",
              "    .dataframe tbody tr th {\n",
              "        vertical-align: top;\n",
              "    }\n",
              "\n",
              "    .dataframe thead th {\n",
              "        text-align: right;\n",
              "    }\n",
              "</style>\n",
              "<table border=\"1\" class=\"dataframe\">\n",
              "  <thead>\n",
              "    <tr style=\"text-align: right;\">\n",
              "      <th></th>\n",
              "      <th>Health</th>\n",
              "      <th>Utility</th>\n",
              "      <th>Transporta</th>\n",
              "      <th>geometry</th>\n",
              "      <th>population</th>\n",
              "      <th>elevation</th>\n",
              "    </tr>\n",
              "    <tr>\n",
              "      <th>MGRS</th>\n",
              "      <th></th>\n",
              "      <th></th>\n",
              "      <th></th>\n",
              "      <th></th>\n",
              "      <th></th>\n",
              "      <th></th>\n",
              "    </tr>\n",
              "  </thead>\n",
              "  <tbody>\n",
              "    <tr>\n",
              "      <th>19TBH7019</th>\n",
              "      <td>5</td>\n",
              "      <td>7</td>\n",
              "      <td>5</td>\n",
              "      <td>POLYGON ((-71.79092278136125 42.58943590354409...</td>\n",
              "      <td>443</td>\n",
              "      <td>196.344985</td>\n",
              "    </tr>\n",
              "    <tr>\n",
              "      <th>19TBH7119</th>\n",
              "      <td>1</td>\n",
              "      <td>7</td>\n",
              "      <td>4</td>\n",
              "      <td>POLYGON ((-71.77874932612048 42.58973201162303...</td>\n",
              "      <td>381</td>\n",
              "      <td>139.760744</td>\n",
              "    </tr>\n",
              "    <tr>\n",
              "      <th>19TBH7219</th>\n",
              "      <td>1</td>\n",
              "      <td>7</td>\n",
              "      <td>1</td>\n",
              "      <td>POLYGON ((-71.76657568741803 42.59002682737616...</td>\n",
              "      <td>318</td>\n",
              "      <td>144.429830</td>\n",
              "    </tr>\n",
              "    <tr>\n",
              "      <th>19TBH7319</th>\n",
              "      <td>5</td>\n",
              "      <td>7</td>\n",
              "      <td>1</td>\n",
              "      <td>POLYGON ((-71.75440186615322 42.59032035170287...</td>\n",
              "      <td>182</td>\n",
              "      <td>154.567869</td>\n",
              "    </tr>\n",
              "    <tr>\n",
              "      <th>19TBH7419</th>\n",
              "      <td>4</td>\n",
              "      <td>7</td>\n",
              "      <td>1</td>\n",
              "      <td>POLYGON ((-71.74222786322531 42.59061258370377...</td>\n",
              "      <td>115</td>\n",
              "      <td>176.765537</td>\n",
              "    </tr>\n",
              "  </tbody>\n",
              "</table>\n",
              "</div>"
            ],
            "text/plain": [
              "           Health  Utility  ...  population   elevation\n",
              "MGRS                        ...                        \n",
              "19TBH7019       5        7  ...         443  196.344985\n",
              "19TBH7119       1        7  ...         381  139.760744\n",
              "19TBH7219       1        7  ...         318  144.429830\n",
              "19TBH7319       5        7  ...         182  154.567869\n",
              "19TBH7419       4        7  ...         115  176.765537\n",
              "\n",
              "[5 rows x 6 columns]"
            ]
          },
          "metadata": {
            "tags": []
          },
          "execution_count": 18
        }
      ]
    },
    {
      "cell_type": "markdown",
      "metadata": {
        "id": "OhwSg5j_uK0r",
        "colab_type": "text"
      },
      "source": [
        "#Evacuation Grid"
      ]
    },
    {
      "cell_type": "code",
      "metadata": {
        "id": "0mwXbmR2puaK",
        "colab_type": "code",
        "colab": {}
      },
      "source": [
        "evac_grid = gpd.read_file('game2/prep_turn_0/evacuation.shp')"
      ],
      "execution_count": 0,
      "outputs": []
    },
    {
      "cell_type": "code",
      "metadata": {
        "id": "k6mGi9Kz5M-c",
        "colab_type": "code",
        "colab": {}
      },
      "source": [
        "evac_grid.set_index('MGRS', inplace = True)"
      ],
      "execution_count": 0,
      "outputs": []
    },
    {
      "cell_type": "code",
      "metadata": {
        "id": "2-bvsDXTE3Nt",
        "colab_type": "code",
        "colab": {
          "base_uri": "https://localhost:8080/",
          "height": 119
        },
        "outputId": "a9b7e601-d4e0-49d2-e4c3-80f98adbd19b"
      },
      "source": [
        "evac_grid.index"
      ],
      "execution_count": 21,
      "outputs": [
        {
          "output_type": "execute_result",
          "data": {
            "text/plain": [
              "Index(['19TDF1599', '19TCF2994', '19TCF2994', '19TCF2994', '19TCF2994',\n",
              "       '19TBF8884', '19TCG1403', '19TCG1403', '19TCF4490', '19TCG8909',\n",
              "       ...\n",
              "       '19TDG1813', '19TCG0326', '19TCG0326', '19TCG0326', '19TCG0326',\n",
              "       '19TBF9491', '19TBF9491', '19TCG6304', '19TCG6304', '19TCG2639'],\n",
              "      dtype='object', name='MGRS', length=2651)"
            ]
          },
          "metadata": {
            "tags": []
          },
          "execution_count": 21
        }
      ]
    },
    {
      "cell_type": "code",
      "metadata": {
        "id": "XD0ehwP8AHRB",
        "colab_type": "code",
        "colab": {
          "base_uri": "https://localhost:8080/",
          "height": 425
        },
        "outputId": "b6b19033-eabb-47f0-b4a3-dbe4d0bddbf5"
      },
      "source": [
        "evac_grid.head()"
      ],
      "execution_count": 22,
      "outputs": [
        {
          "output_type": "execute_result",
          "data": {
            "text/html": [
              "<div>\n",
              "<style scoped>\n",
              "    .dataframe tbody tr th:only-of-type {\n",
              "        vertical-align: middle;\n",
              "    }\n",
              "\n",
              "    .dataframe tbody tr th {\n",
              "        vertical-align: top;\n",
              "    }\n",
              "\n",
              "    .dataframe thead th {\n",
              "        text-align: right;\n",
              "    }\n",
              "</style>\n",
              "<table border=\"1\" class=\"dataframe\">\n",
              "  <thead>\n",
              "    <tr style=\"text-align: right;\">\n",
              "      <th></th>\n",
              "      <th>kmSQ_ID</th>\n",
              "      <th>GZD</th>\n",
              "      <th>EASTING</th>\n",
              "      <th>NORTHING</th>\n",
              "      <th>MGRS_10km</th>\n",
              "      <th>Shape_Leng</th>\n",
              "      <th>Shape_Le_1</th>\n",
              "      <th>Shape_Area</th>\n",
              "      <th>x_centroid</th>\n",
              "      <th>y_centroid</th>\n",
              "      <th>elevation</th>\n",
              "      <th>population</th>\n",
              "      <th>Health</th>\n",
              "      <th>Utility</th>\n",
              "      <th>Transporta</th>\n",
              "      <th>score</th>\n",
              "      <th>index_righ</th>\n",
              "      <th>STATE_NAME</th>\n",
              "      <th>geometry</th>\n",
              "    </tr>\n",
              "    <tr>\n",
              "      <th>MGRS</th>\n",
              "      <th></th>\n",
              "      <th></th>\n",
              "      <th></th>\n",
              "      <th></th>\n",
              "      <th></th>\n",
              "      <th></th>\n",
              "      <th></th>\n",
              "      <th></th>\n",
              "      <th></th>\n",
              "      <th></th>\n",
              "      <th></th>\n",
              "      <th></th>\n",
              "      <th></th>\n",
              "      <th></th>\n",
              "      <th></th>\n",
              "      <th></th>\n",
              "      <th></th>\n",
              "      <th></th>\n",
              "      <th></th>\n",
              "    </tr>\n",
              "  </thead>\n",
              "  <tbody>\n",
              "    <tr>\n",
              "      <th>19TDF1599</th>\n",
              "      <td>DF</td>\n",
              "      <td>19T</td>\n",
              "      <td>415000mE</td>\n",
              "      <td>4599000mN</td>\n",
              "      <td>19TDF19</td>\n",
              "      <td>0.041990</td>\n",
              "      <td>0.041990</td>\n",
              "      <td>0.000108</td>\n",
              "      <td>-70.013087</td>\n",
              "      <td>41.542698</td>\n",
              "      <td>0.200436</td>\n",
              "      <td>0</td>\n",
              "      <td>10</td>\n",
              "      <td>5</td>\n",
              "      <td>3</td>\n",
              "      <td>1.689431</td>\n",
              "      <td>4</td>\n",
              "      <td>Massachusetts</td>\n",
              "      <td>POLYGON ((-70.00702313710809 41.53824772675114...</td>\n",
              "    </tr>\n",
              "    <tr>\n",
              "      <th>19TCF2994</th>\n",
              "      <td>CF</td>\n",
              "      <td>19T</td>\n",
              "      <td>329000mE</td>\n",
              "      <td>4594000mN</td>\n",
              "      <td>19TCF29</td>\n",
              "      <td>0.041958</td>\n",
              "      <td>0.041958</td>\n",
              "      <td>0.000108</td>\n",
              "      <td>-71.042270</td>\n",
              "      <td>41.483989</td>\n",
              "      <td>0.200880</td>\n",
              "      <td>3</td>\n",
              "      <td>10</td>\n",
              "      <td>7</td>\n",
              "      <td>3</td>\n",
              "      <td>1.419392</td>\n",
              "      <td>3</td>\n",
              "      <td>Massachusetts</td>\n",
              "      <td>POLYGON ((-71.03614388353338 41.47959420730677...</td>\n",
              "    </tr>\n",
              "    <tr>\n",
              "      <th>19TCF2994</th>\n",
              "      <td>CF</td>\n",
              "      <td>19T</td>\n",
              "      <td>329000mE</td>\n",
              "      <td>4594000mN</td>\n",
              "      <td>19TCF29</td>\n",
              "      <td>0.041958</td>\n",
              "      <td>0.041958</td>\n",
              "      <td>0.000108</td>\n",
              "      <td>-71.042270</td>\n",
              "      <td>41.483989</td>\n",
              "      <td>0.200880</td>\n",
              "      <td>3</td>\n",
              "      <td>10</td>\n",
              "      <td>7</td>\n",
              "      <td>3</td>\n",
              "      <td>1.419392</td>\n",
              "      <td>9</td>\n",
              "      <td>Rhode Island</td>\n",
              "      <td>POLYGON ((-71.03614388353338 41.47959420730677...</td>\n",
              "    </tr>\n",
              "    <tr>\n",
              "      <th>19TCF2994</th>\n",
              "      <td>CF</td>\n",
              "      <td>19T</td>\n",
              "      <td>329000mE</td>\n",
              "      <td>4594000mN</td>\n",
              "      <td>19TCF29</td>\n",
              "      <td>0.041958</td>\n",
              "      <td>0.041958</td>\n",
              "      <td>0.000108</td>\n",
              "      <td>-71.042270</td>\n",
              "      <td>41.483989</td>\n",
              "      <td>0.200880</td>\n",
              "      <td>3</td>\n",
              "      <td>10</td>\n",
              "      <td>7</td>\n",
              "      <td>3</td>\n",
              "      <td>1.419392</td>\n",
              "      <td>15</td>\n",
              "      <td>Rhode Island</td>\n",
              "      <td>POLYGON ((-71.03614388353338 41.47959420730677...</td>\n",
              "    </tr>\n",
              "    <tr>\n",
              "      <th>19TCF2994</th>\n",
              "      <td>CF</td>\n",
              "      <td>19T</td>\n",
              "      <td>329000mE</td>\n",
              "      <td>4594000mN</td>\n",
              "      <td>19TCF29</td>\n",
              "      <td>0.041958</td>\n",
              "      <td>0.041958</td>\n",
              "      <td>0.000108</td>\n",
              "      <td>-71.042270</td>\n",
              "      <td>41.483989</td>\n",
              "      <td>0.200880</td>\n",
              "      <td>3</td>\n",
              "      <td>10</td>\n",
              "      <td>7</td>\n",
              "      <td>3</td>\n",
              "      <td>1.419392</td>\n",
              "      <td>10</td>\n",
              "      <td>Massachusetts</td>\n",
              "      <td>POLYGON ((-71.03614388353338 41.47959420730677...</td>\n",
              "    </tr>\n",
              "  </tbody>\n",
              "</table>\n",
              "</div>"
            ],
            "text/plain": [
              "          kmSQ_ID  ...                                           geometry\n",
              "MGRS               ...                                                   \n",
              "19TDF1599      DF  ...  POLYGON ((-70.00702313710809 41.53824772675114...\n",
              "19TCF2994      CF  ...  POLYGON ((-71.03614388353338 41.47959420730677...\n",
              "19TCF2994      CF  ...  POLYGON ((-71.03614388353338 41.47959420730677...\n",
              "19TCF2994      CF  ...  POLYGON ((-71.03614388353338 41.47959420730677...\n",
              "19TCF2994      CF  ...  POLYGON ((-71.03614388353338 41.47959420730677...\n",
              "\n",
              "[5 rows x 19 columns]"
            ]
          },
          "metadata": {
            "tags": []
          },
          "execution_count": 22
        }
      ]
    },
    {
      "cell_type": "code",
      "metadata": {
        "id": "Dr0lIACJMj8A",
        "colab_type": "code",
        "outputId": "9a46b86c-3bc3-437e-ec80-e4367a513e53",
        "colab": {
          "base_uri": "https://localhost:8080/",
          "height": 320
        }
      },
      "source": [
        "game_grid.head()"
      ],
      "execution_count": 23,
      "outputs": [
        {
          "output_type": "execute_result",
          "data": {
            "text/html": [
              "<div>\n",
              "<style scoped>\n",
              "    .dataframe tbody tr th:only-of-type {\n",
              "        vertical-align: middle;\n",
              "    }\n",
              "\n",
              "    .dataframe tbody tr th {\n",
              "        vertical-align: top;\n",
              "    }\n",
              "\n",
              "    .dataframe thead th {\n",
              "        text-align: right;\n",
              "    }\n",
              "</style>\n",
              "<table border=\"1\" class=\"dataframe\">\n",
              "  <thead>\n",
              "    <tr style=\"text-align: right;\">\n",
              "      <th></th>\n",
              "      <th>Health</th>\n",
              "      <th>Utility</th>\n",
              "      <th>Transporta</th>\n",
              "      <th>geometry</th>\n",
              "      <th>population</th>\n",
              "      <th>elevation</th>\n",
              "    </tr>\n",
              "    <tr>\n",
              "      <th>MGRS</th>\n",
              "      <th></th>\n",
              "      <th></th>\n",
              "      <th></th>\n",
              "      <th></th>\n",
              "      <th></th>\n",
              "      <th></th>\n",
              "    </tr>\n",
              "  </thead>\n",
              "  <tbody>\n",
              "    <tr>\n",
              "      <th>19TBH7019</th>\n",
              "      <td>5</td>\n",
              "      <td>7</td>\n",
              "      <td>5</td>\n",
              "      <td>POLYGON ((-71.79092278136125 42.58943590354409...</td>\n",
              "      <td>443</td>\n",
              "      <td>196.344985</td>\n",
              "    </tr>\n",
              "    <tr>\n",
              "      <th>19TBH7119</th>\n",
              "      <td>1</td>\n",
              "      <td>7</td>\n",
              "      <td>4</td>\n",
              "      <td>POLYGON ((-71.77874932612048 42.58973201162303...</td>\n",
              "      <td>381</td>\n",
              "      <td>139.760744</td>\n",
              "    </tr>\n",
              "    <tr>\n",
              "      <th>19TBH7219</th>\n",
              "      <td>1</td>\n",
              "      <td>7</td>\n",
              "      <td>1</td>\n",
              "      <td>POLYGON ((-71.76657568741803 42.59002682737616...</td>\n",
              "      <td>318</td>\n",
              "      <td>144.429830</td>\n",
              "    </tr>\n",
              "    <tr>\n",
              "      <th>19TBH7319</th>\n",
              "      <td>5</td>\n",
              "      <td>7</td>\n",
              "      <td>1</td>\n",
              "      <td>POLYGON ((-71.75440186615322 42.59032035170287...</td>\n",
              "      <td>182</td>\n",
              "      <td>154.567869</td>\n",
              "    </tr>\n",
              "    <tr>\n",
              "      <th>19TBH7419</th>\n",
              "      <td>4</td>\n",
              "      <td>7</td>\n",
              "      <td>1</td>\n",
              "      <td>POLYGON ((-71.74222786322531 42.59061258370377...</td>\n",
              "      <td>115</td>\n",
              "      <td>176.765537</td>\n",
              "    </tr>\n",
              "  </tbody>\n",
              "</table>\n",
              "</div>"
            ],
            "text/plain": [
              "           Health  Utility  ...  population   elevation\n",
              "MGRS                        ...                        \n",
              "19TBH7019       5        7  ...         443  196.344985\n",
              "19TBH7119       1        7  ...         381  139.760744\n",
              "19TBH7219       1        7  ...         318  144.429830\n",
              "19TBH7319       5        7  ...         182  154.567869\n",
              "19TBH7419       4        7  ...         115  176.765537\n",
              "\n",
              "[5 rows x 6 columns]"
            ]
          },
          "metadata": {
            "tags": []
          },
          "execution_count": 23
        }
      ]
    },
    {
      "cell_type": "code",
      "metadata": {
        "id": "_LE2-UsOLXR8",
        "colab_type": "code",
        "colab": {}
      },
      "source": [
        "pop_col = game_grid.loc[evac_grid.index, 'population']\n",
        "pop_col *= 0.85\n",
        "pop_col = round(pop_col)\n",
        "print(pop_col)\n",
        "game_grid.loc[evac_grid.index, 'population'] = pop_col"
      ],
      "execution_count": 0,
      "outputs": []
    },
    {
      "cell_type": "code",
      "metadata": {
        "id": "4_s729UDCjxR",
        "colab_type": "code",
        "colab": {
          "base_uri": "https://localhost:8080/",
          "height": 320
        },
        "outputId": "7fac1d8d-a35d-43e4-de61-024cd0bf52b3"
      },
      "source": [
        "game_grid.head()"
      ],
      "execution_count": 26,
      "outputs": [
        {
          "output_type": "execute_result",
          "data": {
            "text/html": [
              "<div>\n",
              "<style scoped>\n",
              "    .dataframe tbody tr th:only-of-type {\n",
              "        vertical-align: middle;\n",
              "    }\n",
              "\n",
              "    .dataframe tbody tr th {\n",
              "        vertical-align: top;\n",
              "    }\n",
              "\n",
              "    .dataframe thead th {\n",
              "        text-align: right;\n",
              "    }\n",
              "</style>\n",
              "<table border=\"1\" class=\"dataframe\">\n",
              "  <thead>\n",
              "    <tr style=\"text-align: right;\">\n",
              "      <th></th>\n",
              "      <th>Health</th>\n",
              "      <th>Utility</th>\n",
              "      <th>Transporta</th>\n",
              "      <th>geometry</th>\n",
              "      <th>population</th>\n",
              "      <th>elevation</th>\n",
              "    </tr>\n",
              "    <tr>\n",
              "      <th>MGRS</th>\n",
              "      <th></th>\n",
              "      <th></th>\n",
              "      <th></th>\n",
              "      <th></th>\n",
              "      <th></th>\n",
              "      <th></th>\n",
              "    </tr>\n",
              "  </thead>\n",
              "  <tbody>\n",
              "    <tr>\n",
              "      <th>19TBH7019</th>\n",
              "      <td>5</td>\n",
              "      <td>7</td>\n",
              "      <td>5</td>\n",
              "      <td>POLYGON ((-71.79092278136125 42.58943590354409...</td>\n",
              "      <td>443.0</td>\n",
              "      <td>196.344985</td>\n",
              "    </tr>\n",
              "    <tr>\n",
              "      <th>19TBH7119</th>\n",
              "      <td>1</td>\n",
              "      <td>7</td>\n",
              "      <td>4</td>\n",
              "      <td>POLYGON ((-71.77874932612048 42.58973201162303...</td>\n",
              "      <td>381.0</td>\n",
              "      <td>139.760744</td>\n",
              "    </tr>\n",
              "    <tr>\n",
              "      <th>19TBH7219</th>\n",
              "      <td>1</td>\n",
              "      <td>7</td>\n",
              "      <td>1</td>\n",
              "      <td>POLYGON ((-71.76657568741803 42.59002682737616...</td>\n",
              "      <td>318.0</td>\n",
              "      <td>144.429830</td>\n",
              "    </tr>\n",
              "    <tr>\n",
              "      <th>19TBH7319</th>\n",
              "      <td>5</td>\n",
              "      <td>7</td>\n",
              "      <td>1</td>\n",
              "      <td>POLYGON ((-71.75440186615322 42.59032035170287...</td>\n",
              "      <td>182.0</td>\n",
              "      <td>154.567869</td>\n",
              "    </tr>\n",
              "    <tr>\n",
              "      <th>19TBH7419</th>\n",
              "      <td>4</td>\n",
              "      <td>7</td>\n",
              "      <td>1</td>\n",
              "      <td>POLYGON ((-71.74222786322531 42.59061258370377...</td>\n",
              "      <td>115.0</td>\n",
              "      <td>176.765537</td>\n",
              "    </tr>\n",
              "  </tbody>\n",
              "</table>\n",
              "</div>"
            ],
            "text/plain": [
              "           Health  Utility  ...  population   elevation\n",
              "MGRS                        ...                        \n",
              "19TBH7019       5        7  ...       443.0  196.344985\n",
              "19TBH7119       1        7  ...       381.0  139.760744\n",
              "19TBH7219       1        7  ...       318.0  144.429830\n",
              "19TBH7319       5        7  ...       182.0  154.567869\n",
              "19TBH7419       4        7  ...       115.0  176.765537\n",
              "\n",
              "[5 rows x 6 columns]"
            ]
          },
          "metadata": {
            "tags": []
          },
          "execution_count": 26
        }
      ]
    },
    {
      "cell_type": "code",
      "metadata": {
        "id": "G7vKQzCScM3e",
        "colab_type": "code",
        "colab": {
          "base_uri": "https://localhost:8080/",
          "height": 442
        },
        "outputId": "9e63b8c5-3543-4e85-fae3-de9357cb834c"
      },
      "source": [
        "maxi_pop = game_grid['population'].max() # CAN change\n",
        "maxi_ele = base_grid['elevation'].max() # can NOT change\n",
        "print(maxi_ele)\n",
        "\n",
        "game_grid = game_grid.loc[game_grid['population'] != 0]\n",
        "game_grid['normalized_pop'] = game_grid['population'] / maxi_pop * 10\n",
        "game_grid['normalized_ele'] = game_grid['elevation'] / maxi_ele * 10\n",
        "\n",
        "game_grid.head()\n",
        "\n"
      ],
      "execution_count": 30,
      "outputs": [
        {
          "output_type": "stream",
          "text": [
            "259.2527327221439\n"
          ],
          "name": "stdout"
        },
        {
          "output_type": "execute_result",
          "data": {
            "text/html": [
              "<div>\n",
              "<style scoped>\n",
              "    .dataframe tbody tr th:only-of-type {\n",
              "        vertical-align: middle;\n",
              "    }\n",
              "\n",
              "    .dataframe tbody tr th {\n",
              "        vertical-align: top;\n",
              "    }\n",
              "\n",
              "    .dataframe thead th {\n",
              "        text-align: right;\n",
              "    }\n",
              "</style>\n",
              "<table border=\"1\" class=\"dataframe\">\n",
              "  <thead>\n",
              "    <tr style=\"text-align: right;\">\n",
              "      <th></th>\n",
              "      <th>Health</th>\n",
              "      <th>Utility</th>\n",
              "      <th>Transporta</th>\n",
              "      <th>geometry</th>\n",
              "      <th>population</th>\n",
              "      <th>elevation</th>\n",
              "      <th>normalized_pop</th>\n",
              "      <th>normalized_ele</th>\n",
              "    </tr>\n",
              "    <tr>\n",
              "      <th>MGRS</th>\n",
              "      <th></th>\n",
              "      <th></th>\n",
              "      <th></th>\n",
              "      <th></th>\n",
              "      <th></th>\n",
              "      <th></th>\n",
              "      <th></th>\n",
              "      <th></th>\n",
              "    </tr>\n",
              "  </thead>\n",
              "  <tbody>\n",
              "    <tr>\n",
              "      <th>19TBH7019</th>\n",
              "      <td>5</td>\n",
              "      <td>7</td>\n",
              "      <td>5</td>\n",
              "      <td>POLYGON ((-71.79092278136125 42.58943590354409...</td>\n",
              "      <td>443.0</td>\n",
              "      <td>196.344985</td>\n",
              "      <td>0.419388</td>\n",
              "      <td>7.573497</td>\n",
              "    </tr>\n",
              "    <tr>\n",
              "      <th>19TBH7119</th>\n",
              "      <td>1</td>\n",
              "      <td>7</td>\n",
              "      <td>4</td>\n",
              "      <td>POLYGON ((-71.77874932612048 42.58973201162303...</td>\n",
              "      <td>381.0</td>\n",
              "      <td>139.760744</td>\n",
              "      <td>0.360693</td>\n",
              "      <td>5.390907</td>\n",
              "    </tr>\n",
              "    <tr>\n",
              "      <th>19TBH7219</th>\n",
              "      <td>1</td>\n",
              "      <td>7</td>\n",
              "      <td>1</td>\n",
              "      <td>POLYGON ((-71.76657568741803 42.59002682737616...</td>\n",
              "      <td>318.0</td>\n",
              "      <td>144.429830</td>\n",
              "      <td>0.301051</td>\n",
              "      <td>5.571005</td>\n",
              "    </tr>\n",
              "    <tr>\n",
              "      <th>19TBH7319</th>\n",
              "      <td>5</td>\n",
              "      <td>7</td>\n",
              "      <td>1</td>\n",
              "      <td>POLYGON ((-71.75440186615322 42.59032035170287...</td>\n",
              "      <td>182.0</td>\n",
              "      <td>154.567869</td>\n",
              "      <td>0.172300</td>\n",
              "      <td>5.962054</td>\n",
              "    </tr>\n",
              "    <tr>\n",
              "      <th>19TBH7419</th>\n",
              "      <td>4</td>\n",
              "      <td>7</td>\n",
              "      <td>1</td>\n",
              "      <td>POLYGON ((-71.74222786322531 42.59061258370377...</td>\n",
              "      <td>115.0</td>\n",
              "      <td>176.765537</td>\n",
              "      <td>0.108871</td>\n",
              "      <td>6.818271</td>\n",
              "    </tr>\n",
              "  </tbody>\n",
              "</table>\n",
              "</div>"
            ],
            "text/plain": [
              "           Health  Utility  ...  normalized_pop normalized_ele\n",
              "MGRS                        ...                               \n",
              "19TBH7019       5        7  ...        0.419388       7.573497\n",
              "19TBH7119       1        7  ...        0.360693       5.390907\n",
              "19TBH7219       1        7  ...        0.301051       5.571005\n",
              "19TBH7319       5        7  ...        0.172300       5.962054\n",
              "19TBH7419       4        7  ...        0.108871       6.818271\n",
              "\n",
              "[5 rows x 8 columns]"
            ]
          },
          "metadata": {
            "tags": []
          },
          "execution_count": 30
        }
      ]
    },
    {
      "cell_type": "code",
      "metadata": {
        "id": "X9Sw5bmWFQdj",
        "colab_type": "code",
        "colab": {}
      },
      "source": [
        "game_grid['Vulnerability'] = 0.5 * game_grid['Health'] + 0.1 * game_grid['normalized_ele'] +  \\\n",
        "0.10 * (10 - game_grid['Transporta']) + 0.10 * game_grid['Utility'] + 0.2 * (10 - game_grid['normalized_pop'])"
      ],
      "execution_count": 0,
      "outputs": []
    },
    {
      "cell_type": "code",
      "metadata": {
        "id": "87bs5QAoEXDi",
        "colab_type": "code",
        "colab": {
          "base_uri": "https://localhost:8080/",
          "height": 425
        },
        "outputId": "e0e68c01-5878-4031-82df-66aae6fb920f"
      },
      "source": [
        "game_grid.head()"
      ],
      "execution_count": 32,
      "outputs": [
        {
          "output_type": "execute_result",
          "data": {
            "text/html": [
              "<div>\n",
              "<style scoped>\n",
              "    .dataframe tbody tr th:only-of-type {\n",
              "        vertical-align: middle;\n",
              "    }\n",
              "\n",
              "    .dataframe tbody tr th {\n",
              "        vertical-align: top;\n",
              "    }\n",
              "\n",
              "    .dataframe thead th {\n",
              "        text-align: right;\n",
              "    }\n",
              "</style>\n",
              "<table border=\"1\" class=\"dataframe\">\n",
              "  <thead>\n",
              "    <tr style=\"text-align: right;\">\n",
              "      <th></th>\n",
              "      <th>Health</th>\n",
              "      <th>Utility</th>\n",
              "      <th>Transporta</th>\n",
              "      <th>geometry</th>\n",
              "      <th>population</th>\n",
              "      <th>elevation</th>\n",
              "      <th>normalized_pop</th>\n",
              "      <th>normalized_ele</th>\n",
              "      <th>Vulnerability</th>\n",
              "    </tr>\n",
              "    <tr>\n",
              "      <th>MGRS</th>\n",
              "      <th></th>\n",
              "      <th></th>\n",
              "      <th></th>\n",
              "      <th></th>\n",
              "      <th></th>\n",
              "      <th></th>\n",
              "      <th></th>\n",
              "      <th></th>\n",
              "      <th></th>\n",
              "    </tr>\n",
              "  </thead>\n",
              "  <tbody>\n",
              "    <tr>\n",
              "      <th>19TBH7019</th>\n",
              "      <td>5</td>\n",
              "      <td>7</td>\n",
              "      <td>5</td>\n",
              "      <td>POLYGON ((-71.79092278136125 42.58943590354409...</td>\n",
              "      <td>443.0</td>\n",
              "      <td>196.344985</td>\n",
              "      <td>0.419388</td>\n",
              "      <td>7.573497</td>\n",
              "      <td>6.373472</td>\n",
              "    </tr>\n",
              "    <tr>\n",
              "      <th>19TBH7119</th>\n",
              "      <td>1</td>\n",
              "      <td>7</td>\n",
              "      <td>4</td>\n",
              "      <td>POLYGON ((-71.77874932612048 42.58973201162303...</td>\n",
              "      <td>381.0</td>\n",
              "      <td>139.760744</td>\n",
              "      <td>0.360693</td>\n",
              "      <td>5.390907</td>\n",
              "      <td>4.266952</td>\n",
              "    </tr>\n",
              "    <tr>\n",
              "      <th>19TBH7219</th>\n",
              "      <td>1</td>\n",
              "      <td>7</td>\n",
              "      <td>1</td>\n",
              "      <td>POLYGON ((-71.76657568741803 42.59002682737616...</td>\n",
              "      <td>318.0</td>\n",
              "      <td>144.429830</td>\n",
              "      <td>0.301051</td>\n",
              "      <td>5.571005</td>\n",
              "      <td>4.596890</td>\n",
              "    </tr>\n",
              "    <tr>\n",
              "      <th>19TBH7319</th>\n",
              "      <td>5</td>\n",
              "      <td>7</td>\n",
              "      <td>1</td>\n",
              "      <td>POLYGON ((-71.75440186615322 42.59032035170287...</td>\n",
              "      <td>182.0</td>\n",
              "      <td>154.567869</td>\n",
              "      <td>0.172300</td>\n",
              "      <td>5.962054</td>\n",
              "      <td>6.661745</td>\n",
              "    </tr>\n",
              "    <tr>\n",
              "      <th>19TBH7419</th>\n",
              "      <td>4</td>\n",
              "      <td>7</td>\n",
              "      <td>1</td>\n",
              "      <td>POLYGON ((-71.74222786322531 42.59061258370377...</td>\n",
              "      <td>115.0</td>\n",
              "      <td>176.765537</td>\n",
              "      <td>0.108871</td>\n",
              "      <td>6.818271</td>\n",
              "      <td>6.260053</td>\n",
              "    </tr>\n",
              "  </tbody>\n",
              "</table>\n",
              "</div>"
            ],
            "text/plain": [
              "           Health  Utility  ...  normalized_ele Vulnerability\n",
              "MGRS                        ...                              \n",
              "19TBH7019       5        7  ...        7.573497      6.373472\n",
              "19TBH7119       1        7  ...        5.390907      4.266952\n",
              "19TBH7219       1        7  ...        5.571005      4.596890\n",
              "19TBH7319       5        7  ...        5.962054      6.661745\n",
              "19TBH7419       4        7  ...        6.818271      6.260053\n",
              "\n",
              "[5 rows x 9 columns]"
            ]
          },
          "metadata": {
            "tags": []
          },
          "execution_count": 32
        }
      ]
    },
    {
      "cell_type": "code",
      "metadata": {
        "id": "CcHK-BwMemnU",
        "colab_type": "code",
        "outputId": "7263d61d-88b1-4502-edcf-42bcef1062f2",
        "colab": {
          "base_uri": "https://localhost:8080/",
          "height": 442
        }
      },
      "source": [
        "game_grid.sort_values(by = 'Vulnerability', inplace = True)\n",
        "game_grid.head()"
      ],
      "execution_count": 35,
      "outputs": [
        {
          "output_type": "execute_result",
          "data": {
            "text/html": [
              "<div>\n",
              "<style scoped>\n",
              "    .dataframe tbody tr th:only-of-type {\n",
              "        vertical-align: middle;\n",
              "    }\n",
              "\n",
              "    .dataframe tbody tr th {\n",
              "        vertical-align: top;\n",
              "    }\n",
              "\n",
              "    .dataframe thead th {\n",
              "        text-align: right;\n",
              "    }\n",
              "</style>\n",
              "<table border=\"1\" class=\"dataframe\">\n",
              "  <thead>\n",
              "    <tr style=\"text-align: right;\">\n",
              "      <th></th>\n",
              "      <th>Health</th>\n",
              "      <th>Utility</th>\n",
              "      <th>Transporta</th>\n",
              "      <th>geometry</th>\n",
              "      <th>population</th>\n",
              "      <th>elevation</th>\n",
              "      <th>normalized_pop</th>\n",
              "      <th>normalized_ele</th>\n",
              "      <th>Vulnerability</th>\n",
              "    </tr>\n",
              "    <tr>\n",
              "      <th>MGRS</th>\n",
              "      <th></th>\n",
              "      <th></th>\n",
              "      <th></th>\n",
              "      <th></th>\n",
              "      <th></th>\n",
              "      <th></th>\n",
              "      <th></th>\n",
              "      <th></th>\n",
              "      <th></th>\n",
              "    </tr>\n",
              "  </thead>\n",
              "  <tbody>\n",
              "    <tr>\n",
              "      <th>19TCH0417</th>\n",
              "      <td>1</td>\n",
              "      <td>7</td>\n",
              "      <td>8</td>\n",
              "      <td>POLYGON ((-71.376243194268 42.5807826241188, -...</td>\n",
              "      <td>358.0</td>\n",
              "      <td>60.529538</td>\n",
              "      <td>0.338919</td>\n",
              "      <td>2.334770</td>\n",
              "      <td>3.565693</td>\n",
              "    </tr>\n",
              "    <tr>\n",
              "      <th>19TCH0116</th>\n",
              "      <td>1</td>\n",
              "      <td>7</td>\n",
              "      <td>9</td>\n",
              "      <td>POLYGON ((-71.41242244264163 42.57102110294153...</td>\n",
              "      <td>156.0</td>\n",
              "      <td>81.680423</td>\n",
              "      <td>0.147685</td>\n",
              "      <td>3.150610</td>\n",
              "      <td>3.585524</td>\n",
              "    </tr>\n",
              "    <tr>\n",
              "      <th>19TBH9718</th>\n",
              "      <td>1</td>\n",
              "      <td>7</td>\n",
              "      <td>8</td>\n",
              "      <td>POLYGON ((-71.46182313792747 42.58797984629285...</td>\n",
              "      <td>257.0</td>\n",
              "      <td>66.730963</td>\n",
              "      <td>0.243302</td>\n",
              "      <td>2.573973</td>\n",
              "      <td>3.608737</td>\n",
              "    </tr>\n",
              "    <tr>\n",
              "      <th>19TCH0218</th>\n",
              "      <td>1</td>\n",
              "      <td>7</td>\n",
              "      <td>7</td>\n",
              "      <td>POLYGON ((-71.40093965234308 42.58927256957338...</td>\n",
              "      <td>257.0</td>\n",
              "      <td>79.167180</td>\n",
              "      <td>0.243302</td>\n",
              "      <td>3.053668</td>\n",
              "      <td>3.756706</td>\n",
              "    </tr>\n",
              "    <tr>\n",
              "      <th>19TCF9969</th>\n",
              "      <td>1</td>\n",
              "      <td>7</td>\n",
              "      <td>4</td>\n",
              "      <td>POLYGON ((-70.19384448943163 41.2662389956331,...</td>\n",
              "      <td>13.0</td>\n",
              "      <td>1.423399</td>\n",
              "      <td>0.012307</td>\n",
              "      <td>0.054904</td>\n",
              "      <td>3.803029</td>\n",
              "    </tr>\n",
              "  </tbody>\n",
              "</table>\n",
              "</div>"
            ],
            "text/plain": [
              "           Health  Utility  ...  normalized_ele Vulnerability\n",
              "MGRS                        ...                              \n",
              "19TCH0417       1        7  ...        2.334770      3.565693\n",
              "19TCH0116       1        7  ...        3.150610      3.585524\n",
              "19TBH9718       1        7  ...        2.573973      3.608737\n",
              "19TCH0218       1        7  ...        3.053668      3.756706\n",
              "19TCF9969       1        7  ...        0.054904      3.803029\n",
              "\n",
              "[5 rows x 9 columns]"
            ]
          },
          "metadata": {
            "tags": []
          },
          "execution_count": 35
        }
      ]
    },
    {
      "cell_type": "code",
      "metadata": {
        "id": "QwT9lPss8WWi",
        "colab_type": "code",
        "outputId": "555a57bd-cacd-43a0-b157-139c669a9d6d",
        "colab": {
          "base_uri": "https://localhost:8080/",
          "height": 599
        }
      },
      "source": [
        "fig=plt.figure(figsize=[10,10])\n",
        "ax=fig.add_subplot(1,1,1)\n",
        "ax.set_xlabel('Longitude')\n",
        "ax.set_ylabel('Latitude')\n",
        "ax.set_title('Inverse Vulnerability Heat Map')\n",
        "game_grid.plot(ax = ax, column = 'Vulnerability', legend = True, cmap = 'RdYlGn')"
      ],
      "execution_count": 36,
      "outputs": [
        {
          "output_type": "execute_result",
          "data": {
            "text/plain": [
              "<matplotlib.axes._subplots.AxesSubplot at 0x7fd9abc980b8>"
            ]
          },
          "metadata": {
            "tags": []
          },
          "execution_count": 36
        },
        {
          "output_type": "display_data",
          "data": {
            "image/png": "[encoded data removed]",
            "text/plain": [
              "<Figure size 720x720 with 2 Axes>"
            ]
          },
          "metadata": {
            "tags": []
          }
        }
      ]
    },
    {
      "cell_type": "code",
      "metadata": {
        "id": "6YUZSQ4a8OrG",
        "colab_type": "code",
        "colab": {}
      },
      "source": [
        ""
      ],
      "execution_count": 0,
      "outputs": []
    },
    {
      "cell_type": "markdown",
      "metadata": {
        "id": "GSOlStJsabKC",
        "colab_type": "text"
      },
      "source": [
        "#Hospitals"
      ]
    },
    {
      "cell_type": "code",
      "metadata": {
        "id": "zdRjx9lQiXp4",
        "colab_type": "code",
        "colab": {}
      },
      "source": [
        "hospital_grid = gpd.read_file('game_grid_export/facilities/hospitals.shp')\n",
        "hospital_grid['hos_radius (km)'] = 0\n",
        "hospital_grid.loc[hospital_grid.loc[:, 'BEDS'] >= 200, 'hos_radius (km)'] = 25\n",
        "hospital_grid.loc[hospital_grid.loc[:, 'BEDS'] < 200, 'hos_radius (km)'] = 15"
      ],
      "execution_count": 0,
      "outputs": []
    },
    {
      "cell_type": "code",
      "metadata": {
        "id": "eXCrfvkLegGC",
        "colab_type": "code",
        "colab": {}
      },
      "source": [
        "hospital_grid"
      ],
      "execution_count": 0,
      "outputs": []
    },
    {
      "cell_type": "code",
      "metadata": {
        "id": "bj1vxaYQyl8y",
        "colab_type": "code",
        "colab": {}
      },
      "source": [
        "game_grid['centroid'] = game_grid['geometry'].centroid"
      ],
      "execution_count": 0,
      "outputs": []
    },
    {
      "cell_type": "code",
      "metadata": {
        "id": "QblnFWSpuCWF",
        "colab_type": "code",
        "colab": {}
      },
      "source": [
        "grid = game_grid.to_crs(epsg=3857)"
      ],
      "execution_count": 0,
      "outputs": []
    },
    {
      "cell_type": "code",
      "metadata": {
        "id": "yeGgnGXju24h",
        "colab_type": "code",
        "colab": {}
      },
      "source": [
        "to_m = lambda km: km * 1000"
      ],
      "execution_count": 0,
      "outputs": []
    },
    {
      "cell_type": "code",
      "metadata": {
        "id": "Adg1QuNemFhR",
        "colab_type": "code",
        "colab": {}
      },
      "source": [
        "grid = game_grid.to_crs(epsg = 3857)\n",
        "big_hospitals=hospital_grid[hospital_grid['BEDS']>=200].to_crs(grid.crs)\n",
        "small_hospitals=hospital_grid[hospital_grid['BEDS']<200].to_crs(grid.crs)\n",
        "hospitals_buffered = hospital_grid.copy().to_crs(grid.crs)\n",
        "hospitals_buffered.loc[big_hospitals.index, 'geometry'] = hospitals_buffered.loc[big_hospitals.index,'geometry'].buffer(to_m(25))\n",
        "hospitals_buffered.loc[small_hospitals.index, 'geometry'] = hospitals_buffered.loc[small_hospitals.index,'geometry'].buffer(to_m(15))"
      ],
      "execution_count": 0,
      "outputs": []
    },
    {
      "cell_type": "code",
      "metadata": {
        "id": "3Os_1tt6u5Em",
        "colab_type": "code",
        "colab": {}
      },
      "source": [
        "fig=plt.figure(figsize=[20,20])\n",
        "ax=fig.add_subplot(1,1,1)\n",
        "grid.plot(ax=ax, column='Utility', legend=True)\n",
        "big_hospitals.buffer(to_m(25)).plot(color='red', ax=ax, zorder=15)\n",
        "small_hospitals.buffer(to_m(15)).plot(color='orange', ax=ax, zorder=15)"
      ],
      "execution_count": 0,
      "outputs": []
    },
    {
      "cell_type": "code",
      "metadata": {
        "id": "QNzsnuDtEk47",
        "colab_type": "code",
        "colab": {}
      },
      "source": [
        "grid"
      ],
      "execution_count": 0,
      "outputs": []
    },
    {
      "cell_type": "code",
      "metadata": {
        "id": "Y6L1J0NvElma",
        "colab_type": "code",
        "colab": {}
      },
      "source": [
        "hospitals_buffered"
      ],
      "execution_count": 0,
      "outputs": []
    },
    {
      "cell_type": "code",
      "metadata": {
        "id": "RTR4bPpcgh7l",
        "colab_type": "code",
        "colab": {}
      },
      "source": [
        "hosp_info = gpd.sjoin(grid, hospitals_buffered, how = 'inner', op = 'intersects')\n",
        "hosp_info"
      ],
      "execution_count": 0,
      "outputs": []
    },
    {
      "cell_type": "code",
      "metadata": {
        "id": "XwrXyy2MyGBU",
        "colab_type": "code",
        "colab": {}
      },
      "source": [
        "hosp_infopop = hosp_info.groupby('NAME').sum()"
      ],
      "execution_count": 0,
      "outputs": []
    },
    {
      "cell_type": "code",
      "metadata": {
        "id": "FbuAfjp_TAcl",
        "colab_type": "code",
        "colab": {}
      },
      "source": [
        "alpha_hosp = hospitals_buffered.sort_values('NAME').set_index('NAME')\n",
        "alpha_hosp['population'] = hosp_infopop['population'].values\n",
        "alpha_hosp"
      ],
      "execution_count": 0,
      "outputs": []
    },
    {
      "cell_type": "code",
      "metadata": {
        "id": "YohcuS1AyUKS",
        "colab_type": "code",
        "colab": {}
      },
      "source": [
        "alpha_hosp['population']"
      ],
      "execution_count": 0,
      "outputs": []
    },
    {
      "cell_type": "markdown",
      "metadata": {
        "id": "Yj0gpf6TtqFt",
        "colab_type": "text"
      },
      "source": [
        "#Set Cover Application Algorithm"
      ]
    },
    {
      "cell_type": "code",
      "metadata": {
        "id": "UczTN_nUhC-A",
        "colab_type": "code",
        "colab": {}
      },
      "source": [
        "large_hos_cost = 200\n",
        "small_hos_cost = 100\n",
        "\n",
        "cost_ref = {'small': small_hos_cost, 'big': large_hos_cost}"
      ],
      "execution_count": 0,
      "outputs": []
    },
    {
      "cell_type": "code",
      "metadata": {
        "id": "iIBtKD8gLPL1",
        "colab_type": "code",
        "colab": {}
      },
      "source": [
        "hosp_to_cells = {}\n",
        "for i, row in hosp_info.iterrows():\n",
        "  hosp_name = row[\"NAME\"]\n",
        "  size = 'small' if row['BEDS'] < 200 else 'big'\n",
        "  if hosp_name not in hosp_to_cells:\n",
        "    hosp_to_cells[(hosp_name, size)] = {i}\n",
        "  else:\n",
        "    hosp_to_cells[(hosp_name, size)].add(i)"
      ],
      "execution_count": 0,
      "outputs": []
    },
    {
      "cell_type": "code",
      "metadata": {
        "id": "bCig88vatego",
        "colab_type": "code",
        "colab": {}
      },
      "source": [
        "hosp_to_cells"
      ],
      "execution_count": 0,
      "outputs": []
    },
    {
      "cell_type": "code",
      "metadata": {
        "id": "Hx2S8t-xs3Gg",
        "colab_type": "code",
        "colab": {}
      },
      "source": [
        "hosp_to_cells\n",
        "freq_chart = [0 for _ in range(game_grid.shape[0])]\n",
        "covered = set()\n",
        "\n",
        "def calc_weight(subset, size):\n",
        "  return sum(grid.loc[cell, 'population'] for cell in subset) / cost_ref[size]\n",
        "\n",
        "    \n",
        "    \n",
        "def set_cover(budget, hosp_squares):#TODO: add cost_ref\n",
        "  to_ret = set()\n",
        "  while budget > 0:\n",
        "    max_hosp, max_subset = max(hosp_squares.items(), key = lambda tup: \\\n",
        "                               calc_weight(tup[1], tup[0][1]))\n",
        "    for cell in max_subset:\n",
        "      freq_chart[cell] += 1\n",
        "      /if freq_chart[cell] == 2:\n",
        "      /  covered.add(cell)\n",
        "    \n",
        "    budget -= cost_ref[max_hosp[1]]\n",
        "    to_ret.add(max_hosp)\n",
        "    \n",
        "    for key in hosp_squares:\n",
        "      hosp_squares[key] -= max_subset\n",
        "    del hosp_squares[max_hosp]\n",
        "      \n",
        "  return to_ret"
      ],
      "execution_count": 0,
      "outputs": []
    },
    {
      "cell_type": "code",
      "metadata": {
        "id": "D8mIxnIgZF2x",
        "colab_type": "code",
        "colab": {}
      },
      "source": [
        "flood_range = 500\n",
        "flooding2 = flooding.copy().to_crs(grid.crs)\n",
        "flooding2['geometry'] = flooding2['geometry'].buffer(flood_range)"
      ],
      "execution_count": 0,
      "outputs": []
    },
    {
      "cell_type": "code",
      "metadata": {
        "id": "LeVDyBhWZu18",
        "colab_type": "code",
        "colab": {}
      },
      "source": [
        "flood_poly = flooding2.unary_union\n",
        "print(type(flood_poly))"
      ],
      "execution_count": 0,
      "outputs": []
    },
    {
      "cell_type": "code",
      "metadata": {
        "id": "rkLmbuSLs4MN",
        "colab_type": "code",
        "colab": {}
      },
      "source": [
        "'''\n",
        "parameters: would be one, like the closest you could be to a flood, and the second\n",
        "one would be how far, like how the farthest you can be from the flood. Basically,\n",
        "Deteremine the hospitals that the operations want to use, basically.\n",
        "\n",
        "Sort it by population, and he already made the population column which each hosptial can hit.\n",
        "Priotirize where the hospitals can help. This is kind of extra, but if I can,\n",
        "I will determine if it's possible to open the hospitals with utility score. \n",
        "You need a minimum utility score to actually open a hospital. \n",
        "'''\n",
        "def operator_hospitals(min_d, max_d, flood_poly):\n",
        "  # Loop through all hospitals, see if the hospital in loop is in range\n",
        "  hosp_list = []\n",
        "  for i in range(len(hospital_grid)):\n",
        "    dist = flood.exterior.distance(hopsital_grid.loc[i, 'geometry'])\n",
        "    if dist < maxdist and dist > mindist:\n",
        "      hosp_list.append(hospital_grid.loc[i, 'NAME'])\n",
        "  return hosp_list\n",
        "  \n",
        "  \n",
        "  "
      ],
      "execution_count": 0,
      "outputs": []
    },
    {
      "cell_type": "code",
      "metadata": {
        "id": "kqY4NQb7kxj8",
        "colab_type": "code",
        "colab": {}
      },
      "source": [
        "from shapely.geometry import MultiPolygon\n",
        "import shapely.ops as shap"
      ],
      "execution_count": 0,
      "outputs": []
    },
    {
      "cell_type": "code",
      "metadata": {
        "id": "umfrYCa5iNa_",
        "colab_type": "code",
        "colab": {}
      },
      "source": [
        "def fl_create(fl, b, i = 0):\n",
        "  flooding = fl.copy().to_crs(grid.crs)\n",
        "  flooding['geometry'] = flooding['geometry'].buffer(b)\n",
        "  if i == 0:\n",
        "    flood = flooding['geometry'].unary_union\n",
        "  else:\n",
        "    l = [MultiPolygon([flooding.loc[i, 'geometry'], \\\n",
        "                      flooding.loc[i + 1, 'geometry']]).convex_hull \\\n",
        "         for i in range(len(flooding) - 1)]\n",
        "    flood = shap.cascaded_union(MultiPolygon(l))\n",
        "  return flood"
      ],
      "execution_count": 0,
      "outputs": []
    },
    {
      "cell_type": "code",
      "metadata": {
        "id": "doJILuDSk0u6",
        "colab_type": "code",
        "colab": {}
      },
      "source": [
        "fl_create(flooding, 500, 1)"
      ],
      "execution_count": 0,
      "outputs": []
    },
    {
      "cell_type": "markdown",
      "metadata": {
        "id": "x9EJaebgkPAA",
        "colab_type": "text"
      },
      "source": [
        "# Evacuation"
      ]
    },
    {
      "cell_type": "code",
      "metadata": {
        "id": "iS9747fQkR2Y",
        "colab_type": "code",
        "colab": {}
      },
      "source": [
        "ls"
      ],
      "execution_count": 0,
      "outputs": []
    },
    {
      "cell_type": "code",
      "metadata": {
        "id": "n33yyClBkguH",
        "colab_type": "code",
        "colab": {}
      },
      "source": [
        ""
      ],
      "execution_count": 0,
      "outputs": []
    }
  ]
}