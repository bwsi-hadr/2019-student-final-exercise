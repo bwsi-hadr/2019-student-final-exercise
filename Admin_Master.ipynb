{
  "nbformat": 4,
  "nbformat_minor": 0,
  "metadata": {
    "colab": {
      "name": "Master.ipynb",
      "version": "0.3.2",
      "provenance": [],
      "collapsed_sections": [],
      "include_colab_link": true
    },
    "kernelspec": {
      "name": "python3",
      "display_name": "Python 3"
    }
  },
  "cells": [
    {
      "cell_type": "markdown",
      "metadata": {
        "id": "view-in-github",
        "colab_type": "text"
      },
      "source": [
        "<a href=\"https://colab.research.google.com/github/bwsi-hadr/2019-student-final-exercise/blob/master/Master.ipynb\" target=\"_parent\"><img src=\"https://colab.research.google.com/assets/colab-badge.svg\" alt=\"Open In Colab\"/></a>"
      ]
    },
    {
      "cell_type": "code",
      "metadata": {
        "id": "S07bw5oNeuUx",
        "colab_type": "code",
        "colab": {}
      },
      "source": [
        "#Imports\n",
        "import pandas as pd\n",
        "import numpy as np\n",
        "import collections"
      ],
      "execution_count": 0,
      "outputs": []
    },
    {
      "cell_type": "code",
      "metadata": {
        "id": "t0BBdxkcm_1X",
        "colab_type": "code",
        "outputId": "3728ce24-38b5-486a-f1c4-bccb3ae70a87",
        "colab": {
          "base_uri": "https://localhost:8080/",
          "height": 122
        }
      },
      "source": [
        "from google.colab import drive\n",
        "drive.mount('/content/drive')"
      ],
      "execution_count": 0,
      "outputs": [
        {
          "output_type": "stream",
          "text": [
            "Go to this URL in a browser: https://accounts.google.com/o/oauth2/auth?client_id=947318989803-6bn6qk8qdgf4n4g3pfee6491hc0brc4i.apps.googleusercontent.com&redirect_uri=urn%3Aietf%3Awg%3Aoauth%3A2.0%3Aoob&scope=email%20https%3A%2F%2Fwww.googleapis.com%2Fauth%2Fdocs.test%20https%3A%2F%2Fwww.googleapis.com%2Fauth%2Fdrive%20https%3A%2F%2Fwww.googleapis.com%2Fauth%2Fdrive.photos.readonly%20https%3A%2F%2Fwww.googleapis.com%2Fauth%2Fpeopleapi.readonly&response_type=code\n",
            "\n",
            "Enter your authorization code:\n",
            "··········\n",
            "Mounted at /content/drive\n"
          ],
          "name": "stdout"
        }
      ]
    },
    {
      "cell_type": "code",
      "metadata": {
        "id": "tLReje_JfE_F",
        "colab_type": "code",
        "colab": {}
      },
      "source": [
        "#Defining the starting dataframe\n",
        "df = pd.read_csv('Personnel names - Sheet1.csv')\n",
        "df = df.rename(columns={'Unnamed: 2':'Working?','Unnamed: 3':'Hours Worked'}) \n",
        "df['Working?'] = False\n",
        "df['Hours Worked'] = 0\n",
        "df['Where?'] = 'Taunton, Massachusetts'\n",
        "df['Energy'] = 12\n",
        "df['Status'] = 'Worker'\n",
        "df.loc[0:24,'Status'] = 'Pilot'\n",
        "groups = dict()\n",
        "\n",
        "#Defining resources dataframe\n",
        "resources = pd.read_csv('Resources CSV - Sheet2.csv')\n",
        "\n",
        "vehicles = pd.read_csv('Resources CSV - Sheet1.csv')\n",
        "\n",
        "assets = pd.read_csv('Resources CSV - Sheet3.csv')\n",
        "\n",
        "facilities = pd.read_csv('facilities - Sheet1.csv')\n",
        "facilities['Running'] = True\n",
        "\n",
        "facilcost = pd.read_csv('Resources CSV - Sheet4.csv')\n",
        "\n",
        "resources.iloc[1,0] = 'Food/Water'\n",
        "resources.set_index('Resource')\n",
        "\n",
        "hours = 0\n"
      ],
      "execution_count": 0,
      "outputs": []
    },
    {
      "cell_type": "code",
      "metadata": {
        "id": "axrD-DPZmR1V",
        "colab_type": "code",
        "colab": {}
      },
      "source": [
        "def assignment(df, numberOfNormal, numberOfPilot, location, name):\n",
        "  group1 = []\n",
        "  count = 0\n",
        "  if numberOfPilot != 0:\n",
        "    count = 0\n",
        "    while count < 300 and len(group1) < numberOfPilot:\n",
        "        if df.loc[count, 'Working?'] == False:\n",
        "          group1.append(((df.iloc[count][0]),(df.iloc[count][1])))\n",
        "          df.loc[count, 'Working?'] = True\n",
        "          df.loc[count, 'Where?'] = location\n",
        "          count+=1\n",
        "        else:\n",
        "          count+=1\n",
        "  if numberOfNormal != 0:\n",
        "    count = 25\n",
        "    while count < 300 and len(group1) < numberOfNormal + numberOfPilot:\n",
        "        if df.loc[count, 'Working?'] == False:\n",
        "          group1.append(((df.iloc[count][0]),(df.iloc[count][1])))\n",
        "          df.loc[count, 'Working?'] = True\n",
        "          df.loc[count, 'Where?'] = location\n",
        "          count+=1\n",
        "        else:\n",
        "          count+=1\n",
        "    groups[name] = group1\n",
        "    return group1\n"
      ],
      "execution_count": 0,
      "outputs": []
    },
    {
      "cell_type": "code",
      "metadata": {
        "id": "1VMZUYkZkyKW",
        "colab_type": "code",
        "colab": {}
      },
      "source": [
        "def unassignment(df, group, location):\n",
        "  group1 = groups[group]\n",
        "  count = 0\n",
        "  while count < len(group1):\n",
        "    val = group1[count]\n",
        "    val1 = val[1]\n",
        "    df.loc[(df['Last Name'] == val1),'Working?'] = False \n",
        "    df.loc[(df['Last Name'] == val1),'Where?'] = location\n",
        "    count+=1\n",
        "  del groups[group]\n",
        "  return groups\n",
        "  "
      ],
      "execution_count": 0,
      "outputs": []
    },
    {
      "cell_type": "code",
      "metadata": {
        "id": "sBYtFB-5jEza",
        "colab_type": "code",
        "colab": {}
      },
      "source": [
        "def deploy(group, item, number: int, food, med, fuel, what, location):\n",
        "  if group == 'vehicles':\n",
        "    vehicles.loc[(vehicles['Resource'] == item),'Number Deployed']+= number\n",
        "    vehicles.loc[(vehicles['Resource'] == item),'Number Available']-= number\n",
        "    if what != 'none':\n",
        "      resources.loc[(resources['Resource'] == 'Food/Water'),'Available']-= food\n",
        "      resources.loc[(resources['Resource'] == 'Food/Water'),'Spent']+= food\n",
        "      resources.loc[(resources['Resource'] == 'Medicine units'),'Available']-= med\n",
        "      resources.loc[(resources['Resource'] == 'Medicine units'),'Spent']+= med\n",
        "      resources.loc[(resources['Resource'] == 'Fuel'),'Available']-= fuel\n",
        "      resources.loc[(resources['Resource'] == 'Fuel'),'Spent']+= fuel\n",
        "      facilities.loc[(facilities['Name/Facility'] == location),'Food/Water']+= food\n",
        "      facilities.loc[(facilities['Name/Facility'] == location),'Fuel']+= fuel\n",
        "      facilities.loc[(facilities['Name/Facility'] == location),'Medicine']+= med\n",
        "      facilities.loc[(facilities['Name/Facility'] == location),'Running'] = True\n",
        "  else:\n",
        "    assets.loc[(assets['Asset'] == item),'Number Deployed']+= number\n",
        "    assets.loc[(assets['Asset'] == item),'Number Available']-= number"
      ],
      "execution_count": 0,
      "outputs": []
    },
    {
      "cell_type": "code",
      "metadata": {
        "id": "D3pc5bEnjKeV",
        "colab_type": "code",
        "colab": {}
      },
      "source": [
        "def undeploy(group, item, number: int):\n",
        "  if group == 'vehicles':\n",
        "    vehicles.loc[(vehicles['Resource'] == item),'Number Deployed']-= number\n",
        "    vehicles.loc[(vehicles['Resource'] == item),'Number Available']+= number\n",
        "  else:\n",
        "    assets.loc[(assets['Asset'] == item),'Number Deployed']-= number\n",
        "    assets.loc[(assets['Asset'] == item),'Number Available']+= number"
      ],
      "execution_count": 0,
      "outputs": []
    },
    {
      "cell_type": "code",
      "metadata": {
        "id": "nyLewxqajZQi",
        "colab_type": "code",
        "colab": {}
      },
      "source": [
        "def turn():\n",
        "  #hours += 6\n",
        "  resources.loc[0,'Available'] -= 9500\n",
        "  resources.loc[0,'Spent'] += 9500\n",
        "  for item in range(0,2426):\n",
        "    if facilities.loc[item,'Running'] == True:\n",
        "        if facilities.loc[item,'Food/Water'] != 0:\n",
        "            #print(facilcost.loc[(facilcost['Type'] == facilities.loc[item,'Type']),'FW/Day'].sum())\n",
        "            facilities.loc[item,'Food/Water'] -= facilcost.loc[(facilcost['Type'] == facilities.loc[item,'Type']),'FW/Day'].sum()\n",
        "        if facilities.loc[item,'Fuel'] != 0:\n",
        "            facilities.loc[item,'Fuel'] -= facilcost.loc[(facilcost['Type'] == facilities.loc[item,'Type']),'Fuel/Day'].sum()\n",
        "        if facilities.loc[item,'Medicine'] != 0:\n",
        "            facilities.loc[item,'Medicine'] -= facilcost.loc[(facilcost['Type'] == facilities.loc[item,'Type']),'Med/Day'].sum()\n",
        "        if facilities.loc[item,'Food/Water'] < facilcost.loc[(facilcost['Type'] == facilities.loc[item,'Type']),'FW/Day'].sum():\n",
        "            facilities.loc[item,'Running'] = False\n",
        "        if facilities.loc[item,'Fuel'] < facilcost.loc[(facilcost['Type'] == facilities.loc[item,'Type']),'Fuel/Day'].sum():\n",
        "            facilities.loc[item,'Running'] = False\n",
        "        if facilities.loc[item,'Medicine'] < facilcost.loc[(facilcost['Type'] == facilities.loc[item,'Type']),'Med/Day'].sum():\n",
        "            facilities.loc[item,'Running'] = False\n",
        "    \n",
        "  for item in range(0,8):\n",
        "      resources.loc[0,'Available'] -= vehicles.loc[item,'Money Cost Per Turn']*vehicles.loc[item,'Number Deployed']\n",
        "      resources.loc[0,'Spent'] += vehicles.loc[item,'Money Cost Per Turn']*vehicles.loc[item,'Number Deployed']\n",
        "  for item in range(0,3):\n",
        "      resources.loc[3,'Available'] -= assets.loc[item,'Fuel Cost/Turn']*assets.loc[item,'Number Deployed']\n",
        "      resources.loc[3,'Spent'] += assets.loc[item,'Fuel Cost/Turn']*assets.loc[item,'Number Deployed']\n",
        "  need = []\n",
        "  for i in range(0,300):\n",
        "    if df.loc[i, 'Working?'] == True:\n",
        "      if df.loc[i, 'Hours Worked'] < 12:\n",
        "        df.loc[i, 'Hours Worked'] = df.loc[i, 'Hours Worked'] + 6\n",
        "      if df.loc[i, 'Energy'] > 0:\n",
        "        df.loc[i, 'Energy'] = df.loc[i, 'Energy'] - 6\n",
        "      for group in groups:\n",
        "        #print(groups[group][-1][0])\n",
        "        if ((df.loc[i,'First Name'] == groups[group][-1][0]) and (df.loc[i, 'Energy'] == 0)):\n",
        "          need.append(group)\n",
        "          #unassignment(df,group,input('Where do you want group {} to rest?'.format(groups)))\n",
        "        else:\n",
        "          continue\n",
        "  \n",
        "    elif df.loc[i, 'Working?'] == False and df.loc[i, 'Energy'] < 12 :\n",
        "      df.loc[i, 'Energy'] = df.loc[i, 'Energy'] + 6\n",
        "      df.loc[i, 'Hours Worked'] = df.loc[i, 'Hours Worked'] - 6\n",
        "  for group in need:\n",
        "    unassignment(df,group,input('Where do you want group {} to rest?'.format(groups)))\n"
      ],
      "execution_count": 0,
      "outputs": []
    },
    {
      "cell_type": "code",
      "metadata": {
        "id": "i3fNHPcbfj3S",
        "colab_type": "code",
        "colab": {}
      },
      "source": [
        "def main():\n",
        "    ask = input()\n",
        "    if ask == 'turn':\n",
        "        turn()\n",
        "        print('6 Hours added.')\n",
        "        return main()\n",
        "    elif ask == 'assign':\n",
        "        numbern = int(input('How many normal workers do you need?'))\n",
        "        numberp = int(input('How many pilots do you need?'))\n",
        "        where = input('Where are they going?')\n",
        "        name = input('What is the group name?')\n",
        "        assignment(df, numbern, numberp, where, name)\n",
        "        print('Group assigned. 12 hours of working available.')\n",
        "        return main()\n",
        "    elif ask == 'unassign':\n",
        "        who = input('Which group?{}'.format(groups))\n",
        "        where = input('Where should they rest?')\n",
        "        unassign(df,who,where)\n",
        "        print('Group unassigned.')\n",
        "        return main()\n",
        "    elif ask == 'available':\n",
        "        print(df.loc[df['Working?'] == False])\n",
        "        print('Amount not working')\n",
        "        print((df.loc[df['Working?'] == False]).shape[0])\n",
        "        return main()\n",
        "    elif ask == 'unavailable':\n",
        "        print(df.loc[df['Working?'] == True])\n",
        "        print('Amount working')\n",
        "        print((df.loc[df['Working?'] == True]).shape[0])\n",
        "        return main()\n",
        "    elif ask == 'df':\n",
        "        print(df)\n",
        "        return main() \n",
        "    elif ask == 'groups':\n",
        "        print(groups)\n",
        "        return main()\n",
        "    elif ask == 'end':\n",
        "        print('Thank you!')\n",
        "    elif ask == 'help':\n",
        "        print(' \\n prompts \\n -------\\n turn \\n assign \\n unassign \\n available \\n df \\n groups \\n end \\n deploy \\n undeploy \\n vehicles \\n resources \\n assets \\n spend \\n facilities')\n",
        "        return main()\n",
        "    elif ask == 'deploy':\n",
        "        what = input('vehicles or assets?')\n",
        "        if what == 'vehicles':\n",
        "            print(vehicles.loc[0:9])\n",
        "        if what == 'assets':\n",
        "            print(assets.loc[0:3])\n",
        "        item  = input('What vehicle or asset do you need?()')\n",
        "        number = int(input('How many?'))\n",
        "        food = int(input('how much food/water?'))\n",
        "        med = int(input('How much medecine?'))\n",
        "        fuel = int(input('How much fuel?'))\n",
        "        what1 = input('What type of facility is this going to?(Fire Station, Airfield, EMS, Hospital, Local Eocs, Powerplant, Shelter, State Eocs)')\n",
        "        location = input('Where is the name of this place?')\n",
        "        deploy(what,item,number,food,med,fuel,what1,location)\n",
        "        print('Deployed.')\n",
        "        return main()\n",
        "    elif ask == 'undeploy':\n",
        "        what = input('vehicles or assets?')\n",
        "        item  = input('What vehicle or asset are you recalling?')\n",
        "        number = int(input('How many?'))\n",
        "        undeploy(what,item,number)\n",
        "        return main()\n",
        "    elif ask == 'vehicles':\n",
        "        print(vehicles)\n",
        "        return main()\n",
        "    elif ask == 'resources':\n",
        "        print(resources)\n",
        "        return main()\n",
        "    elif ask == 'assets':\n",
        "        print(assets)\n",
        "        return main()\n",
        "    elif ask == 'spend':\n",
        "        which = input('What resource?')\n",
        "        amt = int(input('How much?'))\n",
        "        resources.loc[which] -= amt \n",
        "        print(amt, 'of {} was spent.'.format(which))\n",
        "        return main()\n",
        "    elif ask == 'facilities':\n",
        "        which = input('Which facility? (Fire Station, Airfield, EMS, Hospital, Local Eocs, Powerplant, Shelter, State Eocs)')\n",
        "        if which == 'all':\n",
        "            print(facilities.loc[['Name','Food/Water','Fuel','Medicine','Running']])\n",
        "        else:\n",
        "            try:\n",
        "                print(facilities.loc[facilities['Type'] == which])\n",
        "            except:\n",
        "                print('Not found.')\n",
        "        return main()\n",
        "         \n",
        "    else:\n",
        "      print('Query not found.')      \n",
        "      return main() "
      ],
      "execution_count": 0,
      "outputs": []
    },
    {
      "cell_type": "code",
      "metadata": {
        "id": "f2Bz3Y5lP8kj",
        "colab_type": "code",
        "colab": {}
      },
      "source": [
        "resources.set_index('Resource')\n",
        "path = '/content/drive/My Drive/BWSI-Remote-Sensing/Final_exercise/game1/resourceturn1.csv'\n",
        "resources.to_csv(path)"
      ],
      "execution_count": 0,
      "outputs": []
    },
    {
      "cell_type": "code",
      "metadata": {
        "id": "IpsthmgDmxu0",
        "colab_type": "code",
        "outputId": "144f9802-b6ed-413b-bffd-417b30b1980e",
        "colab": {
          "base_uri": "https://localhost:8080/",
          "height": 527
        }
      },
      "source": [
        "main()"
      ],
      "execution_count": 0,
      "outputs": [
        {
          "output_type": "error",
          "ename": "KeyboardInterrupt",
          "evalue": "ignored",
          "traceback": [
            "\u001b[0;31m---------------------------------------------------------------------------\u001b[0m",
            "\u001b[0;31mKeyboardInterrupt\u001b[0m                         Traceback (most recent call last)",
            "\u001b[0;32m/usr/local/lib/python3.6/dist-packages/ipykernel/kernelbase.py\u001b[0m in \u001b[0;36m_input_request\u001b[0;34m(self, prompt, ident, parent, password)\u001b[0m\n\u001b[1;32m    729\u001b[0m             \u001b[0;32mtry\u001b[0m\u001b[0;34m:\u001b[0m\u001b[0;34m\u001b[0m\u001b[0;34m\u001b[0m\u001b[0m\n\u001b[0;32m--> 730\u001b[0;31m                 \u001b[0mident\u001b[0m\u001b[0;34m,\u001b[0m \u001b[0mreply\u001b[0m \u001b[0;34m=\u001b[0m \u001b[0mself\u001b[0m\u001b[0;34m.\u001b[0m\u001b[0msession\u001b[0m\u001b[0;34m.\u001b[0m\u001b[0mrecv\u001b[0m\u001b[0;34m(\u001b[0m\u001b[0mself\u001b[0m\u001b[0;34m.\u001b[0m\u001b[0mstdin_socket\u001b[0m\u001b[0;34m,\u001b[0m \u001b[0;36m0\u001b[0m\u001b[0;34m)\u001b[0m\u001b[0;34m\u001b[0m\u001b[0;34m\u001b[0m\u001b[0m\n\u001b[0m\u001b[1;32m    731\u001b[0m             \u001b[0;32mexcept\u001b[0m \u001b[0mException\u001b[0m\u001b[0;34m:\u001b[0m\u001b[0;34m\u001b[0m\u001b[0;34m\u001b[0m\u001b[0m\n",
            "\u001b[0;32m/usr/local/lib/python3.6/dist-packages/jupyter_client/session.py\u001b[0m in \u001b[0;36mrecv\u001b[0;34m(self, socket, mode, content, copy)\u001b[0m\n\u001b[1;32m    802\u001b[0m         \u001b[0;32mtry\u001b[0m\u001b[0;34m:\u001b[0m\u001b[0;34m\u001b[0m\u001b[0;34m\u001b[0m\u001b[0m\n\u001b[0;32m--> 803\u001b[0;31m             \u001b[0mmsg_list\u001b[0m \u001b[0;34m=\u001b[0m \u001b[0msocket\u001b[0m\u001b[0;34m.\u001b[0m\u001b[0mrecv_multipart\u001b[0m\u001b[0;34m(\u001b[0m\u001b[0mmode\u001b[0m\u001b[0;34m,\u001b[0m \u001b[0mcopy\u001b[0m\u001b[0;34m=\u001b[0m\u001b[0mcopy\u001b[0m\u001b[0;34m)\u001b[0m\u001b[0;34m\u001b[0m\u001b[0;34m\u001b[0m\u001b[0m\n\u001b[0m\u001b[1;32m    804\u001b[0m         \u001b[0;32mexcept\u001b[0m \u001b[0mzmq\u001b[0m\u001b[0;34m.\u001b[0m\u001b[0mZMQError\u001b[0m \u001b[0;32mas\u001b[0m \u001b[0me\u001b[0m\u001b[0;34m:\u001b[0m\u001b[0;34m\u001b[0m\u001b[0;34m\u001b[0m\u001b[0m\n",
            "\u001b[0;32m/usr/local/lib/python3.6/dist-packages/zmq/sugar/socket.py\u001b[0m in \u001b[0;36mrecv_multipart\u001b[0;34m(self, flags, copy, track)\u001b[0m\n\u001b[1;32m    465\u001b[0m         \"\"\"\n\u001b[0;32m--> 466\u001b[0;31m         \u001b[0mparts\u001b[0m \u001b[0;34m=\u001b[0m \u001b[0;34m[\u001b[0m\u001b[0mself\u001b[0m\u001b[0;34m.\u001b[0m\u001b[0mrecv\u001b[0m\u001b[0;34m(\u001b[0m\u001b[0mflags\u001b[0m\u001b[0;34m,\u001b[0m \u001b[0mcopy\u001b[0m\u001b[0;34m=\u001b[0m\u001b[0mcopy\u001b[0m\u001b[0;34m,\u001b[0m \u001b[0mtrack\u001b[0m\u001b[0;34m=\u001b[0m\u001b[0mtrack\u001b[0m\u001b[0;34m)\u001b[0m\u001b[0;34m]\u001b[0m\u001b[0;34m\u001b[0m\u001b[0;34m\u001b[0m\u001b[0m\n\u001b[0m\u001b[1;32m    467\u001b[0m         \u001b[0;31m# have first part already, only loop while more to receive\u001b[0m\u001b[0;34m\u001b[0m\u001b[0;34m\u001b[0m\u001b[0;34m\u001b[0m\u001b[0m\n",
            "\u001b[0;32mzmq/backend/cython/socket.pyx\u001b[0m in \u001b[0;36mzmq.backend.cython.socket.Socket.recv\u001b[0;34m()\u001b[0m\n",
            "\u001b[0;32mzmq/backend/cython/socket.pyx\u001b[0m in \u001b[0;36mzmq.backend.cython.socket.Socket.recv\u001b[0;34m()\u001b[0m\n",
            "\u001b[0;32mzmq/backend/cython/socket.pyx\u001b[0m in \u001b[0;36mzmq.backend.cython.socket._recv_copy\u001b[0;34m()\u001b[0m\n",
            "\u001b[0;32m/usr/local/lib/python3.6/dist-packages/zmq/backend/cython/checkrc.pxd\u001b[0m in \u001b[0;36mzmq.backend.cython.checkrc._check_rc\u001b[0;34m()\u001b[0m\n",
            "\u001b[0;31mKeyboardInterrupt\u001b[0m: ",
            "\nDuring handling of the above exception, another exception occurred:\n",
            "\u001b[0;31mKeyboardInterrupt\u001b[0m                         Traceback (most recent call last)",
            "\u001b[0;32m<ipython-input-12-263240bbee7e>\u001b[0m in \u001b[0;36m<module>\u001b[0;34m()\u001b[0m\n\u001b[0;32m----> 1\u001b[0;31m \u001b[0mmain\u001b[0m\u001b[0;34m(\u001b[0m\u001b[0;34m)\u001b[0m\u001b[0;34m\u001b[0m\u001b[0;34m\u001b[0m\u001b[0m\n\u001b[0m",
            "\u001b[0;32m<ipython-input-11-80623aadf48c>\u001b[0m in \u001b[0;36mmain\u001b[0;34m()\u001b[0m\n\u001b[1;32m      1\u001b[0m \u001b[0;32mdef\u001b[0m \u001b[0mmain\u001b[0m\u001b[0;34m(\u001b[0m\u001b[0;34m)\u001b[0m\u001b[0;34m:\u001b[0m\u001b[0;34m\u001b[0m\u001b[0;34m\u001b[0m\u001b[0m\n\u001b[0;32m----> 2\u001b[0;31m     \u001b[0mask\u001b[0m \u001b[0;34m=\u001b[0m \u001b[0minput\u001b[0m\u001b[0;34m(\u001b[0m\u001b[0;34m)\u001b[0m\u001b[0;34m\u001b[0m\u001b[0;34m\u001b[0m\u001b[0m\n\u001b[0m\u001b[1;32m      3\u001b[0m     \u001b[0;32mif\u001b[0m \u001b[0mask\u001b[0m \u001b[0;34m==\u001b[0m \u001b[0;34m'turn'\u001b[0m\u001b[0;34m:\u001b[0m\u001b[0;34m\u001b[0m\u001b[0;34m\u001b[0m\u001b[0m\n\u001b[1;32m      4\u001b[0m         \u001b[0mturn\u001b[0m\u001b[0;34m(\u001b[0m\u001b[0;34m)\u001b[0m\u001b[0;34m\u001b[0m\u001b[0;34m\u001b[0m\u001b[0m\n\u001b[1;32m      5\u001b[0m         \u001b[0mprint\u001b[0m\u001b[0;34m(\u001b[0m\u001b[0;34m'6 Hours added.'\u001b[0m\u001b[0;34m)\u001b[0m\u001b[0;34m\u001b[0m\u001b[0;34m\u001b[0m\u001b[0m\n",
            "\u001b[0;32m/usr/local/lib/python3.6/dist-packages/ipykernel/kernelbase.py\u001b[0m in \u001b[0;36mraw_input\u001b[0;34m(self, prompt)\u001b[0m\n\u001b[1;32m    703\u001b[0m             \u001b[0mself\u001b[0m\u001b[0;34m.\u001b[0m\u001b[0m_parent_ident\u001b[0m\u001b[0;34m,\u001b[0m\u001b[0;34m\u001b[0m\u001b[0;34m\u001b[0m\u001b[0m\n\u001b[1;32m    704\u001b[0m             \u001b[0mself\u001b[0m\u001b[0;34m.\u001b[0m\u001b[0m_parent_header\u001b[0m\u001b[0;34m,\u001b[0m\u001b[0;34m\u001b[0m\u001b[0;34m\u001b[0m\u001b[0m\n\u001b[0;32m--> 705\u001b[0;31m             \u001b[0mpassword\u001b[0m\u001b[0;34m=\u001b[0m\u001b[0;32mFalse\u001b[0m\u001b[0;34m,\u001b[0m\u001b[0;34m\u001b[0m\u001b[0;34m\u001b[0m\u001b[0m\n\u001b[0m\u001b[1;32m    706\u001b[0m         )\n\u001b[1;32m    707\u001b[0m \u001b[0;34m\u001b[0m\u001b[0m\n",
            "\u001b[0;32m/usr/local/lib/python3.6/dist-packages/ipykernel/kernelbase.py\u001b[0m in \u001b[0;36m_input_request\u001b[0;34m(self, prompt, ident, parent, password)\u001b[0m\n\u001b[1;32m    733\u001b[0m             \u001b[0;32mexcept\u001b[0m \u001b[0mKeyboardInterrupt\u001b[0m\u001b[0;34m:\u001b[0m\u001b[0;34m\u001b[0m\u001b[0;34m\u001b[0m\u001b[0m\n\u001b[1;32m    734\u001b[0m                 \u001b[0;31m# re-raise KeyboardInterrupt, to truncate traceback\u001b[0m\u001b[0;34m\u001b[0m\u001b[0;34m\u001b[0m\u001b[0;34m\u001b[0m\u001b[0m\n\u001b[0;32m--> 735\u001b[0;31m                 \u001b[0;32mraise\u001b[0m \u001b[0mKeyboardInterrupt\u001b[0m\u001b[0;34m\u001b[0m\u001b[0;34m\u001b[0m\u001b[0m\n\u001b[0m\u001b[1;32m    736\u001b[0m             \u001b[0;32melse\u001b[0m\u001b[0;34m:\u001b[0m\u001b[0;34m\u001b[0m\u001b[0;34m\u001b[0m\u001b[0m\n\u001b[1;32m    737\u001b[0m                 \u001b[0;32mbreak\u001b[0m\u001b[0;34m\u001b[0m\u001b[0;34m\u001b[0m\u001b[0m\n",
            "\u001b[0;31mKeyboardInterrupt\u001b[0m: "
          ]
        }
      ]
    }
  ]
}
